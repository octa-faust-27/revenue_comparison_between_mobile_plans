{
 "cells": [
  {
   "cell_type": "markdown",
   "metadata": {
    "id": "3rYiDeEH0q0f"
   },
   "source": [
    "# ¿Cuál es la mejor tarifa?\n",
    "\n",
    "Trabajas como analista para el operador de telecomunicaciones Megaline. La empresa ofrece a sus clientes dos tarifas de prepago, Surf y Ultimate. El departamento comercial quiere saber cuál de las tarifas genera más ingresos para poder ajustar el presupuesto de publicidad.\n",
    "\n",
    "Vas a realizar un análisis preliminar de las tarifas basado en una selección de clientes relativamente pequeña. Tendrás los datos de 500 clientes de Megaline: quiénes son los clientes, de dónde son, qué tarifa usan, así como la cantidad de llamadas que hicieron y los mensajes de texto que enviaron en 2018. Tu trabajo es analizar el comportamiento de los clientes y determinar qué tarifa de prepago genera más ingresos."
   ]
  },
  {
   "cell_type": "markdown",
   "metadata": {
    "id": "MQi4IPy70q0y"
   },
   "source": [
    "## Inicialización"
   ]
  },
  {
   "cell_type": "code",
   "execution_count": 1,
   "metadata": {
    "id": "MtYIuBxu0q0z"
   },
   "outputs": [],
   "source": [
    "# Cargar todas las librerías\n",
    "import pandas as pd\n",
    "import matplotlib.pyplot as plt\n",
    "import seaborn as sns\n",
    "import numpy as np\n",
    "import math as mt\n",
    "from math import factorial\n",
    "from scipy import stats as st"
   ]
  },
  {
   "cell_type": "markdown",
   "metadata": {
    "id": "4ysWWC5i0q00"
   },
   "source": [
    "## Cargar datos"
   ]
  },
  {
   "cell_type": "code",
   "execution_count": 2,
   "metadata": {
    "id": "CCqPW7rS0q01"
   },
   "outputs": [],
   "source": [
    "# Carga los archivos de datos en diferentes DataFrames\n",
    "df_cals = pd.read_csv('/datasets/megaline_calls.csv')\n",
    "df_int = pd.read_csv('/datasets/megaline_internet.csv')\n",
    "df_mess = pd.read_csv('/datasets/megaline_messages.csv')\n",
    "df_plans = pd.read_csv('/datasets/megaline_plans.csv')\n",
    "df_usrs = pd.read_csv('/datasets/megaline_users.csv')\n"
   ]
  },
  {
   "cell_type": "markdown",
   "metadata": {
    "id": "69qqoJ3r0q01"
   },
   "source": [
    "## Preparar los datos"
   ]
  },
  {
   "cell_type": "markdown",
   "metadata": {
    "id": "ohBhimvH0q01"
   },
   "source": [
    "## Tarifas"
   ]
  },
  {
   "cell_type": "code",
   "execution_count": 3,
   "metadata": {
    "id": "GptqP3Q40q02"
   },
   "outputs": [
    {
     "name": "stdout",
     "output_type": "stream",
     "text": [
      "Data frame megaline_plans\n",
      "<class 'pandas.core.frame.DataFrame'>\n",
      "RangeIndex: 2 entries, 0 to 1\n",
      "Data columns (total 8 columns):\n",
      " #   Column                 Non-Null Count  Dtype  \n",
      "---  ------                 --------------  -----  \n",
      " 0   messages_included      2 non-null      int64  \n",
      " 1   mb_per_month_included  2 non-null      int64  \n",
      " 2   minutes_included       2 non-null      int64  \n",
      " 3   usd_monthly_pay        2 non-null      int64  \n",
      " 4   usd_per_gb             2 non-null      int64  \n",
      " 5   usd_per_message        2 non-null      float64\n",
      " 6   usd_per_minute         2 non-null      float64\n",
      " 7   plan_name              2 non-null      object \n",
      "dtypes: float64(2), int64(5), object(1)\n",
      "memory usage: 256.0+ bytes\n"
     ]
    }
   ],
   "source": [
    "# Imprime la información general/resumida sobre el DataFrame de las tarifas\n",
    "print('Data frame megaline_plans')\n",
    "df_plans.info()"
   ]
  },
  {
   "cell_type": "code",
   "execution_count": 4,
   "metadata": {},
   "outputs": [
    {
     "name": "stdout",
     "output_type": "stream",
     "text": [
      "\n",
      "Pequeña muestra de megaline_plans.\n",
      "   messages_included  mb_per_month_included  minutes_included  \\\n",
      "0                 50                  15360               500   \n",
      "1               1000                  30720              3000   \n",
      "\n",
      "   usd_monthly_pay  usd_per_gb  usd_per_message  usd_per_minute plan_name  \n",
      "0               20          10             0.03            0.03      surf  \n",
      "1               70           7             0.01            0.01  ultimate  \n"
     ]
    }
   ],
   "source": [
    "#df_plans = pd.read_csv('/datasets/megaline_plans.csv')\n",
    "print()\n",
    "print('Pequeña muestra de megaline_plans.')\n",
    "\n",
    "print(df_plans.head())"
   ]
  },
  {
   "cell_type": "markdown",
   "metadata": {},
   "source": [
    "Megaline plans. Las columnas están correctos en sus valores int, float y obj. Ninguna necesita un cambio."
   ]
  },
  {
   "cell_type": "markdown",
   "metadata": {
    "id": "R3C05i1l0q03"
   },
   "source": [
    "## Corregir datos"
   ]
  },
  {
   "cell_type": "markdown",
   "metadata": {
    "id": "bIi8StZI0q03"
   },
   "source": [
    "No se observaron correcciones de datos."
   ]
  },
  {
   "cell_type": "markdown",
   "metadata": {
    "id": "LJir7bml0q03"
   },
   "source": [
    "## Enriquecer los datos"
   ]
  },
  {
   "cell_type": "code",
   "execution_count": 5,
   "metadata": {},
   "outputs": [],
   "source": [
    "df_plans['mb_per_month_included'] = df_plans['mb_per_month_included']/1024"
   ]
  },
  {
   "cell_type": "code",
   "execution_count": 6,
   "metadata": {},
   "outputs": [
    {
     "name": "stdout",
     "output_type": "stream",
     "text": [
      "   messages_included  mb_per_month_included  minutes_included  \\\n",
      "0                 50                   15.0               500   \n",
      "1               1000                   30.0              3000   \n",
      "\n",
      "   usd_monthly_pay  usd_per_gb  usd_per_message  usd_per_minute plan_name  \n",
      "0               20          10             0.03            0.03      surf  \n",
      "1               70           7             0.01            0.01  ultimate  \n"
     ]
    }
   ],
   "source": [
    "print(df_plans.head())"
   ]
  },
  {
   "cell_type": "markdown",
   "metadata": {
    "id": "eqADpCfg0q04"
   },
   "source": [
    "No se observaron puntos de enriquecimiento los datos."
   ]
  },
  {
   "cell_type": "markdown",
   "metadata": {
    "id": "1n2X6WXf0q04"
   },
   "source": [
    "## Usuarios/as"
   ]
  },
  {
   "cell_type": "code",
   "execution_count": 7,
   "metadata": {
    "id": "2NgjWFqx0q05",
    "scrolled": true
   },
   "outputs": [
    {
     "name": "stdout",
     "output_type": "stream",
     "text": [
      "info megaline_messages.\n",
      "<class 'pandas.core.frame.DataFrame'>\n",
      "RangeIndex: 500 entries, 0 to 499\n",
      "Data columns (total 8 columns):\n",
      " #   Column      Non-Null Count  Dtype \n",
      "---  ------      --------------  ----- \n",
      " 0   user_id     500 non-null    int64 \n",
      " 1   first_name  500 non-null    object\n",
      " 2   last_name   500 non-null    object\n",
      " 3   age         500 non-null    int64 \n",
      " 4   city        500 non-null    object\n",
      " 5   reg_date    500 non-null    object\n",
      " 6   plan        500 non-null    object\n",
      " 7   churn_date  34 non-null     object\n",
      "dtypes: int64(2), object(6)\n",
      "memory usage: 31.4+ KB\n"
     ]
    }
   ],
   "source": [
    "# Imprime la información general/resumida sobre el DataFrame de usuarios\n",
    "print('info megaline_messages.')\n",
    "df_usrs.info()"
   ]
  },
  {
   "cell_type": "code",
   "execution_count": 8,
   "metadata": {},
   "outputs": [
    {
     "name": "stdout",
     "output_type": "stream",
     "text": [
      "Número de filas duplicadas (usuarios):  0\n"
     ]
    }
   ],
   "source": [
    "#Se revisa que no existan duplicados\n",
    "print('Número de filas duplicadas (usuarios): ', df_usrs.duplicated().sum())\n"
   ]
  },
  {
   "cell_type": "code",
   "execution_count": 9,
   "metadata": {
    "id": "1IN1L9uh0q05"
   },
   "outputs": [
    {
     "name": "stdout",
     "output_type": "stream",
     "text": [
      "Pequeña muestra de megaline_messages.\n",
      "     user_id first_name last_name  age  \\\n",
      "85      1085    Ignacio   Bennett   48   \n",
      "419     1419      Bryon    Gordon   45   \n",
      "173     1173    Tristan      Cain   27   \n",
      "318     1318       Huey     Walsh   54   \n",
      "430     1430      Myung      Pugh   63   \n",
      "\n",
      "                                          city    reg_date      plan  \\\n",
      "85       Atlanta-Sandy Springs-Roswell, GA MSA  2018-07-19  ultimate   \n",
      "419              Phoenix-Mesa-Chandler, AZ MSA  2018-03-29      surf   \n",
      "173       Oxnard-Thousand Oaks-Ventura, CA MSA  2018-09-28      surf   \n",
      "318      Atlanta-Sandy Springs-Roswell, GA MSA  2018-09-29      surf   \n",
      "430  New York-Newark-Jersey City, NY-NJ-PA MSA  2018-12-07      surf   \n",
      "\n",
      "    churn_date  \n",
      "85         NaN  \n",
      "419        NaN  \n",
      "173        NaN  \n",
      "318        NaN  \n",
      "430        NaN  \n"
     ]
    },
    {
     "data": {
      "text/html": [
       "<div>\n",
       "<style scoped>\n",
       "    .dataframe tbody tr th:only-of-type {\n",
       "        vertical-align: middle;\n",
       "    }\n",
       "\n",
       "    .dataframe tbody tr th {\n",
       "        vertical-align: top;\n",
       "    }\n",
       "\n",
       "    .dataframe thead th {\n",
       "        text-align: right;\n",
       "    }\n",
       "</style>\n",
       "<table border=\"1\" class=\"dataframe\">\n",
       "  <thead>\n",
       "    <tr style=\"text-align: right;\">\n",
       "      <th></th>\n",
       "      <th>user_id</th>\n",
       "      <th>age</th>\n",
       "    </tr>\n",
       "  </thead>\n",
       "  <tbody>\n",
       "    <tr>\n",
       "      <th>count</th>\n",
       "      <td>500.000000</td>\n",
       "      <td>500.000000</td>\n",
       "    </tr>\n",
       "    <tr>\n",
       "      <th>mean</th>\n",
       "      <td>1249.500000</td>\n",
       "      <td>45.486000</td>\n",
       "    </tr>\n",
       "    <tr>\n",
       "      <th>std</th>\n",
       "      <td>144.481833</td>\n",
       "      <td>16.972269</td>\n",
       "    </tr>\n",
       "    <tr>\n",
       "      <th>min</th>\n",
       "      <td>1000.000000</td>\n",
       "      <td>18.000000</td>\n",
       "    </tr>\n",
       "    <tr>\n",
       "      <th>25%</th>\n",
       "      <td>1124.750000</td>\n",
       "      <td>30.000000</td>\n",
       "    </tr>\n",
       "    <tr>\n",
       "      <th>50%</th>\n",
       "      <td>1249.500000</td>\n",
       "      <td>46.000000</td>\n",
       "    </tr>\n",
       "    <tr>\n",
       "      <th>75%</th>\n",
       "      <td>1374.250000</td>\n",
       "      <td>61.000000</td>\n",
       "    </tr>\n",
       "    <tr>\n",
       "      <th>max</th>\n",
       "      <td>1499.000000</td>\n",
       "      <td>75.000000</td>\n",
       "    </tr>\n",
       "  </tbody>\n",
       "</table>\n",
       "</div>"
      ],
      "text/plain": [
       "           user_id         age\n",
       "count   500.000000  500.000000\n",
       "mean   1249.500000   45.486000\n",
       "std     144.481833   16.972269\n",
       "min    1000.000000   18.000000\n",
       "25%    1124.750000   30.000000\n",
       "50%    1249.500000   46.000000\n",
       "75%    1374.250000   61.000000\n",
       "max    1499.000000   75.000000"
      ]
     },
     "execution_count": 9,
     "metadata": {},
     "output_type": "execute_result"
    }
   ],
   "source": [
    "# Imprime una muestra de datos para usuarios\n",
    "#df_usrs = pd.read_csv('/datasets/megaline_users.csv')\n",
    "print('Pequeña muestra de megaline_messages.')\n",
    "print(df_usrs.sample(5))\n",
    "df_usrs.describe()\n"
   ]
  },
  {
   "cell_type": "markdown",
   "metadata": {},
   "source": [
    "Megaline users. La columna \"user_id\" tiene el id de los usuarios en formato int, se podría pasar a obj. Ya observamos que todas las columnas \"user_id\" se encuentran en formato int. \n",
    "Las columnas \"first_name\", \"last_name\", \"age\", \"city\", \"plan\", no necesitan cambio de formato. \n",
    "La columna \"reg_date\" está en formato obj y debe ser pasado a formato dtype datetime64. día/mes/año.\n",
    "La columna \"churn_date\" está en formato obj y debe ser pasado a formato dtype datetime64. Este valor es la fecha en la que el usuario dejó de usar el servicio, en el valor ausente, la tarifa se estaba usando cuando fue extraída en esta base de datos, esto quiere decir, que el usuario sigue usando el servicio hasta la fecha actual. \"27/04/2025\".  "
   ]
  },
  {
   "cell_type": "markdown",
   "metadata": {},
   "source": [
    "Con la revisión del número de filas duplicadas podemos descartar que usuarios estén multiplicados.\n",
    "Y con el método describe, podemos observar que las edades de los usuarios van desde 18 años hasta 75 años. Además que la edad promedio de los usuarios es aproximadamente 45 años. Y que la antiguedad de los usuarios de la mayoría de los datos (más del 75%) está entre 2638 a 2828 días. "
   ]
  },
  {
   "cell_type": "markdown",
   "metadata": {
    "id": "BX5FQh_I0q06"
   },
   "source": [
    "### Corregir los datos"
   ]
  },
  {
   "cell_type": "code",
   "execution_count": 10,
   "metadata": {},
   "outputs": [
    {
     "name": "stdout",
     "output_type": "stream",
     "text": [
      "\n",
      "\n",
      "\n",
      "<class 'pandas.core.frame.DataFrame'>\n",
      "RangeIndex: 500 entries, 0 to 499\n",
      "Data columns (total 8 columns):\n",
      " #   Column      Non-Null Count  Dtype         \n",
      "---  ------      --------------  -----         \n",
      " 0   user_id     500 non-null    object        \n",
      " 1   first_name  500 non-null    object        \n",
      " 2   last_name   500 non-null    object        \n",
      " 3   age         500 non-null    int64         \n",
      " 4   city        500 non-null    object        \n",
      " 5   reg_date    500 non-null    datetime64[ns]\n",
      " 6   plan        500 non-null    object        \n",
      " 7   churn_date  500 non-null    datetime64[ns]\n",
      "dtypes: datetime64[ns](2), int64(1), object(5)\n",
      "memory usage: 31.4+ KB\n"
     ]
    }
   ],
   "source": [
    "print('')\n",
    "#En primer lugar se convierte la columna 'user_id' de int a str.\n",
    "df_usrs['user_id'] = df_usrs['user_id'].astype('str')\n",
    "#En segundo lugar, se convierten las columnas 'churn_date' y 'reg_date' al formato datetime64.\n",
    "df_usrs['churn_date'] = pd.to_datetime(df_usrs['churn_date'], format= '%Y-%m-%d')\n",
    "df_usrs['reg_date'] = pd.to_datetime(df_usrs['reg_date'], format = '%Y-%m-%d')\n",
    "print('')\n",
    "#En tercer lugar, se gestiona los valores NA por la fecha '2025-12-31' para que se entienda que la persona tiene todavía el servicio.\n",
    "df_usrs['churn_date'] = df_usrs['churn_date'].fillna(pd.Timestamp('2025-12-31'))\n",
    "print('')\n",
    "df_usrs.info()"
   ]
  },
  {
   "cell_type": "markdown",
   "metadata": {
    "id": "ycwuARJp0q07"
   },
   "source": [
    "### Enriquecer los datos"
   ]
  },
  {
   "cell_type": "code",
   "execution_count": 11,
   "metadata": {
    "id": "iq0AaBS90q08"
   },
   "outputs": [
    {
     "name": "stdout",
     "output_type": "stream",
     "text": [
      "<class 'pandas.core.frame.DataFrame'>\n",
      "RangeIndex: 500 entries, 0 to 499\n",
      "Data columns (total 9 columns):\n",
      " #   Column      Non-Null Count  Dtype         \n",
      "---  ------      --------------  -----         \n",
      " 0   user_id     500 non-null    object        \n",
      " 1   first_name  500 non-null    object        \n",
      " 2   last_name   500 non-null    object        \n",
      " 3   age         500 non-null    int64         \n",
      " 4   city        500 non-null    object        \n",
      " 5   reg_date    500 non-null    datetime64[ns]\n",
      " 6   plan        500 non-null    object        \n",
      " 7   churn_date  500 non-null    datetime64[ns]\n",
      " 8   status      500 non-null    bool          \n",
      "dtypes: bool(1), datetime64[ns](2), int64(1), object(5)\n",
      "memory usage: 31.9+ KB\n",
      "444   2751 days\n",
      "385   2903 days\n",
      "167   2826 days\n",
      "391   2668 days\n",
      "467    291 days\n",
      "114   2720 days\n",
      "362   2904 days\n",
      "428   2626 days\n",
      "207   2566 days\n",
      "7     2730 days\n",
      "Name: antiguedad, dtype: timedelta64[ns]\n",
      "<class 'pandas.core.frame.DataFrame'>\n",
      "RangeIndex: 500 entries, 0 to 499\n",
      "Data columns (total 10 columns):\n",
      " #   Column      Non-Null Count  Dtype          \n",
      "---  ------      --------------  -----          \n",
      " 0   user_id     500 non-null    object         \n",
      " 1   first_name  500 non-null    object         \n",
      " 2   last_name   500 non-null    object         \n",
      " 3   age         500 non-null    int64          \n",
      " 4   city        500 non-null    object         \n",
      " 5   reg_date    500 non-null    datetime64[ns] \n",
      " 6   plan        500 non-null    object         \n",
      " 7   churn_date  500 non-null    datetime64[ns] \n",
      " 8   status      500 non-null    bool           \n",
      " 9   antiguedad  500 non-null    timedelta64[ns]\n",
      "dtypes: bool(1), datetime64[ns](2), int64(1), object(5), timedelta64[ns](1)\n",
      "memory usage: 35.8+ KB\n"
     ]
    }
   ],
   "source": [
    "#En primer lugar, agregar una columna que indique si sigue activo o no, el usuario.\n",
    "df_usrs['status'] = df_usrs['churn_date'] == '2025-12-31'\n",
    "df_usrs.info()\n",
    "#En segundo lugar, agregar una columna que indique la cantidad de tiempo ha pasado desde su última actividad.\n",
    "df_usrs['antiguedad'] = df_usrs['churn_date'] - df_usrs['reg_date']\n",
    "print(df_usrs['antiguedad'].sample(10))\n",
    "df_usrs.info()"
   ]
  },
  {
   "cell_type": "markdown",
   "metadata": {
    "id": "o7MeKCid0q08"
   },
   "source": [
    "## Llamadas"
   ]
  },
  {
   "cell_type": "code",
   "execution_count": 12,
   "metadata": {
    "id": "6dDlnoDm0q08"
   },
   "outputs": [
    {
     "name": "stdout",
     "output_type": "stream",
     "text": [
      "Información de megaline_calls.\n",
      "<class 'pandas.core.frame.DataFrame'>\n",
      "RangeIndex: 137735 entries, 0 to 137734\n",
      "Data columns (total 4 columns):\n",
      " #   Column     Non-Null Count   Dtype  \n",
      "---  ------     --------------   -----  \n",
      " 0   id         137735 non-null  object \n",
      " 1   user_id    137735 non-null  int64  \n",
      " 2   call_date  137735 non-null  object \n",
      " 3   duration   137735 non-null  float64\n",
      "dtypes: float64(1), int64(1), object(2)\n",
      "memory usage: 4.2+ MB\n"
     ]
    }
   ],
   "source": [
    "# Imprime la información general/resumida sobre el DataFrame de las llamadas\n",
    "print('Información de megaline_calls.')\n",
    "df_cals.info()"
   ]
  },
  {
   "cell_type": "code",
   "execution_count": 13,
   "metadata": {
    "id": "kuh1vlNB0q09"
   },
   "outputs": [
    {
     "name": "stdout",
     "output_type": "stream",
     "text": [
      "Pequeña muestra de megaline_calls.\n",
      "             id  user_id   call_date  duration\n",
      "18906  1072_328     1072  2018-08-09      5.12\n",
      "95196  1337_122     1337  2018-12-09     14.28\n",
      "44182  1160_198     1160  2018-10-29      0.00\n",
      "30648  1114_592     1114  2018-09-20     11.22\n",
      "47737  1172_328     1172  2018-10-31      3.31\n"
     ]
    }
   ],
   "source": [
    "# Imprime una muestra de datos para las llamadas\n",
    "print('Pequeña muestra de megaline_calls.')\n",
    "print(df_cals.sample(5))\n",
    "#df_cals.info()"
   ]
  },
  {
   "cell_type": "code",
   "execution_count": 14,
   "metadata": {},
   "outputs": [
    {
     "name": "stdout",
     "output_type": "stream",
     "text": [
      "Número de filas duplicadas (llamadas):  0\n"
     ]
    }
   ],
   "source": [
    "#Se revisa que no existan duplicados\n",
    "print('Número de filas duplicadas (llamadas): ', df_cals.duplicated().sum())"
   ]
  },
  {
   "cell_type": "code",
   "execution_count": 80,
   "metadata": {},
   "outputs": [
    {
     "data": {
      "text/html": [
       "<div>\n",
       "<style scoped>\n",
       "    .dataframe tbody tr th:only-of-type {\n",
       "        vertical-align: middle;\n",
       "    }\n",
       "\n",
       "    .dataframe tbody tr th {\n",
       "        vertical-align: top;\n",
       "    }\n",
       "\n",
       "    .dataframe thead th {\n",
       "        text-align: right;\n",
       "    }\n",
       "</style>\n",
       "<table border=\"1\" class=\"dataframe\">\n",
       "  <thead>\n",
       "    <tr style=\"text-align: right;\">\n",
       "      <th></th>\n",
       "      <th>duration</th>\n",
       "      <th>month</th>\n",
       "      <th>year</th>\n",
       "    </tr>\n",
       "  </thead>\n",
       "  <tbody>\n",
       "    <tr>\n",
       "      <th>count</th>\n",
       "      <td>110901.000000</td>\n",
       "      <td>110901.000000</td>\n",
       "      <td>110901.0</td>\n",
       "    </tr>\n",
       "    <tr>\n",
       "      <th>mean</th>\n",
       "      <td>8.875907</td>\n",
       "      <td>9.319231</td>\n",
       "      <td>2018.0</td>\n",
       "    </tr>\n",
       "    <tr>\n",
       "      <th>std</th>\n",
       "      <td>5.355181</td>\n",
       "      <td>2.415025</td>\n",
       "      <td>0.0</td>\n",
       "    </tr>\n",
       "    <tr>\n",
       "      <th>min</th>\n",
       "      <td>1.000000</td>\n",
       "      <td>1.000000</td>\n",
       "      <td>2018.0</td>\n",
       "    </tr>\n",
       "    <tr>\n",
       "      <th>25%</th>\n",
       "      <td>5.000000</td>\n",
       "      <td>8.000000</td>\n",
       "      <td>2018.0</td>\n",
       "    </tr>\n",
       "    <tr>\n",
       "      <th>50%</th>\n",
       "      <td>8.000000</td>\n",
       "      <td>10.000000</td>\n",
       "      <td>2018.0</td>\n",
       "    </tr>\n",
       "    <tr>\n",
       "      <th>75%</th>\n",
       "      <td>12.000000</td>\n",
       "      <td>11.000000</td>\n",
       "      <td>2018.0</td>\n",
       "    </tr>\n",
       "    <tr>\n",
       "      <th>max</th>\n",
       "      <td>38.000000</td>\n",
       "      <td>12.000000</td>\n",
       "      <td>2018.0</td>\n",
       "    </tr>\n",
       "  </tbody>\n",
       "</table>\n",
       "</div>"
      ],
      "text/plain": [
       "            duration          month      year\n",
       "count  110901.000000  110901.000000  110901.0\n",
       "mean        8.875907       9.319231    2018.0\n",
       "std         5.355181       2.415025       0.0\n",
       "min         1.000000       1.000000    2018.0\n",
       "25%         5.000000       8.000000    2018.0\n",
       "50%         8.000000      10.000000    2018.0\n",
       "75%        12.000000      11.000000    2018.0\n",
       "max        38.000000      12.000000    2018.0"
      ]
     },
     "execution_count": 80,
     "metadata": {},
     "output_type": "execute_result"
    }
   ],
   "source": [
    "df_cals.describe()"
   ]
  },
  {
   "cell_type": "markdown",
   "metadata": {},
   "source": [
    " Megaline calls\n",
    " La columna \"call_date\" está en dtype obj y al ser una fecha se debe de pasar a dtype 'datetime64'.\n",
    " La columna \"id\" está correcto presenta no inconvenientes mantenerlo en formato obj.\n",
    " El \"user_id\" está en dtype int podría cambiarse a obj sin problema pues no se realizarán operaciones aritméticas con este valor, o mantenerse en int si el análisis con las otras tablas es del mismo formato (Con el fin de no realizar tanta conversión).\n",
    " La columna \"duration\" como dtype float presenta no inconvenientes ya que se sumarán las duraciones por mes y se calculará después el importe extra.\n",
    " \n",
    "Considerando que el formato está en float y la condición de megaline de redondear los valores hacia arriba, en el minuto 100.01 ya representará el minuto 101."
   ]
  },
  {
   "cell_type": "markdown",
   "metadata": {},
   "source": [
    "Al revisar los valores duplicados, podemos descartar que existan filas duplicadas de los usuarios que dupliquen resultados. Al revisar el dataframe con el método describe se detectan valores 0 en duration, los cuales podrían segmentarse para analizar si representan una llamada de 1 minuto, o tienen una razón diferente de existir."
   ]
  },
  {
   "cell_type": "markdown",
   "metadata": {},
   "source": [
    "Al tener valores de duration 0 reemplazaría ese valor por NaN y analizaría si tiene algún patrón relevante, sino, los eliminaría."
   ]
  },
  {
   "cell_type": "code",
   "execution_count": 16,
   "metadata": {},
   "outputs": [],
   "source": [
    "df_cals['duration'] = df_cals['duration'].replace(0, np.nan)"
   ]
  },
  {
   "cell_type": "code",
   "execution_count": 17,
   "metadata": {},
   "outputs": [
    {
     "name": "stdout",
     "output_type": "stream",
     "text": [
      "              id  user_id   call_date  duration\n",
      "19        1001_4     1001  2018-12-05       NaN\n",
      "25       1001_13     1001  2018-12-24       NaN\n",
      "31       1001_30     1001  2018-10-17       NaN\n",
      "32       1001_31     1001  2018-11-03       NaN\n",
      "34       1001_35     1001  2018-12-21       NaN\n",
      "...          ...      ...         ...       ...\n",
      "137714  1499_183     1499  2018-11-10       NaN\n",
      "137715  1499_184     1499  2018-09-15       NaN\n",
      "137720  1499_189     1499  2018-12-27       NaN\n",
      "137722  1499_191     1499  2018-12-24       NaN\n",
      "137725  1499_194     1499  2018-10-31       NaN\n",
      "\n",
      "[26834 rows x 4 columns]\n"
     ]
    }
   ],
   "source": [
    "print(df_cals[df_cals['duration'].isna()])"
   ]
  },
  {
   "cell_type": "code",
   "execution_count": 18,
   "metadata": {},
   "outputs": [
    {
     "name": "stdout",
     "output_type": "stream",
     "text": [
      "Empty DataFrame\n",
      "Columns: [id, user_id, call_date, duration]\n",
      "Index: []\n"
     ]
    }
   ],
   "source": [
    "print(df_cals[(df_cals['user_id'] == '1001') & (pd.isna(df_cals['duration']))] )"
   ]
  },
  {
   "cell_type": "markdown",
   "metadata": {},
   "source": [
    "Para el presente análisis se omitirán estos valores NaN, puesto que nos podría proporcionar valores distintos en los promedios. Pero es buena práctica investigar al respecto con la parte emisora de los datos para más información."
   ]
  },
  {
   "cell_type": "code",
   "execution_count": 19,
   "metadata": {},
   "outputs": [],
   "source": [
    "df_cals.dropna(subset= ['duration'] , inplace = True)"
   ]
  },
  {
   "cell_type": "code",
   "execution_count": 20,
   "metadata": {},
   "outputs": [
    {
     "name": "stdout",
     "output_type": "stream",
     "text": [
      "Empty DataFrame\n",
      "Columns: [id, user_id, call_date, duration]\n",
      "Index: []\n"
     ]
    }
   ],
   "source": [
    "print(df_cals[pd.isna(df_cals['duration'])])"
   ]
  },
  {
   "cell_type": "markdown",
   "metadata": {
    "id": "S7hzxmbX0q0-"
   },
   "source": [
    "### Corregir los datos"
   ]
  },
  {
   "cell_type": "code",
   "execution_count": 21,
   "metadata": {
    "id": "Y7SVmjGn0q03"
   },
   "outputs": [
    {
     "name": "stdout",
     "output_type": "stream",
     "text": [
      "\n",
      "<class 'pandas.core.frame.DataFrame'>\n",
      "Int64Index: 110901 entries, 0 to 137734\n",
      "Data columns (total 4 columns):\n",
      " #   Column     Non-Null Count   Dtype         \n",
      "---  ------     --------------   -----         \n",
      " 0   id         110901 non-null  object        \n",
      " 1   user_id    110901 non-null  object        \n",
      " 2   call_date  110901 non-null  datetime64[ns]\n",
      " 3   duration   110901 non-null  float64       \n",
      "dtypes: datetime64[ns](1), float64(1), object(2)\n",
      "memory usage: 4.2+ MB\n",
      "0          9.0\n",
      "1         14.0\n",
      "2         15.0\n",
      "3          6.0\n",
      "4          5.0\n",
      "          ... \n",
      "137730     9.0\n",
      "137731    11.0\n",
      "137732     9.0\n",
      "137733     1.0\n",
      "137734    14.0\n",
      "Name: duration, Length: 110901, dtype: float64\n"
     ]
    }
   ],
   "source": [
    "print('')\n",
    "# En primer lugar, cambiar el valor int de 'user_id' a str.\n",
    "df_cals['user_id'] = df_cals['user_id'].astype('str')\n",
    "# En segundo lugar, cambiar el valor obj de 'call_date' a datetime64.\n",
    "df_cals['call_date'] = pd.to_datetime(df_cals['call_date'], format ='%Y-%m-%d')\n",
    "\n",
    "df_cals['duration'] = np.ceil(df_cals['duration'])\n",
    "df_cals.info()\n",
    "print(df_cals['duration'])"
   ]
  },
  {
   "cell_type": "markdown",
   "metadata": {
    "id": "KrMgTrlG0q0_"
   },
   "source": [
    "### Enriquecer los datos"
   ]
  },
  {
   "cell_type": "code",
   "execution_count": 22,
   "metadata": {
    "id": "iZ1avpA_0q0_"
   },
   "outputs": [
    {
     "name": "stdout",
     "output_type": "stream",
     "text": [
      "<class 'pandas.core.frame.DataFrame'>\n",
      "Int64Index: 110901 entries, 0 to 137734\n",
      "Data columns (total 6 columns):\n",
      " #   Column     Non-Null Count   Dtype         \n",
      "---  ------     --------------   -----         \n",
      " 0   id         110901 non-null  object        \n",
      " 1   user_id    110901 non-null  object        \n",
      " 2   call_date  110901 non-null  datetime64[ns]\n",
      " 3   duration   110901 non-null  float64       \n",
      " 4   month      110901 non-null  int64         \n",
      " 5   year       110901 non-null  int64         \n",
      "dtypes: datetime64[ns](1), float64(1), int64(2), object(2)\n",
      "memory usage: 5.9+ MB\n"
     ]
    }
   ],
   "source": [
    "#En primer lugar, colocar/agregar una nueva columna de mes y año para cada usuario.\n",
    "df_cals['month'] = df_cals['call_date'].dt.month\n",
    "df_cals['year'] = df_cals['call_date'].dt.year\n",
    "df_cals.info() \n"
   ]
  },
  {
   "cell_type": "markdown",
   "metadata": {
    "id": "mOUZSi180q0_"
   },
   "source": [
    "## Mensajes"
   ]
  },
  {
   "cell_type": "code",
   "execution_count": 23,
   "metadata": {
    "id": "R-bYJpdV0q1A"
   },
   "outputs": [
    {
     "name": "stdout",
     "output_type": "stream",
     "text": [
      "\n",
      "<class 'pandas.core.frame.DataFrame'>\n",
      "RangeIndex: 76051 entries, 0 to 76050\n",
      "Data columns (total 3 columns):\n",
      " #   Column        Non-Null Count  Dtype \n",
      "---  ------        --------------  ----- \n",
      " 0   id            76051 non-null  object\n",
      " 1   user_id       76051 non-null  int64 \n",
      " 2   message_date  76051 non-null  object\n",
      "dtypes: int64(1), object(2)\n",
      "memory usage: 1.7+ MB\n",
      "\n"
     ]
    }
   ],
   "source": [
    "# Imprime la información general/resumida sobre el DataFrame de los mensajes\n",
    "print('')\n",
    "df_mess.info()\n",
    "print('')"
   ]
  },
  {
   "cell_type": "code",
   "execution_count": 24,
   "metadata": {
    "id": "mCEl2iGE0q1A"
   },
   "outputs": [
    {
     "name": "stdout",
     "output_type": "stream",
     "text": [
      "\n",
      "Pequeña muestra de megaline_messages.\n",
      "             id  user_id message_date\n",
      "74651   1482_64     1482   2018-11-05\n",
      "58218   1369_19     1369   2018-11-22\n",
      "5826   1054_193     1054   2018-07-12\n",
      "28016  1172_473     1172   2018-10-22\n",
      "40789  1261_458     1261   2018-05-29\n"
     ]
    }
   ],
   "source": [
    "# Imprime una muestra de datos para los mensajes\n",
    "print('')\n",
    "print('Pequeña muestra de megaline_messages.')\n",
    "print(df_mess.sample(5))"
   ]
  },
  {
   "cell_type": "code",
   "execution_count": 25,
   "metadata": {},
   "outputs": [
    {
     "name": "stdout",
     "output_type": "stream",
     "text": [
      "Número de filas duplicadas (mensajes):  0\n"
     ]
    }
   ],
   "source": [
    "#Se revisa que no existan duplicados\n",
    "print('Número de filas duplicadas (mensajes): ', df_mess.duplicated().sum())"
   ]
  },
  {
   "cell_type": "markdown",
   "metadata": {},
   "source": [
    "Megaline messages. La columna \"id\" está como obj y presenta no inconvenientes.\n",
    "La columna \"user_id\" está con int, cambiar a obj para que concuerde con los demás \"user_id\" de los data frames.\n",
    "La columna \"message_date\" está en formato obj que debería de cambiarse al formato dtype datetime64."
   ]
  },
  {
   "cell_type": "markdown",
   "metadata": {
    "id": "Sprfak900q1B"
   },
   "source": [
    "### Corregir los datos"
   ]
  },
  {
   "cell_type": "code",
   "execution_count": 26,
   "metadata": {},
   "outputs": [],
   "source": [
    " #En primer lugar, se cambia el formato de la columna 'user_id' de int a obj.\n",
    "df_mess['user_id'] = df_mess['user_id'].astype('str')\n",
    "#En segundo lugar, se cambia el formato de la columna 'message_date' de obj a datetime64.\n",
    "df_mess['message_date'] = pd.to_datetime(df_mess['message_date'], format='%Y-%m-%d')"
   ]
  },
  {
   "cell_type": "markdown",
   "metadata": {
    "id": "HvLid7iD0q1B"
   },
   "source": [
    "### Enriquecer los datos"
   ]
  },
  {
   "cell_type": "code",
   "execution_count": 27,
   "metadata": {
    "id": "zYEXZac10q1C"
   },
   "outputs": [
    {
     "name": "stdout",
     "output_type": "stream",
     "text": [
      "<class 'pandas.core.frame.DataFrame'>\n",
      "RangeIndex: 76051 entries, 0 to 76050\n",
      "Data columns (total 5 columns):\n",
      " #   Column        Non-Null Count  Dtype         \n",
      "---  ------        --------------  -----         \n",
      " 0   id            76051 non-null  object        \n",
      " 1   user_id       76051 non-null  object        \n",
      " 2   message_date  76051 non-null  datetime64[ns]\n",
      " 3   month         76051 non-null  int64         \n",
      " 4   year          76051 non-null  int64         \n",
      "dtypes: datetime64[ns](1), int64(2), object(2)\n",
      "memory usage: 2.9+ MB\n"
     ]
    }
   ],
   "source": [
    "#En primer lugar, se agrega una columna con el mes y año en el que ocurrió el mensaje.\n",
    "df_mess['month'] = df_mess['message_date'].dt.month\n",
    "df_mess['year'] = df_mess['message_date'].dt.year\n",
    "df_mess.info()"
   ]
  },
  {
   "cell_type": "code",
   "execution_count": 81,
   "metadata": {},
   "outputs": [
    {
     "data": {
      "text/html": [
       "<div>\n",
       "<style scoped>\n",
       "    .dataframe tbody tr th:only-of-type {\n",
       "        vertical-align: middle;\n",
       "    }\n",
       "\n",
       "    .dataframe tbody tr th {\n",
       "        vertical-align: top;\n",
       "    }\n",
       "\n",
       "    .dataframe thead th {\n",
       "        text-align: right;\n",
       "    }\n",
       "</style>\n",
       "<table border=\"1\" class=\"dataframe\">\n",
       "  <thead>\n",
       "    <tr style=\"text-align: right;\">\n",
       "      <th></th>\n",
       "      <th>month</th>\n",
       "      <th>year</th>\n",
       "    </tr>\n",
       "  </thead>\n",
       "  <tbody>\n",
       "    <tr>\n",
       "      <th>count</th>\n",
       "      <td>76051.000000</td>\n",
       "      <td>76051.0</td>\n",
       "    </tr>\n",
       "    <tr>\n",
       "      <th>mean</th>\n",
       "      <td>9.584016</td>\n",
       "      <td>2018.0</td>\n",
       "    </tr>\n",
       "    <tr>\n",
       "      <th>std</th>\n",
       "      <td>2.276392</td>\n",
       "      <td>0.0</td>\n",
       "    </tr>\n",
       "    <tr>\n",
       "      <th>min</th>\n",
       "      <td>1.000000</td>\n",
       "      <td>2018.0</td>\n",
       "    </tr>\n",
       "    <tr>\n",
       "      <th>25%</th>\n",
       "      <td>8.000000</td>\n",
       "      <td>2018.0</td>\n",
       "    </tr>\n",
       "    <tr>\n",
       "      <th>50%</th>\n",
       "      <td>10.000000</td>\n",
       "      <td>2018.0</td>\n",
       "    </tr>\n",
       "    <tr>\n",
       "      <th>75%</th>\n",
       "      <td>12.000000</td>\n",
       "      <td>2018.0</td>\n",
       "    </tr>\n",
       "    <tr>\n",
       "      <th>max</th>\n",
       "      <td>12.000000</td>\n",
       "      <td>2018.0</td>\n",
       "    </tr>\n",
       "  </tbody>\n",
       "</table>\n",
       "</div>"
      ],
      "text/plain": [
       "              month     year\n",
       "count  76051.000000  76051.0\n",
       "mean       9.584016   2018.0\n",
       "std        2.276392      0.0\n",
       "min        1.000000   2018.0\n",
       "25%        8.000000   2018.0\n",
       "50%       10.000000   2018.0\n",
       "75%       12.000000   2018.0\n",
       "max       12.000000   2018.0"
      ]
     },
     "execution_count": 81,
     "metadata": {},
     "output_type": "execute_result"
    }
   ],
   "source": [
    "df_mess.describe()"
   ]
  },
  {
   "cell_type": "markdown",
   "metadata": {
    "id": "bStkaxn40q1C"
   },
   "source": [
    "## Internet"
   ]
  },
  {
   "cell_type": "code",
   "execution_count": 28,
   "metadata": {
    "id": "e-Uz5qyn0q1C"
   },
   "outputs": [
    {
     "name": "stdout",
     "output_type": "stream",
     "text": [
      "\n",
      "Pequeña muestra de megaline_internet.\n",
      "<class 'pandas.core.frame.DataFrame'>\n",
      "RangeIndex: 104825 entries, 0 to 104824\n",
      "Data columns (total 4 columns):\n",
      " #   Column        Non-Null Count   Dtype  \n",
      "---  ------        --------------   -----  \n",
      " 0   id            104825 non-null  object \n",
      " 1   user_id       104825 non-null  int64  \n",
      " 2   session_date  104825 non-null  object \n",
      " 3   mb_used       104825 non-null  float64\n",
      "dtypes: float64(1), int64(1), object(2)\n",
      "memory usage: 3.2+ MB\n"
     ]
    }
   ],
   "source": [
    "# Imprime la información general/resumida sobre el DataFrame de internet\n",
    "print('')\n",
    "print('Pequeña muestra de megaline_internet.')\n",
    "df_int.info()"
   ]
  },
  {
   "cell_type": "code",
   "execution_count": 29,
   "metadata": {
    "id": "9r3x_XLw0q1C"
   },
   "outputs": [
    {
     "name": "stdout",
     "output_type": "stream",
     "text": [
      "Pequeña muestra de megaline_internet.\n",
      "              id  user_id session_date  mb_used\n",
      "100300   1475_93     1475   2018-08-02     0.00\n",
      "103919   1497_35     1497   2018-12-12     0.00\n",
      "72249   1336_286     1336   2018-11-04   389.75\n",
      "34406     1156_3     1156   2018-10-23   774.10\n",
      "56988   1257_255     1257   2018-10-20   666.19\n"
     ]
    }
   ],
   "source": [
    "# Imprime una muestra de datos para el tráfico de internet\n",
    "print('Pequeña muestra de megaline_internet.')\n",
    "print(df_int.sample(5))"
   ]
  },
  {
   "cell_type": "code",
   "execution_count": 30,
   "metadata": {},
   "outputs": [
    {
     "name": "stdout",
     "output_type": "stream",
     "text": [
      "Número de filas duplicadas (internet):  0\n"
     ]
    }
   ],
   "source": [
    "#Se revisa que no existan duplicados\n",
    "print('Número de filas duplicadas (internet): ', df_int.duplicated().sum())"
   ]
  },
  {
   "cell_type": "code",
   "execution_count": 82,
   "metadata": {},
   "outputs": [
    {
     "data": {
      "text/html": [
       "<div>\n",
       "<style scoped>\n",
       "    .dataframe tbody tr th:only-of-type {\n",
       "        vertical-align: middle;\n",
       "    }\n",
       "\n",
       "    .dataframe tbody tr th {\n",
       "        vertical-align: top;\n",
       "    }\n",
       "\n",
       "    .dataframe thead th {\n",
       "        text-align: right;\n",
       "    }\n",
       "</style>\n",
       "<table border=\"1\" class=\"dataframe\">\n",
       "  <thead>\n",
       "    <tr style=\"text-align: right;\">\n",
       "      <th></th>\n",
       "      <th>mb_used</th>\n",
       "      <th>month</th>\n",
       "      <th>year</th>\n",
       "    </tr>\n",
       "  </thead>\n",
       "  <tbody>\n",
       "    <tr>\n",
       "      <th>count</th>\n",
       "      <td>91078.000000</td>\n",
       "      <td>91078.000000</td>\n",
       "      <td>91078.0</td>\n",
       "    </tr>\n",
       "    <tr>\n",
       "      <th>mean</th>\n",
       "      <td>422.064206</td>\n",
       "      <td>9.339160</td>\n",
       "      <td>2018.0</td>\n",
       "    </tr>\n",
       "    <tr>\n",
       "      <th>std</th>\n",
       "      <td>255.063501</td>\n",
       "      <td>2.399309</td>\n",
       "      <td>0.0</td>\n",
       "    </tr>\n",
       "    <tr>\n",
       "      <th>min</th>\n",
       "      <td>0.010000</td>\n",
       "      <td>1.000000</td>\n",
       "      <td>2018.0</td>\n",
       "    </tr>\n",
       "    <tr>\n",
       "      <th>25%</th>\n",
       "      <td>223.380000</td>\n",
       "      <td>8.000000</td>\n",
       "      <td>2018.0</td>\n",
       "    </tr>\n",
       "    <tr>\n",
       "      <th>50%</th>\n",
       "      <td>395.905000</td>\n",
       "      <td>10.000000</td>\n",
       "      <td>2018.0</td>\n",
       "    </tr>\n",
       "    <tr>\n",
       "      <th>75%</th>\n",
       "      <td>588.367500</td>\n",
       "      <td>11.000000</td>\n",
       "      <td>2018.0</td>\n",
       "    </tr>\n",
       "    <tr>\n",
       "      <th>max</th>\n",
       "      <td>1693.470000</td>\n",
       "      <td>12.000000</td>\n",
       "      <td>2018.0</td>\n",
       "    </tr>\n",
       "  </tbody>\n",
       "</table>\n",
       "</div>"
      ],
      "text/plain": [
       "            mb_used         month     year\n",
       "count  91078.000000  91078.000000  91078.0\n",
       "mean     422.064206      9.339160   2018.0\n",
       "std      255.063501      2.399309      0.0\n",
       "min        0.010000      1.000000   2018.0\n",
       "25%      223.380000      8.000000   2018.0\n",
       "50%      395.905000     10.000000   2018.0\n",
       "75%      588.367500     11.000000   2018.0\n",
       "max     1693.470000     12.000000   2018.0"
      ]
     },
     "execution_count": 82,
     "metadata": {},
     "output_type": "execute_result"
    }
   ],
   "source": [
    "df_int.describe()"
   ]
  },
  {
   "cell_type": "markdown",
   "metadata": {},
   "source": [
    "Megaline internet. La columna \"id\" está como obj y presenta no inconvenientes. \n",
    "La columna \"user_id\" está como int, este podría pasarse a obj con no inconvenientes cambiando la columna \"user_id\" de los otros data frames.\n",
    "La columna \"session_date\" está en formato obj y debe ser pasado a formato time dtype datatime64, con el siguiente formato día/mes/año.\n",
    "La columna \"mb_used\" se debe de sumar por mes y por usuario, cuando sobre pase 1024 en el caso de 1025. Este se redondeará a gigabite."
   ]
  },
  {
   "cell_type": "markdown",
   "metadata": {},
   "source": [
    "Se observan valores en 0, que por este primer analisis se eliminaran."
   ]
  },
  {
   "cell_type": "code",
   "execution_count": 32,
   "metadata": {},
   "outputs": [],
   "source": [
    "df_int['mb_used'] = df_int['mb_used'].replace(0, np.nan)\n",
    "df_int.dropna(subset= ['mb_used'] , inplace = True)"
   ]
  },
  {
   "cell_type": "code",
   "execution_count": 33,
   "metadata": {},
   "outputs": [
    {
     "data": {
      "text/html": [
       "<div>\n",
       "<style scoped>\n",
       "    .dataframe tbody tr th:only-of-type {\n",
       "        vertical-align: middle;\n",
       "    }\n",
       "\n",
       "    .dataframe tbody tr th {\n",
       "        vertical-align: top;\n",
       "    }\n",
       "\n",
       "    .dataframe thead th {\n",
       "        text-align: right;\n",
       "    }\n",
       "</style>\n",
       "<table border=\"1\" class=\"dataframe\">\n",
       "  <thead>\n",
       "    <tr style=\"text-align: right;\">\n",
       "      <th></th>\n",
       "      <th>user_id</th>\n",
       "      <th>mb_used</th>\n",
       "    </tr>\n",
       "  </thead>\n",
       "  <tbody>\n",
       "    <tr>\n",
       "      <th>count</th>\n",
       "      <td>91078.000000</td>\n",
       "      <td>91078.000000</td>\n",
       "    </tr>\n",
       "    <tr>\n",
       "      <th>mean</th>\n",
       "      <td>1242.576923</td>\n",
       "      <td>422.064206</td>\n",
       "    </tr>\n",
       "    <tr>\n",
       "      <th>std</th>\n",
       "      <td>141.992374</td>\n",
       "      <td>255.063501</td>\n",
       "    </tr>\n",
       "    <tr>\n",
       "      <th>min</th>\n",
       "      <td>1000.000000</td>\n",
       "      <td>0.010000</td>\n",
       "    </tr>\n",
       "    <tr>\n",
       "      <th>25%</th>\n",
       "      <td>1122.000000</td>\n",
       "      <td>223.380000</td>\n",
       "    </tr>\n",
       "    <tr>\n",
       "      <th>50%</th>\n",
       "      <td>1236.000000</td>\n",
       "      <td>395.905000</td>\n",
       "    </tr>\n",
       "    <tr>\n",
       "      <th>75%</th>\n",
       "      <td>1367.000000</td>\n",
       "      <td>588.367500</td>\n",
       "    </tr>\n",
       "    <tr>\n",
       "      <th>max</th>\n",
       "      <td>1499.000000</td>\n",
       "      <td>1693.470000</td>\n",
       "    </tr>\n",
       "  </tbody>\n",
       "</table>\n",
       "</div>"
      ],
      "text/plain": [
       "            user_id       mb_used\n",
       "count  91078.000000  91078.000000\n",
       "mean    1242.576923    422.064206\n",
       "std      141.992374    255.063501\n",
       "min     1000.000000      0.010000\n",
       "25%     1122.000000    223.380000\n",
       "50%     1236.000000    395.905000\n",
       "75%     1367.000000    588.367500\n",
       "max     1499.000000   1693.470000"
      ]
     },
     "execution_count": 33,
     "metadata": {},
     "output_type": "execute_result"
    }
   ],
   "source": [
    "df_int.describe()"
   ]
  },
  {
   "cell_type": "markdown",
   "metadata": {
    "id": "yA0tkPFg0q1D"
   },
   "source": [
    "### Corregir los datos"
   ]
  },
  {
   "cell_type": "code",
   "execution_count": 34,
   "metadata": {},
   "outputs": [
    {
     "name": "stdout",
     "output_type": "stream",
     "text": [
      "<class 'pandas.core.frame.DataFrame'>\n",
      "Int64Index: 91078 entries, 0 to 104824\n",
      "Data columns (total 4 columns):\n",
      " #   Column        Non-Null Count  Dtype         \n",
      "---  ------        --------------  -----         \n",
      " 0   id            91078 non-null  object        \n",
      " 1   user_id       91078 non-null  object        \n",
      " 2   session_date  91078 non-null  datetime64[ns]\n",
      " 3   mb_used       91078 non-null  float64       \n",
      "dtypes: datetime64[ns](1), float64(1), object(2)\n",
      "memory usage: 3.5+ MB\n"
     ]
    }
   ],
   "source": [
    "# En primer lugar, cambiar el valor int de 'user_id' a str.\n",
    "df_int['user_id'] = df_int['user_id'].astype('str')\n",
    "# En segundo lugar, cambiar el valor de obj de 'session_date' a datatime64.\n",
    "df_int['session_date'] = pd.to_datetime(df_int['session_date'], format= '%Y-%m-%d')\n",
    "df_int.info()"
   ]
  },
  {
   "cell_type": "markdown",
   "metadata": {
    "id": "e8_mLF4a0q1E"
   },
   "source": [
    "### Enriquecer los datos"
   ]
  },
  {
   "cell_type": "markdown",
   "metadata": {
    "id": "xhNdn2tE0q1E"
   },
   "source": [
    "[Agrega factores adicionales a los datos si crees que pudieran ser útiles.]"
   ]
  },
  {
   "cell_type": "code",
   "execution_count": 35,
   "metadata": {
    "id": "ESiYPIEK0q1E"
   },
   "outputs": [
    {
     "name": "stdout",
     "output_type": "stream",
     "text": [
      "<class 'pandas.core.frame.DataFrame'>\n",
      "Int64Index: 91078 entries, 0 to 104824\n",
      "Data columns (total 6 columns):\n",
      " #   Column        Non-Null Count  Dtype         \n",
      "---  ------        --------------  -----         \n",
      " 0   id            91078 non-null  object        \n",
      " 1   user_id       91078 non-null  object        \n",
      " 2   session_date  91078 non-null  datetime64[ns]\n",
      " 3   mb_used       91078 non-null  float64       \n",
      " 4   month         91078 non-null  int64         \n",
      " 5   year          91078 non-null  int64         \n",
      "dtypes: datetime64[ns](1), float64(1), int64(2), object(2)\n",
      "memory usage: 4.9+ MB\n"
     ]
    }
   ],
   "source": [
    "#En primer lugar, se agrega una columna con el mes y año en el que ocurrió el mensaje.\n",
    "df_int['month'] = df_int['session_date'].dt.month\n",
    "df_int['year'] = df_int['session_date'].dt.year\n",
    "df_int.info()"
   ]
  },
  {
   "cell_type": "markdown",
   "metadata": {
    "id": "3UA2cqIW0q1E"
   },
   "source": [
    "## Estudiar las condiciones de las tarifas"
   ]
  },
  {
   "cell_type": "code",
   "execution_count": 36,
   "metadata": {
    "id": "i409op8p0q1F"
   },
   "outputs": [
    {
     "name": "stdout",
     "output_type": "stream",
     "text": [
      "<class 'pandas.core.frame.DataFrame'>\n",
      "RangeIndex: 2 entries, 0 to 1\n",
      "Data columns (total 8 columns):\n",
      " #   Column                 Non-Null Count  Dtype  \n",
      "---  ------                 --------------  -----  \n",
      " 0   messages_included      2 non-null      int64  \n",
      " 1   mb_per_month_included  2 non-null      float64\n",
      " 2   minutes_included       2 non-null      int64  \n",
      " 3   usd_monthly_pay        2 non-null      int64  \n",
      " 4   usd_per_gb             2 non-null      int64  \n",
      " 5   usd_per_message        2 non-null      float64\n",
      " 6   usd_per_minute         2 non-null      float64\n",
      " 7   plan_name              2 non-null      object \n",
      "dtypes: float64(3), int64(4), object(1)\n",
      "memory usage: 256.0+ bytes\n",
      "\n",
      "   messages_included  mb_per_month_included  minutes_included  \\\n",
      "0                 50                   15.0               500   \n",
      "1               1000                   30.0              3000   \n",
      "\n",
      "   usd_monthly_pay  usd_per_gb  usd_per_message  usd_per_minute plan_name  \n",
      "0               20          10             0.03            0.03      surf  \n",
      "1               70           7             0.01            0.01  ultimate  \n"
     ]
    }
   ],
   "source": [
    "# Imprime las condiciones de la tarifa y asegúrate de que te quedan claras\n",
    "df_plans.info()\n",
    "print('')\n",
    "print(df_plans)"
   ]
  },
  {
   "cell_type": "markdown",
   "metadata": {
    "id": "hMR1tP5d0q1F"
   },
   "source": [
    "## Agregar datos por usuario\n"
   ]
  },
  {
   "cell_type": "code",
   "execution_count": 37,
   "metadata": {
    "id": "A332cedB0q1G"
   },
   "outputs": [
    {
     "name": "stdout",
     "output_type": "stream",
     "text": [
      "Dataframe llamadas.\n",
      "\n",
      "<class 'pandas.core.frame.DataFrame'>\n",
      "Int64Index: 110901 entries, 0 to 137734\n",
      "Data columns (total 6 columns):\n",
      " #   Column     Non-Null Count   Dtype         \n",
      "---  ------     --------------   -----         \n",
      " 0   id         110901 non-null  object        \n",
      " 1   user_id    110901 non-null  object        \n",
      " 2   call_date  110901 non-null  datetime64[ns]\n",
      " 3   duration   110901 non-null  float64       \n",
      " 4   month      110901 non-null  int64         \n",
      " 5   year       110901 non-null  int64         \n",
      "dtypes: datetime64[ns](1), float64(1), int64(2), object(2)\n",
      "memory usage: 5.9+ MB\n"
     ]
    }
   ],
   "source": [
    "# Calcula el número de llamadas hechas por cada usuario al mes. Guarda el resultado.\n",
    "print('Dataframe llamadas.')\n",
    "print('')\n",
    "df_cals.info()"
   ]
  },
  {
   "cell_type": "code",
   "execution_count": 38,
   "metadata": {},
   "outputs": [
    {
     "name": "stdout",
     "output_type": "stream",
     "text": [
      "user_id  month\n",
      "1000     12       16\n",
      "1001     8        22\n",
      "         9        38\n",
      "         10       47\n",
      "         11       49\n",
      "                  ..\n",
      "1498     12       32\n",
      "1499     9        35\n",
      "         10       41\n",
      "         11       39\n",
      "         12       56\n",
      "Name: id, Length: 2256, dtype: int64\n"
     ]
    }
   ],
   "source": [
    "user_calls_num = df_cals.groupby(['user_id','month'])['id'].count()\n",
    "print(user_calls_num)"
   ]
  },
  {
   "cell_type": "code",
   "execution_count": 39,
   "metadata": {
    "id": "aw2cmuql0q1G"
   },
   "outputs": [
    {
     "name": "stdout",
     "output_type": "stream",
     "text": [
      "user_id  month\n",
      "1000     12       124.0\n",
      "1001     8        182.0\n",
      "         9        315.0\n",
      "         10       393.0\n",
      "         11       426.0\n",
      "                  ...  \n",
      "1498     12       339.0\n",
      "1499     9        346.0\n",
      "         10       385.0\n",
      "         11       308.0\n",
      "         12       496.0\n",
      "Name: duration, Length: 2256, dtype: float64\n"
     ]
    }
   ],
   "source": [
    "# Calcula la cantidad de minutos usados por cada usuario al mes. Guarda el resultado.\n",
    "user_calls_duration = df_cals.groupby(['user_id', 'month'])['duration'].sum()\n",
    "print(user_calls_duration)"
   ]
  },
  {
   "cell_type": "code",
   "execution_count": 40,
   "metadata": {
    "id": "CcQvNHn60q1G"
   },
   "outputs": [
    {
     "name": "stdout",
     "output_type": "stream",
     "text": [
      "Dataframe mensajes.\n",
      "<class 'pandas.core.frame.DataFrame'>\n",
      "RangeIndex: 76051 entries, 0 to 76050\n",
      "Data columns (total 5 columns):\n",
      " #   Column        Non-Null Count  Dtype         \n",
      "---  ------        --------------  -----         \n",
      " 0   id            76051 non-null  object        \n",
      " 1   user_id       76051 non-null  object        \n",
      " 2   message_date  76051 non-null  datetime64[ns]\n",
      " 3   month         76051 non-null  int64         \n",
      " 4   year          76051 non-null  int64         \n",
      "dtypes: datetime64[ns](1), int64(2), object(2)\n",
      "memory usage: 2.9+ MB\n",
      "\n"
     ]
    }
   ],
   "source": [
    "# Calcula el número de mensajes enviados por cada usuario al mes. Guarda el resultado.\n",
    "print('Dataframe mensajes.')\n",
    "df_mess.info()\n",
    "print('')"
   ]
  },
  {
   "cell_type": "code",
   "execution_count": 41,
   "metadata": {},
   "outputs": [
    {
     "name": "stdout",
     "output_type": "stream",
     "text": [
      "user_id  month\n",
      "1000     12       11\n",
      "1001     8        30\n",
      "         9        44\n",
      "         10       53\n",
      "         11       36\n",
      "                  ..\n",
      "1496     9        21\n",
      "         10       18\n",
      "         11       13\n",
      "         12       11\n",
      "1497     12       50\n",
      "Name: id, Length: 1806, dtype: int64\n"
     ]
    }
   ],
   "source": [
    "user_mss_num = df_mess.groupby(['user_id','month'])['id'].count()\n",
    "print(user_mss_num)"
   ]
  },
  {
   "cell_type": "code",
   "execution_count": 42,
   "metadata": {
    "id": "H1AqN2eG0q1H"
   },
   "outputs": [
    {
     "name": "stdout",
     "output_type": "stream",
     "text": [
      "\n",
      "Dataframe internet.\n",
      "<class 'pandas.core.frame.DataFrame'>\n",
      "Int64Index: 91078 entries, 0 to 104824\n",
      "Data columns (total 6 columns):\n",
      " #   Column        Non-Null Count  Dtype         \n",
      "---  ------        --------------  -----         \n",
      " 0   id            91078 non-null  object        \n",
      " 1   user_id       91078 non-null  object        \n",
      " 2   session_date  91078 non-null  datetime64[ns]\n",
      " 3   mb_used       91078 non-null  float64       \n",
      " 4   month         91078 non-null  int64         \n",
      " 5   year          91078 non-null  int64         \n",
      "dtypes: datetime64[ns](1), float64(1), int64(2), object(2)\n",
      "memory usage: 4.9+ MB\n"
     ]
    }
   ],
   "source": [
    "# Calcula el volumen del tráfico de Internet usado por cada usuario al mes. Guarda el resultado.\n",
    "print('')\n",
    "print('Dataframe internet.')\n",
    "df_int.info()"
   ]
  },
  {
   "cell_type": "code",
   "execution_count": 43,
   "metadata": {},
   "outputs": [
    {
     "name": "stdout",
     "output_type": "stream",
     "text": [
      "user_id  month\n",
      "1000     12        1901.47\n",
      "1001     8         6919.15\n",
      "         9        13314.82\n",
      "         10       22330.49\n",
      "         11       18504.30\n",
      "                    ...   \n",
      "1498     12       23137.69\n",
      "1499     9        12984.76\n",
      "         10       19492.43\n",
      "         11       16813.83\n",
      "         12       22059.21\n",
      "Name: mb_used, Length: 2277, dtype: float64\n"
     ]
    }
   ],
   "source": [
    "user_int_num = df_int.groupby(['user_id','month'])['mb_used'].sum()\n",
    "print(user_int_num)"
   ]
  },
  {
   "cell_type": "code",
   "execution_count": 44,
   "metadata": {
    "id": "FW99ykyf0q1H"
   },
   "outputs": [
    {
     "name": "stdout",
     "output_type": "stream",
     "text": [
      "               Calls_total  Calls_total_duration  Messages_total  \\\n",
      "user_id month                                                      \n",
      "1000    12            16.0                 124.0            11.0   \n",
      "1001    8             22.0                 182.0            30.0   \n",
      "        9             38.0                 315.0            44.0   \n",
      "        10            47.0                 393.0            53.0   \n",
      "        11            49.0                 426.0            36.0   \n",
      "...                    ...                   ...             ...   \n",
      "1498    12            32.0                 339.0             NaN   \n",
      "1499    9             35.0                 346.0             NaN   \n",
      "        10            41.0                 385.0             NaN   \n",
      "        11            39.0                 308.0             NaN   \n",
      "        12            56.0                 496.0             NaN   \n",
      "\n",
      "               Internet_total  \n",
      "user_id month                  \n",
      "1000    12            1901.47  \n",
      "1001    8             6919.15  \n",
      "        9            13314.82  \n",
      "        10           22330.49  \n",
      "        11           18504.30  \n",
      "...                       ...  \n",
      "1498    12           23137.69  \n",
      "1499    9            12984.76  \n",
      "        10           19492.43  \n",
      "        11           16813.83  \n",
      "        12           22059.21  \n",
      "\n",
      "[2293 rows x 4 columns]\n"
     ]
    }
   ],
   "source": [
    "# Fusiona los datos de llamadas, minutos, mensajes e Internet con base en user_id y month\n",
    "df_concat = pd.concat([user_calls_num, user_calls_duration, user_mss_num, user_int_num], axis ='columns')\n",
    "df_concat.columns = ['Calls_total','Calls_total_duration','Messages_total','Internet_total']\n",
    "print(df_concat)"
   ]
  },
  {
   "cell_type": "code",
   "execution_count": 45,
   "metadata": {
    "id": "0dNOXHag0q1H",
    "scrolled": true
   },
   "outputs": [
    {
     "name": "stdout",
     "output_type": "stream",
     "text": [
      "\n",
      "<class 'pandas.core.frame.DataFrame'>\n",
      "RangeIndex: 500 entries, 0 to 499\n",
      "Data columns (total 10 columns):\n",
      " #   Column      Non-Null Count  Dtype          \n",
      "---  ------      --------------  -----          \n",
      " 0   user_id     500 non-null    object         \n",
      " 1   first_name  500 non-null    object         \n",
      " 2   last_name   500 non-null    object         \n",
      " 3   age         500 non-null    int64          \n",
      " 4   city        500 non-null    object         \n",
      " 5   reg_date    500 non-null    datetime64[ns] \n",
      " 6   plan        500 non-null    object         \n",
      " 7   churn_date  500 non-null    datetime64[ns] \n",
      " 8   status      500 non-null    bool           \n",
      " 9   antiguedad  500 non-null    timedelta64[ns]\n",
      "dtypes: bool(1), datetime64[ns](2), int64(1), object(5), timedelta64[ns](1)\n",
      "memory usage: 35.8+ KB\n",
      "\n",
      "<class 'pandas.core.frame.DataFrame'>\n",
      "RangeIndex: 2 entries, 0 to 1\n",
      "Data columns (total 8 columns):\n",
      " #   Column                 Non-Null Count  Dtype  \n",
      "---  ------                 --------------  -----  \n",
      " 0   messages_included      2 non-null      int64  \n",
      " 1   mb_per_month_included  2 non-null      float64\n",
      " 2   minutes_included       2 non-null      int64  \n",
      " 3   usd_monthly_pay        2 non-null      int64  \n",
      " 4   usd_per_gb             2 non-null      int64  \n",
      " 5   usd_per_message        2 non-null      float64\n",
      " 6   usd_per_minute         2 non-null      float64\n",
      " 7   plan_name              2 non-null      object \n",
      "dtypes: float64(3), int64(4), object(1)\n",
      "memory usage: 256.0+ bytes\n"
     ]
    }
   ],
   "source": [
    "# Añade la información de la tarifa\n",
    "print('')\n",
    "df_usrs.info()\n",
    "print('')\n",
    "df_plans.info()"
   ]
  },
  {
   "cell_type": "code",
   "execution_count": 46,
   "metadata": {},
   "outputs": [
    {
     "name": "stdout",
     "output_type": "stream",
     "text": [
      "Index(['user_id', 'first_name', 'last_name', 'age', 'city', 'reg_date', 'plan',\n",
      "       'churn_date', 'status', 'antiguedad', 'messages_included',\n",
      "       'mb_per_month_included', 'minutes_included', 'usd_monthly_pay',\n",
      "       'usd_per_gb', 'usd_per_message', 'usd_per_minute', 'plan_name'],\n",
      "      dtype='object')\n",
      "\n",
      "<class 'pandas.core.frame.DataFrame'>\n",
      "Int64Index: 500 entries, 0 to 499\n",
      "Data columns (total 18 columns):\n",
      " #   Column                 Non-Null Count  Dtype          \n",
      "---  ------                 --------------  -----          \n",
      " 0   user_id                500 non-null    object         \n",
      " 1   first_name             500 non-null    object         \n",
      " 2   last_name              500 non-null    object         \n",
      " 3   age                    500 non-null    int64          \n",
      " 4   city                   500 non-null    object         \n",
      " 5   reg_date               500 non-null    datetime64[ns] \n",
      " 6   plan                   500 non-null    object         \n",
      " 7   churn_date             500 non-null    datetime64[ns] \n",
      " 8   status                 500 non-null    bool           \n",
      " 9   antiguedad             500 non-null    timedelta64[ns]\n",
      " 10  messages_included      500 non-null    int64          \n",
      " 11  mb_per_month_included  500 non-null    float64        \n",
      " 12  minutes_included       500 non-null    int64          \n",
      " 13  usd_monthly_pay        500 non-null    int64          \n",
      " 14  usd_per_gb             500 non-null    int64          \n",
      " 15  usd_per_message        500 non-null    float64        \n",
      " 16  usd_per_minute         500 non-null    float64        \n",
      " 17  plan_name              500 non-null    object         \n",
      "dtypes: bool(1), datetime64[ns](2), float64(3), int64(5), object(6), timedelta64[ns](1)\n",
      "memory usage: 70.8+ KB\n",
      "\n",
      "<class 'pandas.core.frame.DataFrame'>\n",
      "MultiIndex: 2293 entries, ('1000', 12) to ('1499', 12)\n",
      "Data columns (total 4 columns):\n",
      " #   Column                Non-Null Count  Dtype  \n",
      "---  ------                --------------  -----  \n",
      " 0   Calls_total           2256 non-null   float64\n",
      " 1   Calls_total_duration  2256 non-null   float64\n",
      " 2   Messages_total        1806 non-null   float64\n",
      " 3   Internet_total        2277 non-null   float64\n",
      "dtypes: float64(4)\n",
      "memory usage: 98.9+ KB\n"
     ]
    }
   ],
   "source": [
    "user_tarif = df_usrs.merge(df_plans, left_on = 'plan', right_on = 'plan_name', how= 'outer')\n",
    "#print(user_tarif)\n",
    "print(user_tarif.columns)\n",
    "print('')\n",
    "user_tarif.info()\n",
    "print('')\n",
    "df_concat.info()"
   ]
  },
  {
   "cell_type": "code",
   "execution_count": 47,
   "metadata": {},
   "outputs": [
    {
     "name": "stdout",
     "output_type": "stream",
     "text": [
      "<class 'pandas.core.frame.DataFrame'>\n",
      "RangeIndex: 2293 entries, 0 to 2292\n",
      "Data columns (total 6 columns):\n",
      " #   Column                Non-Null Count  Dtype  \n",
      "---  ------                --------------  -----  \n",
      " 0   user_id               2293 non-null   object \n",
      " 1   month                 2293 non-null   int64  \n",
      " 2   Calls_total           2256 non-null   float64\n",
      " 3   Calls_total_duration  2256 non-null   float64\n",
      " 4   Messages_total        1806 non-null   float64\n",
      " 5   Internet_total        2277 non-null   float64\n",
      "dtypes: float64(4), int64(1), object(1)\n",
      "memory usage: 107.6+ KB\n",
      "\n",
      "     user_id  month  Calls_total  Calls_total_duration  Messages_total  \\\n",
      "1230    1259      7         21.0                 197.0            17.0   \n",
      "1911    1408      4         47.0                 424.0            34.0   \n",
      "690     1145      7         47.0                 350.0            78.0   \n",
      "2087    1451     11         68.0                 600.0            60.0   \n",
      "466     1099      6         48.0                 423.0            11.0   \n",
      "\n",
      "      Internet_total  \n",
      "1230         2114.01  \n",
      "1911        13563.20  \n",
      "690         17051.47  \n",
      "2087        14708.82  \n",
      "466         14416.46  \n"
     ]
    }
   ],
   "source": [
    "#En primer lugar,resetear el index del df de df_concat\n",
    "df_3 = df_concat.reset_index()\n",
    "df_3.info()\n",
    "print('')\n",
    "print(df_3.sample(5))"
   ]
  },
  {
   "cell_type": "code",
   "execution_count": 90,
   "metadata": {
    "scrolled": true
   },
   "outputs": [
    {
     "name": "stdout",
     "output_type": "stream",
     "text": [
      "Index(['user_id', 'month', 'Calls_total', 'Calls_total_duration',\n",
      "       'Messages_total', 'Internet_total'],\n",
      "      dtype='object')\n",
      "\n",
      "Empty DataFrame\n",
      "Columns: [user_id, month, Calls_total, Calls_total_duration, Messages_total, Internet_total]\n",
      "Index: []\n"
     ]
    }
   ],
   "source": [
    "#En segundo lugar, gestionar los valores nulos para realizar las operaciones.\n",
    "print(df_3.columns)\n",
    "print('')\n",
    "print(df_3[df_3['Calls_total'].isna()])\n",
    "#Observamos que calls_total NaN es en efecto por falta de llamadas.\n",
    "#Por asociación la columna calls_total_duration también tendrá los mismos valores NaN\n",
    "#lo anterior nos permite colocar 0 en ambas columnas con valores NaN.\n",
    "df_3['Calls_total'] = df_3['Calls_total'].fillna(0)\n",
    "df_3['Calls_total_duration'] = df_3['Calls_total_duration'].fillna(0)"
   ]
  },
  {
   "cell_type": "code",
   "execution_count": 89,
   "metadata": {
    "scrolled": false
   },
   "outputs": [
    {
     "name": "stdout",
     "output_type": "stream",
     "text": [
      "Empty DataFrame\n",
      "Columns: [user_id, month, Calls_total, Calls_total_duration, Messages_total, Internet_total]\n",
      "Index: []\n",
      "\n",
      "Empty DataFrame\n",
      "Columns: [user_id, month, Calls_total, Calls_total_duration, Messages_total, Internet_total]\n",
      "Index: []\n",
      "<class 'pandas.core.frame.DataFrame'>\n",
      "RangeIndex: 2293 entries, 0 to 2292\n",
      "Data columns (total 6 columns):\n",
      " #   Column                Non-Null Count  Dtype  \n",
      "---  ------                --------------  -----  \n",
      " 0   user_id               2293 non-null   object \n",
      " 1   month                 2293 non-null   int64  \n",
      " 2   Calls_total           2293 non-null   float64\n",
      " 3   Calls_total_duration  2293 non-null   float64\n",
      " 4   Messages_total        2293 non-null   float64\n",
      " 5   Internet_total        2293 non-null   float64\n",
      "dtypes: float64(4), int64(1), object(1)\n",
      "memory usage: 107.6+ KB\n"
     ]
    }
   ],
   "source": [
    "#Para continuar con los valores NaN de las columnas 'messages_total' y 'Internet_total'\n",
    "print(df_3[df_3['Messages_total'].isna()])\n",
    "print('')\n",
    "print(df_3[df_3['Internet_total'].isna()])\n",
    "#Comprobamos que estos valores es correcto colocar 0 en ambas columnas en las celdas con valores NaN.\n",
    "df_3['Messages_total'] = df_3['Messages_total'].fillna(0)\n",
    "df_3['Internet_total'] = df_3['Internet_total'].fillna(0)\n",
    "#Comprobamos que la información general del df este completa.\n",
    "df_3.info()"
   ]
  },
  {
   "cell_type": "code",
   "execution_count": 50,
   "metadata": {},
   "outputs": [
    {
     "name": "stdout",
     "output_type": "stream",
     "text": [
      "     user_id  month  Calls_total  Calls_total_duration  Messages_total  \\\n",
      "426     1089     12          0.0                   0.0            27.0   \n",
      "1700    1365      9        121.0                1131.0            48.0   \n",
      "797     1166      9         16.0                 182.0             0.0   \n",
      "891     1185     10         48.0                 439.0             0.0   \n",
      "2121    1460     10         43.0                 410.0            40.0   \n",
      "\n",
      "      Internet_total first_name  last_name  age  \\\n",
      "426         16597.91     Malena     Kelley   70   \n",
      "1700         6785.66    Milford       Rush   19   \n",
      "797         16678.22     Kaycee     Bryant   26   \n",
      "891         24856.76      Loria    Freeman   47   \n",
      "2121        29750.14    Winford  Underwood   46   \n",
      "\n",
      "                                                 city  ... status antiguedad  \\\n",
      "426   Philadelphia-Camden-Wilmington, PA-NJ-DE-MD MSA  ...   True  2676 days   \n",
      "1700                    Grand Rapids-Kentwood, MI MSA  ...   True  2882 days   \n",
      "797                 Baltimore-Columbia-Towson, MD MSA  ...   True  2795 days   \n",
      "891            Louisville/Jefferson County, KY-IN MSA  ...   True  2908 days   \n",
      "2121                                   Fresno, CA MSA  ...   True  2774 days   \n",
      "\n",
      "     messages_included  mb_per_month_included minutes_included  \\\n",
      "426                 50                   15.0              500   \n",
      "1700                50                   15.0              500   \n",
      "797                 50                   15.0              500   \n",
      "891               1000                   30.0             3000   \n",
      "2121              1000                   30.0             3000   \n",
      "\n",
      "      usd_monthly_pay  usd_per_gb  usd_per_message  usd_per_minute  plan_name  \n",
      "426                20          10             0.03            0.03       surf  \n",
      "1700               20          10             0.03            0.03       surf  \n",
      "797                20          10             0.03            0.03       surf  \n",
      "891                70           7             0.01            0.01   ultimate  \n",
      "2121               70           7             0.01            0.01   ultimate  \n",
      "\n",
      "[5 rows x 23 columns]\n"
     ]
    }
   ],
   "source": [
    "#En tercer lugar, unimos ambos df user_tarif y df_3\n",
    "merge_ut = df_3.merge(user_tarif, on= 'user_id', how ='left')\n",
    "print(merge_ut.sample(5))"
   ]
  },
  {
   "cell_type": "code",
   "execution_count": 88,
   "metadata": {},
   "outputs": [
    {
     "name": "stdout",
     "output_type": "stream",
     "text": [
      "user_id                                                   1000\n",
      "month                                                       12\n",
      "Calls_total                                               16.0\n",
      "Calls_total_duration                                     124.0\n",
      "Messages_total                                            11.0\n",
      "Internet_total                                         1901.47\n",
      "first_name                                            Anamaria\n",
      "last_name                                                Bauer\n",
      "age                                                         45\n",
      "city                     Atlanta-Sandy Springs-Roswell, GA MSA\n",
      "reg_date                                   2018-12-24 00:00:00\n",
      "plan                                                  ultimate\n",
      "churn_date                                 2025-12-31 00:00:00\n",
      "status                                                    True\n",
      "antiguedad                                  2564 days 00:00:00\n",
      "messages_included                                         1000\n",
      "mb_per_month_included                                     30.0\n",
      "minutes_included                                          3000\n",
      "usd_monthly_pay                                             70\n",
      "usd_per_gb                                                   7\n",
      "usd_per_message                                           0.01\n",
      "usd_per_minute                                            0.01\n",
      "plan_name                                             ultimate\n",
      "comision_llamada                                           0.0\n",
      "comision_mensaje                                           0.0\n",
      "comision_datos                                            14.0\n",
      "ingreso_total                                             84.0\n",
      "Name: 0, dtype: object\n"
     ]
    }
   ],
   "source": [
    "#hice notas en mi cuaderno para este paso.\n",
    "rme = merge_ut.iloc[0]\n",
    "print(rme)"
   ]
  },
  {
   "cell_type": "code",
   "execution_count": 52,
   "metadata": {
    "id": "5FGCf_c60q1I"
   },
   "outputs": [
    {
     "name": "stdout",
     "output_type": "stream",
     "text": [
      "\n",
      "\n"
     ]
    }
   ],
   "source": [
    "# Calcula el ingreso mensual para cada usuario\n",
    "#df_user_tarif = merge()\n",
    "#print(df_user_tarif)\n",
    "def ingreso_llamadas(row):\n",
    "    duration = row['Calls_total_duration']\n",
    "    plan =row['minutes_included']\n",
    "    comision = duration - plan\n",
    "    if comision < 0:\n",
    "        return 0\n",
    "    else:\n",
    "        \n",
    "        return row['usd_per_minute'] * np.ceil(comision)\n",
    "\n",
    "def ingreso_mensaje(row):\n",
    "    duration = row['Messages_total']\n",
    "    plan = row['messages_included']\n",
    "    comision = duration - plan\n",
    "    if comision < 0:\n",
    "        return 0\n",
    "    else:\n",
    "        return row['usd_per_message']*np.ceil(comision)\n",
    "\n",
    "def ingreso_datos(row):\n",
    "    duration = row['Internet_total']\n",
    "    plan = row['mb_per_month_included']\n",
    "    comision = duration - plan\n",
    "    if comision < 0:\n",
    "        return 0\n",
    "    else:\n",
    "        gb = comision/1024       \n",
    "        return row['usd_per_gb']*np.ceil(gb)\n",
    "\n",
    "merge_ut['comision_llamada'] = merge_ut.apply(ingreso_llamadas, axis = 1)\n",
    "merge_ut['comision_mensaje'] = merge_ut.apply(ingreso_mensaje, axis = 1)\n",
    "merge_ut['comision_datos'] = merge_ut.apply(ingreso_datos, axis= 1)\n",
    "merge_ut['ingreso_total'] = merge_ut['comision_llamada'] + merge_ut['comision_mensaje'] + merge_ut['comision_datos']+merge_ut['usd_monthly_pay']\n",
    "\n",
    "#print(merge_ut['comision_llamada'].value_counts())\n",
    "print()\n",
    "#print(merge_ut['comision_mensaje'].value_counts())\n",
    "print()\n",
    "#print(merge_ut['comision_datos'].value_counts())"
   ]
  },
  {
   "cell_type": "code",
   "execution_count": 83,
   "metadata": {},
   "outputs": [
    {
     "name": "stdout",
     "output_type": "stream",
     "text": [
      "user_id                                                   1000\n",
      "month                                                       12\n",
      "Calls_total                                               16.0\n",
      "Calls_total_duration                                     124.0\n",
      "Messages_total                                            11.0\n",
      "Internet_total                                         1901.47\n",
      "first_name                                            Anamaria\n",
      "last_name                                                Bauer\n",
      "age                                                         45\n",
      "city                     Atlanta-Sandy Springs-Roswell, GA MSA\n",
      "reg_date                                   2018-12-24 00:00:00\n",
      "plan                                                  ultimate\n",
      "churn_date                                 2025-12-31 00:00:00\n",
      "status                                                    True\n",
      "antiguedad                                  2564 days 00:00:00\n",
      "messages_included                                         1000\n",
      "mb_per_month_included                                     30.0\n",
      "minutes_included                                          3000\n",
      "usd_monthly_pay                                             70\n",
      "usd_per_gb                                                   7\n",
      "usd_per_message                                           0.01\n",
      "usd_per_minute                                            0.01\n",
      "plan_name                                             ultimate\n",
      "comision_llamada                                           0.0\n",
      "comision_mensaje                                           0.0\n",
      "comision_datos                                            14.0\n",
      "ingreso_total                                             84.0\n",
      "Name: 0, dtype: object\n"
     ]
    }
   ],
   "source": [
    "#hice notas en mi cuaderno para este paso.\n",
    "mer_com = merge_ut.iloc[0]\n",
    "print(mer_com)"
   ]
  },
  {
   "cell_type": "markdown",
   "metadata": {},
   "source": [
    "Del proceso de agregación de datos, se añadieron nuevas columnas 'comision_llamadas', 'comision_mensaje' y 'comision_datos' que representan los costos extra por el uso extralimitado del servicio, y el costo total por mes del usuario, que es la suma entre el costo de su plan con el del total de sus comisiones por excedencia."
   ]
  },
  {
   "cell_type": "markdown",
   "metadata": {
    "id": "-jtyHzJb0q1I"
   },
   "source": [
    "## Estudia el comportamiento de usuario"
   ]
  },
  {
   "cell_type": "markdown",
   "metadata": {
    "id": "vtW4CJEe0q1J"
   },
   "source": [
    "### Llamadas"
   ]
  },
  {
   "cell_type": "code",
   "execution_count": 84,
   "metadata": {},
   "outputs": [
    {
     "data": {
      "text/plain": [
       "<Figure size 1200x600 with 0 Axes>"
      ]
     },
     "metadata": {},
     "output_type": "display_data"
    },
    {
     "data": {
      "image/png": "[encoded data removed]",
      "text/plain": [
       "<Figure size 640x480 with 1 Axes>"
      ]
     },
     "metadata": {},
     "output_type": "display_data"
    }
   ],
   "source": [
    "plt.figure(figsize = (12,6))\n",
    "m_pcs = merge_ut.groupby(['month','plan_name'])['Calls_total_duration'].mean().unstack()\n",
    "m_pcs.plot(kind = 'bar', colormap = 'Set2') # Set2 o usa colormap ='viridis', 'pastel1', etc.\n",
    "plt.title('Tasa de llamadas por plan y por mes.')\n",
    "plt.xlabel('Mes del año.')\n",
    "plt.ylabel('Promedio de duración de llamada.')\n",
    "plt.xticks(rotation = 0)\n",
    "plt.legend(title = 'Plan')\n",
    "plt.tight_layout()\n",
    "plt.show()"
   ]
  },
  {
   "cell_type": "code",
   "execution_count": 112,
   "metadata": {
    "id": "QoLqW1S_0q1J"
   },
   "outputs": [],
   "source": [
    "# Compara el número de minutos mensuales que necesitan los usuarios de cada plan. Traza un histograma.\n",
    "td_surf = merge_ut[merge_ut['plan_name']=='surf']['Calls_total_duration']\n",
    "#td_surf.replace(0, np.nan, inplace=True)\n",
    "td_ultimate = merge_ut[merge_ut['plan_name']=='ultimate']['Calls_total_duration']\n",
    "#td_ultimate.replace(0, np.nan, inplace=True)"
   ]
  },
  {
   "cell_type": "code",
   "execution_count": 113,
   "metadata": {},
   "outputs": [
    {
     "name": "stdout",
     "output_type": "stream",
     "text": [
      "569        0.0\n",
      "930        0.0\n",
      "439        0.0\n",
      "933        0.0\n",
      "1609       0.0\n",
      "         ...  \n",
      "1129    1212.0\n",
      "1701    1227.0\n",
      "1489    1304.0\n",
      "1703    1357.0\n",
      "1271    1510.0\n",
      "Name: Calls_total_duration, Length: 1573, dtype: float64\n"
     ]
    }
   ],
   "source": [
    "#print(td_surf[td_surf['Calls_total_duration']== 0])\n",
    "print(td_surf.sort_values())"
   ]
  },
  {
   "cell_type": "code",
   "execution_count": 108,
   "metadata": {},
   "outputs": [],
   "source": [
    "#dfn_surf = td_surf.reset_index()\n",
    "#dfn_surf.replace(0, np.nan, inplace=True)\n",
    "#dfn_ultimate =td_ultimate.reset_index()\n",
    "#dfn_ultimate.replace(0, np.nan, inplace=True)"
   ]
  },
  {
   "cell_type": "code",
   "execution_count": 115,
   "metadata": {},
   "outputs": [
    {
     "data": {
      "image/png": "[encoded data removed]",
      "text/plain": [
       "<Figure size 1000x600 with 1 Axes>"
      ]
     },
     "metadata": {},
     "output_type": "display_data"
    },
    {
     "name": "stdout",
     "output_type": "stream",
     "text": [
      "count    1573.000000\n",
      "mean      428.749523\n",
      "std       234.453150\n",
      "min         0.000000\n",
      "25%       272.000000\n",
      "50%       425.000000\n",
      "75%       576.000000\n",
      "max      1510.000000\n",
      "Name: Calls_total_duration, dtype: float64\n"
     ]
    }
   ],
   "source": [
    "plt.figure(figsize = (10,6))\n",
    "td_surf.dropna().plot(kind='hist', bins=40, color = 'salmon', alpha=0.5)\n",
    "td_ultimate.dropna().plot(kind='hist', bins=40, color = 'purple', alpha=0.5)\n",
    "plt.title('Distribución de tiempo requerido por mes con el plan Surf y Ultimate.')\n",
    "plt.xlabel('Tiempo requerido por usuario.')\n",
    "plt.ylabel('Frecuencia')\n",
    "plt.tight_layout()\n",
    "plt.show()\n",
    "\n",
    "print(td_surf.describe())"
   ]
  },
  {
   "cell_type": "code",
   "execution_count": 116,
   "metadata": {
    "id": "oSndbAnt0q1K"
   },
   "outputs": [
    {
     "name": "stdout",
     "output_type": "stream",
     "text": [
      "Media de llamadas de usuarios.\n",
      "429.2834714348016\n",
      "Varianza de llamadas de usuarios\n",
      "55822.82326365782\n",
      "\n"
     ]
    },
    {
     "data": {
      "text/html": [
       "<div>\n",
       "<style scoped>\n",
       "    .dataframe tbody tr th:only-of-type {\n",
       "        vertical-align: middle;\n",
       "    }\n",
       "\n",
       "    .dataframe tbody tr th {\n",
       "        vertical-align: top;\n",
       "    }\n",
       "\n",
       "    .dataframe thead th {\n",
       "        text-align: right;\n",
       "    }\n",
       "</style>\n",
       "<table border=\"1\" class=\"dataframe\">\n",
       "  <thead>\n",
       "    <tr style=\"text-align: right;\">\n",
       "      <th></th>\n",
       "      <th>month</th>\n",
       "      <th>Calls_total</th>\n",
       "      <th>Calls_total_duration</th>\n",
       "      <th>Messages_total</th>\n",
       "      <th>Internet_total</th>\n",
       "      <th>age</th>\n",
       "      <th>antiguedad</th>\n",
       "      <th>messages_included</th>\n",
       "      <th>mb_per_month_included</th>\n",
       "      <th>minutes_included</th>\n",
       "      <th>usd_monthly_pay</th>\n",
       "      <th>usd_per_gb</th>\n",
       "      <th>usd_per_message</th>\n",
       "      <th>usd_per_minute</th>\n",
       "      <th>comision_llamada</th>\n",
       "      <th>comision_mensaje</th>\n",
       "      <th>comision_datos</th>\n",
       "      <th>ingreso_total</th>\n",
       "    </tr>\n",
       "  </thead>\n",
       "  <tbody>\n",
       "    <tr>\n",
       "      <th>count</th>\n",
       "      <td>2293.000000</td>\n",
       "      <td>2293.000000</td>\n",
       "      <td>2293.000000</td>\n",
       "      <td>2293.000000</td>\n",
       "      <td>2293.000000</td>\n",
       "      <td>2293.000000</td>\n",
       "      <td>2293</td>\n",
       "      <td>2293.000000</td>\n",
       "      <td>2293.000000</td>\n",
       "      <td>2293.000000</td>\n",
       "      <td>2293.000000</td>\n",
       "      <td>2293.000000</td>\n",
       "      <td>2293.000000</td>\n",
       "      <td>2293.000000</td>\n",
       "      <td>2293.000000</td>\n",
       "      <td>2293.000000</td>\n",
       "      <td>2293.000000</td>\n",
       "      <td>2293.000000</td>\n",
       "    </tr>\n",
       "    <tr>\n",
       "      <th>mean</th>\n",
       "      <td>9.172700</td>\n",
       "      <td>48.365024</td>\n",
       "      <td>429.283471</td>\n",
       "      <td>33.166594</td>\n",
       "      <td>16764.397606</td>\n",
       "      <td>45.428260</td>\n",
       "      <td>2608 days 21:10:26.428259936</td>\n",
       "      <td>348.299171</td>\n",
       "      <td>19.709987</td>\n",
       "      <td>1284.997819</td>\n",
       "      <td>35.699956</td>\n",
       "      <td>9.058003</td>\n",
       "      <td>0.023720</td>\n",
       "      <td>0.023720</td>\n",
       "      <td>1.264828</td>\n",
       "      <td>0.144322</td>\n",
       "      <td>152.225469</td>\n",
       "      <td>189.334575</td>\n",
       "    </tr>\n",
       "    <tr>\n",
       "      <th>std</th>\n",
       "      <td>2.496386</td>\n",
       "      <td>26.202856</td>\n",
       "      <td>236.320077</td>\n",
       "      <td>34.070085</td>\n",
       "      <td>7967.237527</td>\n",
       "      <td>16.764349</td>\n",
       "      <td>666 days 15:10:41.615760312</td>\n",
       "      <td>441.006389</td>\n",
       "      <td>6.963259</td>\n",
       "      <td>1160.543128</td>\n",
       "      <td>23.210863</td>\n",
       "      <td>1.392652</td>\n",
       "      <td>0.009284</td>\n",
       "      <td>0.009284</td>\n",
       "      <td>3.233992</td>\n",
       "      <td>0.493515</td>\n",
       "      <td>74.675828</td>\n",
       "      <td>72.331014</td>\n",
       "    </tr>\n",
       "    <tr>\n",
       "      <th>min</th>\n",
       "      <td>1.000000</td>\n",
       "      <td>0.000000</td>\n",
       "      <td>0.000000</td>\n",
       "      <td>0.000000</td>\n",
       "      <td>0.000000</td>\n",
       "      <td>18.000000</td>\n",
       "      <td>7 days 00:00:00</td>\n",
       "      <td>50.000000</td>\n",
       "      <td>15.000000</td>\n",
       "      <td>500.000000</td>\n",
       "      <td>20.000000</td>\n",
       "      <td>7.000000</td>\n",
       "      <td>0.010000</td>\n",
       "      <td>0.010000</td>\n",
       "      <td>0.000000</td>\n",
       "      <td>0.000000</td>\n",
       "      <td>0.000000</td>\n",
       "      <td>20.000000</td>\n",
       "    </tr>\n",
       "    <tr>\n",
       "      <th>25%</th>\n",
       "      <td>8.000000</td>\n",
       "      <td>30.000000</td>\n",
       "      <td>265.000000</td>\n",
       "      <td>3.000000</td>\n",
       "      <td>12235.760000</td>\n",
       "      <td>30.000000</td>\n",
       "      <td>2701 days 00:00:00</td>\n",
       "      <td>50.000000</td>\n",
       "      <td>15.000000</td>\n",
       "      <td>500.000000</td>\n",
       "      <td>20.000000</td>\n",
       "      <td>7.000000</td>\n",
       "      <td>0.010000</td>\n",
       "      <td>0.010000</td>\n",
       "      <td>0.000000</td>\n",
       "      <td>0.000000</td>\n",
       "      <td>105.000000</td>\n",
       "      <td>150.000000</td>\n",
       "    </tr>\n",
       "    <tr>\n",
       "      <th>50%</th>\n",
       "      <td>10.000000</td>\n",
       "      <td>48.000000</td>\n",
       "      <td>425.000000</td>\n",
       "      <td>26.000000</td>\n",
       "      <td>16830.640000</td>\n",
       "      <td>46.000000</td>\n",
       "      <td>2785 days 00:00:00</td>\n",
       "      <td>50.000000</td>\n",
       "      <td>15.000000</td>\n",
       "      <td>500.000000</td>\n",
       "      <td>20.000000</td>\n",
       "      <td>10.000000</td>\n",
       "      <td>0.030000</td>\n",
       "      <td>0.030000</td>\n",
       "      <td>0.000000</td>\n",
       "      <td>0.000000</td>\n",
       "      <td>150.000000</td>\n",
       "      <td>190.000000</td>\n",
       "    </tr>\n",
       "    <tr>\n",
       "      <th>75%</th>\n",
       "      <td>11.000000</td>\n",
       "      <td>64.000000</td>\n",
       "      <td>572.000000</td>\n",
       "      <td>51.000000</td>\n",
       "      <td>20999.840000</td>\n",
       "      <td>61.000000</td>\n",
       "      <td>2865 days 00:00:00</td>\n",
       "      <td>1000.000000</td>\n",
       "      <td>30.000000</td>\n",
       "      <td>3000.000000</td>\n",
       "      <td>70.000000</td>\n",
       "      <td>10.000000</td>\n",
       "      <td>0.030000</td>\n",
       "      <td>0.030000</td>\n",
       "      <td>0.000000</td>\n",
       "      <td>0.000000</td>\n",
       "      <td>196.000000</td>\n",
       "      <td>230.000000</td>\n",
       "    </tr>\n",
       "    <tr>\n",
       "      <th>max</th>\n",
       "      <td>12.000000</td>\n",
       "      <td>167.000000</td>\n",
       "      <td>1510.000000</td>\n",
       "      <td>266.000000</td>\n",
       "      <td>70931.590000</td>\n",
       "      <td>75.000000</td>\n",
       "      <td>2921 days 00:00:00</td>\n",
       "      <td>1000.000000</td>\n",
       "      <td>30.000000</td>\n",
       "      <td>3000.000000</td>\n",
       "      <td>70.000000</td>\n",
       "      <td>10.000000</td>\n",
       "      <td>0.030000</td>\n",
       "      <td>0.030000</td>\n",
       "      <td>30.300000</td>\n",
       "      <td>6.480000</td>\n",
       "      <td>700.000000</td>\n",
       "      <td>740.370000</td>\n",
       "    </tr>\n",
       "  </tbody>\n",
       "</table>\n",
       "</div>"
      ],
      "text/plain": [
       "             month  Calls_total  Calls_total_duration  Messages_total  \\\n",
       "count  2293.000000  2293.000000           2293.000000     2293.000000   \n",
       "mean      9.172700    48.365024            429.283471       33.166594   \n",
       "std       2.496386    26.202856            236.320077       34.070085   \n",
       "min       1.000000     0.000000              0.000000        0.000000   \n",
       "25%       8.000000    30.000000            265.000000        3.000000   \n",
       "50%      10.000000    48.000000            425.000000       26.000000   \n",
       "75%      11.000000    64.000000            572.000000       51.000000   \n",
       "max      12.000000   167.000000           1510.000000      266.000000   \n",
       "\n",
       "       Internet_total          age                    antiguedad  \\\n",
       "count     2293.000000  2293.000000                          2293   \n",
       "mean     16764.397606    45.428260  2608 days 21:10:26.428259936   \n",
       "std       7967.237527    16.764349   666 days 15:10:41.615760312   \n",
       "min          0.000000    18.000000               7 days 00:00:00   \n",
       "25%      12235.760000    30.000000            2701 days 00:00:00   \n",
       "50%      16830.640000    46.000000            2785 days 00:00:00   \n",
       "75%      20999.840000    61.000000            2865 days 00:00:00   \n",
       "max      70931.590000    75.000000            2921 days 00:00:00   \n",
       "\n",
       "       messages_included  mb_per_month_included  minutes_included  \\\n",
       "count        2293.000000            2293.000000       2293.000000   \n",
       "mean          348.299171              19.709987       1284.997819   \n",
       "std           441.006389               6.963259       1160.543128   \n",
       "min            50.000000              15.000000        500.000000   \n",
       "25%            50.000000              15.000000        500.000000   \n",
       "50%            50.000000              15.000000        500.000000   \n",
       "75%          1000.000000              30.000000       3000.000000   \n",
       "max          1000.000000              30.000000       3000.000000   \n",
       "\n",
       "       usd_monthly_pay   usd_per_gb  usd_per_message  usd_per_minute  \\\n",
       "count      2293.000000  2293.000000      2293.000000     2293.000000   \n",
       "mean         35.699956     9.058003         0.023720        0.023720   \n",
       "std          23.210863     1.392652         0.009284        0.009284   \n",
       "min          20.000000     7.000000         0.010000        0.010000   \n",
       "25%          20.000000     7.000000         0.010000        0.010000   \n",
       "50%          20.000000    10.000000         0.030000        0.030000   \n",
       "75%          70.000000    10.000000         0.030000        0.030000   \n",
       "max          70.000000    10.000000         0.030000        0.030000   \n",
       "\n",
       "       comision_llamada  comision_mensaje  comision_datos  ingreso_total  \n",
       "count       2293.000000       2293.000000     2293.000000    2293.000000  \n",
       "mean           1.264828          0.144322      152.225469     189.334575  \n",
       "std            3.233992          0.493515       74.675828      72.331014  \n",
       "min            0.000000          0.000000        0.000000      20.000000  \n",
       "25%            0.000000          0.000000      105.000000     150.000000  \n",
       "50%            0.000000          0.000000      150.000000     190.000000  \n",
       "75%            0.000000          0.000000      196.000000     230.000000  \n",
       "max           30.300000          6.480000      700.000000     740.370000  "
      ]
     },
     "execution_count": 116,
     "metadata": {},
     "output_type": "execute_result"
    }
   ],
   "source": [
    "# Calcula la media y la varianza de la duración mensual de llamadas.\n",
    "media = merge_ut['Calls_total_duration'].mean()\n",
    "varianza = np.var(merge_ut['Calls_total_duration'])\n",
    "print('Media de llamadas de usuarios.')\n",
    "print(media)\n",
    "print('Varianza de llamadas de usuarios')\n",
    "print(varianza)\n",
    "print()\n",
    "merge_ut.describe()"
   ]
  },
  {
   "cell_type": "code",
   "execution_count": 118,
   "metadata": {},
   "outputs": [
    {
     "name": "stdout",
     "output_type": "stream",
     "text": [
      "Media de llamadas de usuarios con plan Surf.\n",
      "428.7495232040687\n",
      "Varianza de llamadas de usuarios con plan Surf\n",
      "54933.334591317485\n",
      "\n"
     ]
    },
    {
     "data": {
      "text/plain": [
       "count    1573.000000\n",
       "mean      428.749523\n",
       "std       234.453150\n",
       "min         0.000000\n",
       "25%       272.000000\n",
       "50%       425.000000\n",
       "75%       576.000000\n",
       "max      1510.000000\n",
       "Name: Calls_total_duration, dtype: float64"
      ]
     },
     "execution_count": 118,
     "metadata": {},
     "output_type": "execute_result"
    }
   ],
   "source": [
    "media_td_surf = td_surf.mean()\n",
    "varianza_td_surf = np.var(td_surf)\n",
    "print('Media de llamadas de usuarios con plan Surf.')\n",
    "print(media_td_surf)\n",
    "print('Varianza de llamadas de usuarios con plan Surf')\n",
    "print(varianza_td_surf)\n",
    "print()\n",
    "\n",
    "td_surf.describe()"
   ]
  },
  {
   "cell_type": "code",
   "execution_count": 93,
   "metadata": {},
   "outputs": [
    {
     "name": "stdout",
     "output_type": "stream",
     "text": [
      "Media de llamadas de usuarios con plan Ultimate.\n",
      "430.45\n",
      "Varianza de llamadas de usuarios con plan Ultimate\n",
      "57764.12527777777\n",
      "\n"
     ]
    },
    {
     "data": {
      "text/plain": [
       "count     720.000000\n",
       "mean      430.450000\n",
       "std       240.508762\n",
       "min         0.000000\n",
       "25%       260.000000\n",
       "50%       424.000000\n",
       "75%       565.250000\n",
       "max      1369.000000\n",
       "Name: Calls_total_duration, dtype: float64"
      ]
     },
     "execution_count": 93,
     "metadata": {},
     "output_type": "execute_result"
    }
   ],
   "source": [
    "media_td_ultimate = td_ultimate.mean()\n",
    "varianza_td_ultimate = np.var(td_ultimate)\n",
    "print('Media de llamadas de usuarios con plan Ultimate.')\n",
    "print(media_td_ultimate)\n",
    "print('Varianza de llamadas de usuarios con plan Ultimate')\n",
    "print(varianza_td_ultimate)\n",
    "print()\n",
    "td_ultimate.describe()"
   ]
  },
  {
   "cell_type": "markdown",
   "metadata": {},
   "source": [
    "Con lo anterior, podemos observar que de ambos conjuntos los usuarios tienden a variar aproximadamente entre 234 a 240 tiempo de servicio extra total."
   ]
  },
  {
   "cell_type": "code",
   "execution_count": 60,
   "metadata": {
    "id": "nZzoRUKc0q1K"
   },
   "outputs": [
    {
     "name": "stdout",
     "output_type": "stream",
     "text": [
      "\n"
     ]
    },
    {
     "data": {
      "image/png": "[encoded data removed]",
      "text/plain": [
       "<Figure size 640x480 with 1 Axes>"
      ]
     },
     "metadata": {},
     "output_type": "display_data"
    }
   ],
   "source": [
    "# Traza un diagrama de caja para visualizar la distribución de la duración mensual de llamadas\n",
    "sns.boxplot(data= merge_ut['Calls_total_duration'])\n",
    "print()"
   ]
  },
  {
   "cell_type": "code",
   "execution_count": 61,
   "metadata": {},
   "outputs": [
    {
     "data": {
      "text/plain": [
       "<AxesSubplot:xlabel='Calls_total_duration', ylabel='plan_name'>"
      ]
     },
     "execution_count": 61,
     "metadata": {},
     "output_type": "execute_result"
    },
    {
     "data": {
      "image/png": "[encoded data removed]",
      "text/plain": [
       "<Figure size 640x480 with 1 Axes>"
      ]
     },
     "metadata": {},
     "output_type": "display_data"
    }
   ],
   "source": [
    "sns.boxplot(data=merge_ut, x = 'Calls_total_duration', y ='plan_name')\n",
    "#sns.boxplot(data=merge_ut['Cals_total_duration'])\n",
    "#xlabel='llamada duración.'"
   ]
  },
  {
   "cell_type": "markdown",
   "metadata": {},
   "source": [
    "Distribución por plan:\n",
    "Tanto el plan 'surf' como el plan 'ultimate' tiene entre sus valores de mediana 400 minutos de duración y una tendencia similar. Se observan valores atípicos en ambos planes, en el plan surf más uniformemente entre 1000 y 1200 minutos. Mientras que en el plan ultimate se encuentra entre los 1100 y 1200 minutos. Solo unos pocos usuarios del plan surf presentó un valor atípico de más de 1400 minutos. No hay variabilidad entre ambos planes, la distribución de minutos no es dispersa, y ambas gráficas de cajas están similarmente compactas."
   ]
  },
  {
   "cell_type": "markdown",
   "metadata": {
    "id": "8idKy8Wh0q1L"
   },
   "source": [
    "### Mensajes"
   ]
  },
  {
   "cell_type": "code",
   "execution_count": 62,
   "metadata": {
    "id": "NXLxiTit0q1L"
   },
   "outputs": [
    {
     "data": {
      "text/plain": [
       "<Figure size 1200x600 with 0 Axes>"
      ]
     },
     "metadata": {},
     "output_type": "display_data"
    },
    {
     "data": {
      "image/png": "[encoded data removed]",
      "text/plain": [
       "<Figure size 640x480 with 1 Axes>"
      ]
     },
     "metadata": {},
     "output_type": "display_data"
    }
   ],
   "source": [
    "# Comprara el número de mensajes que tienden a enviar cada mes los usuarios de cada plan\n",
    "plt.figure(figsize = (12,6))\n",
    "m_pms = merge_ut.groupby(['month','plan_name'])['Messages_total'].mean().unstack()\n",
    "m_pms.plot(kind = 'bar', colormap = 'Set2') # Set2 o usa colormap ='viridis', 'pastel1', etc.\n",
    "plt.title('Tasa de mensajes por plan y por mes.')\n",
    "plt.xlabel('Mes del año.')\n",
    "plt.ylabel('Promedio de mensajes por usurios de cada plan.')\n",
    "plt.xticks(rotation = 0)\n",
    "plt.legend(title = 'Plan')\n",
    "plt.tight_layout()\n",
    "plt.show()\n"
   ]
  },
  {
   "cell_type": "code",
   "execution_count": 120,
   "metadata": {
    "id": "GRI_R7xF0q1L"
   },
   "outputs": [],
   "source": [
    "tdm_surf = merge_ut[merge_ut['plan_name']=='surf']['Messages_total']\n",
    "tdm_ultimate = merge_ut[merge_ut['plan_name']=='ultimate']['Messages_total']"
   ]
  },
  {
   "cell_type": "code",
   "execution_count": 123,
   "metadata": {},
   "outputs": [
    {
     "name": "stdout",
     "output_type": "stream",
     "text": [
      "Estadísticas de usuarios surf\n"
     ]
    },
    {
     "data": {
      "text/plain": [
       "count    1573.000000\n",
       "mean       31.159568\n",
       "std        33.566717\n",
       "min         0.000000\n",
       "25%         3.000000\n",
       "50%        24.000000\n",
       "75%        47.000000\n",
       "max       266.000000\n",
       "Name: Messages_total, dtype: float64"
      ]
     },
     "execution_count": 123,
     "metadata": {},
     "output_type": "execute_result"
    }
   ],
   "source": [
    "print('Estadísticas de usuarios surf')\n",
    "tdm_surf.describe()"
   ]
  },
  {
   "cell_type": "code",
   "execution_count": 124,
   "metadata": {},
   "outputs": [
    {
     "name": "stdout",
     "output_type": "stream",
     "text": [
      "Estadísticas de usuarios Ultimate\n"
     ]
    },
    {
     "data": {
      "text/plain": [
       "count    720.000000\n",
       "mean      37.551389\n",
       "std       34.767179\n",
       "min        0.000000\n",
       "25%        7.000000\n",
       "50%       30.000000\n",
       "75%       61.000000\n",
       "max      166.000000\n",
       "Name: Messages_total, dtype: float64"
      ]
     },
     "execution_count": 124,
     "metadata": {},
     "output_type": "execute_result"
    }
   ],
   "source": [
    "print('Estadísticas de usuarios Ultimate')\n",
    "tdm_ultimate.describe()"
   ]
  },
  {
   "cell_type": "markdown",
   "metadata": {},
   "source": [
    "Las estadísticas muestran la distribución de servicios requeridos extra de los usuarios. Los valores 0 son aquellos usuarios que no requirieron servicios extras de mensajes. Por otra parte, el valor máximo es el mayor valor de mensajes extra."
   ]
  },
  {
   "cell_type": "code",
   "execution_count": 64,
   "metadata": {
    "id": "dtFwCGAp0q1M"
   },
   "outputs": [
    {
     "data": {
      "image/png": "[encoded data removed]",
      "text/plain": [
       "<Figure size 1000x600 with 1 Axes>"
      ]
     },
     "metadata": {},
     "output_type": "display_data"
    }
   ],
   "source": [
    "plt.figure(figsize = (10,6))\n",
    "tdm_surf.dropna().plot(kind='hist', bins=33, color = 'salmon', alpha=0.5)\n",
    "tdm_ultimate.dropna().plot(kind='hist', bins=33, color = 'purple', alpha=0.5)\n",
    "plt.title('Distribución de mensajes requeridos por mes con el plan Surf y Ultimate.')\n",
    "plt.xlabel('Mensajes requeridos por usuario.')\n",
    "plt.ylabel('Frecuencia')\n",
    "plt.tight_layout()\n",
    "plt.show()"
   ]
  },
  {
   "cell_type": "code",
   "execution_count": 65,
   "metadata": {},
   "outputs": [
    {
     "data": {
      "text/plain": [
       "<AxesSubplot:xlabel='Messages_total', ylabel='plan_name'>"
      ]
     },
     "execution_count": 65,
     "metadata": {},
     "output_type": "execute_result"
    },
    {
     "data": {
      "image/png": "[encoded data removed]",
      "text/plain": [
       "<Figure size 640x480 with 1 Axes>"
      ]
     },
     "metadata": {},
     "output_type": "display_data"
    }
   ],
   "source": [
    "sns.boxplot(data=merge_ut, x = 'Messages_total', y ='plan_name')"
   ]
  },
  {
   "cell_type": "markdown",
   "metadata": {},
   "source": [
    "Distribución por plan: En el histograma observamos que hay un pico en 0 25, el valor más alto está en 0 mensajes, lo que indica que muchos usuarios de ambos planes no envían mensajes.Y en el caso del pico en 25 mensajes, se ve más pronunciado en los usuarios con el plan Surf. A diferencia del mismo pico en el plan Ultimate, que es más plano a comparación. Esto sugiere que muchos clientes con el plan surf tienden a necesitar de 0 a 25 mensajes en promedio y que es menos frecuente requerir más de 25 mensajes lo cual puede coincidir con rutinas de mayor comunicación por mensajes. Y finalmente, casi ningún usuario necesita más de 100 mensajes."
   ]
  },
  {
   "cell_type": "markdown",
   "metadata": {},
   "source": [
    "Plan y mensajes: Los usuarios ultimate tenían, en promedio, mayor mensajes por mes que los del plan surf, puesto que la mediana disminuye un poco al pasar del plan surf -> plan ultimate.\n",
    "Número de mensajes: En ambos planes la mediana está entre 25 a 30 mensajes. Esto podría indicar que tanto usuarios surf y ultimate siguen una tendencia de amplia variabilidad en el número de mensajes. Hay varios valores atípicos hacia más mensajes para surf, sugiere que hay usuarios que mandan muchos mensajes de 100 a 150, pero son casos poco frecuentes y extremadamente raros, usuarios que necesitaban más de 250 mensajes. Por el contrario en el plan ultimate, son extremadamente raros usuarios que requerian más de 150, lo que indica que los valores atípicos están más contenidos, con menos usuarios extremadamente activos. El plan ultimate parece atraer a usuarios más consistentes en su uso de mensajes, mientras que el plan surf capta usuarios más diversos o con necesidades más específicas e inconstantes.\n"
   ]
  },
  {
   "cell_type": "markdown",
   "metadata": {
    "id": "42YSypXz0q1M"
   },
   "source": [
    "### Internet"
   ]
  },
  {
   "cell_type": "code",
   "execution_count": 66,
   "metadata": {
    "id": "lSuKPtjh0q1M"
   },
   "outputs": [
    {
     "data": {
      "text/plain": [
       "<Figure size 1200x600 with 0 Axes>"
      ]
     },
     "metadata": {},
     "output_type": "display_data"
    },
    {
     "data": {
      "image/png": "[encoded data removed]",
      "text/plain": [
       "<Figure size 640x480 with 1 Axes>"
      ]
     },
     "metadata": {},
     "output_type": "display_data"
    }
   ],
   "source": [
    "plt.figure(figsize = (12,6))\n",
    "m_pis = merge_ut.groupby(['month','plan_name'])['Internet_total'].mean().unstack()\n",
    "m_pis.plot(kind = 'bar', colormap = 'Set2') # Set2 o usa colormap ='viridis', 'pastel1', etc.\n",
    "plt.title('Tasa de internet usado por plan y por mes.')\n",
    "plt.xlabel('Mes del año.')\n",
    "plt.ylabel('Promedio de internet por usuarios de cada plan.')\n",
    "plt.xticks(rotation = 0)\n",
    "plt.legend(title = 'Plan')\n",
    "plt.tight_layout()\n",
    "plt.show()"
   ]
  },
  {
   "cell_type": "code",
   "execution_count": 67,
   "metadata": {
    "id": "wnh8jYXi0q1N"
   },
   "outputs": [],
   "source": [
    "tdi_surf = merge_ut[merge_ut['plan_name']=='surf']['Internet_total']\n",
    "tdi_ultimate = merge_ut[merge_ut['plan_name']=='ultimate']['Internet_total']"
   ]
  },
  {
   "cell_type": "code",
   "execution_count": 125,
   "metadata": {},
   "outputs": [
    {
     "name": "stdout",
     "output_type": "stream",
     "text": [
      "Distribución de requerimiento de internet de los usuarios del plan surf\n"
     ]
    },
    {
     "data": {
      "text/plain": [
       "count     1573.000000\n",
       "mean     16558.283490\n",
       "std       8013.513327\n",
       "min          0.000000\n",
       "25%      11986.520000\n",
       "50%      16829.310000\n",
       "75%      20999.610000\n",
       "max      70931.590000\n",
       "Name: Internet_total, dtype: float64"
      ]
     },
     "execution_count": 125,
     "metadata": {},
     "output_type": "execute_result"
    }
   ],
   "source": [
    "print('Estadísticas de requerimiento de internet de los usuarios del plan surf')\n",
    "tdi_surf.describe()"
   ]
  },
  {
   "cell_type": "code",
   "execution_count": 126,
   "metadata": {},
   "outputs": [
    {
     "name": "stdout",
     "output_type": "stream",
     "text": [
      "Estadísticas de requerimiento de internet de los usuarios del plan ultimate\n"
     ]
    },
    {
     "data": {
      "text/plain": [
       "count      720.000000\n",
       "mean     17214.699694\n",
       "std       7851.897435\n",
       "min          0.000000\n",
       "25%      12666.955000\n",
       "50%      16858.340000\n",
       "75%      21014.527500\n",
       "max      46595.330000\n",
       "Name: Internet_total, dtype: float64"
      ]
     },
     "execution_count": 126,
     "metadata": {},
     "output_type": "execute_result"
    }
   ],
   "source": [
    "print('Estadísticas de requerimiento de internet de los usuarios del plan ultimate')\n",
    "tdi_ultimate.describe()"
   ]
  },
  {
   "cell_type": "markdown",
   "metadata": {},
   "source": [
    "Las estadísticas muestran la distribución de servicios requeridos extra de los usuarios. Los valores 0 son aquellos usuarios que no requirieron servicios extras de internet. Por otra parte, el valor máximo es el mayor valor de internet extra."
   ]
  },
  {
   "cell_type": "code",
   "execution_count": 68,
   "metadata": {},
   "outputs": [
    {
     "data": {
      "image/png": "[encoded data removed]",
      "text/plain": [
       "<Figure size 1000x600 with 1 Axes>"
      ]
     },
     "metadata": {},
     "output_type": "display_data"
    }
   ],
   "source": [
    "plt.figure(figsize = (10,6))\n",
    "tdi_surf.dropna().plot(kind='hist', bins=33, color = 'salmon', alpha=0.5)\n",
    "tdi_ultimate.dropna().plot(kind='hist', bins=33, color = 'purple', alpha=0.5)\n",
    "plt.title('Distribución de internet requerido por mes con el plan Surf y Ultimate.')\n",
    "plt.xlabel('Internet requerido por usuarios.')\n",
    "plt.ylabel('Frecuencia')\n",
    "plt.tight_layout()\n",
    "plt.show()"
   ]
  },
  {
   "cell_type": "code",
   "execution_count": 69,
   "metadata": {
    "id": "5VlyJ9ry0q1N"
   },
   "outputs": [
    {
     "data": {
      "text/plain": [
       "<AxesSubplot:xlabel='Internet_total', ylabel='plan_name'>"
      ]
     },
     "execution_count": 69,
     "metadata": {},
     "output_type": "execute_result"
    },
    {
     "data": {
      "image/png": "[encoded data removed]",
      "text/plain": [
       "<Figure size 640x480 with 1 Axes>"
      ]
     },
     "metadata": {},
     "output_type": "display_data"
    }
   ],
   "source": [
    "sns.boxplot(data=merge_ut, x = 'Internet_total', y ='plan_name')"
   ]
  },
  {
   "cell_type": "markdown",
   "metadata": {},
   "source": [
    "Distribución entre planes: Ambos planes tienen un valor de mediana similar entre 16,000 MB esto lo podemos constrastar con el histograma que nos muestra que en efecto ambos comparten mediana, puesto que tiene una positiva intuimos que el valor de su media es mayor en ambos casos. Ambos planes tienen valores atípicos entre el rango 35,000 y 50,000, sin embargo, el plan surf tiene usuarios extemadamente raros que necesitan más de 70,000 MB, cosa que los usuario con el plan Ultimate no necesitan. El comportamiento de ambos grupos parece estar contenido, con una ligera excepción del plan surf, que al parecer tiene pocos usuarios dispersos.\n"
   ]
  },
  {
   "cell_type": "markdown",
   "metadata": {
    "id": "tCijq3260q1N"
   },
   "source": [
    "## Ingreso"
   ]
  },
  {
   "cell_type": "code",
   "execution_count": 127,
   "metadata": {
    "id": "tz-dq_V00q1O"
   },
   "outputs": [
    {
     "data": {
      "text/plain": [
       "<Figure size 1200x600 with 0 Axes>"
      ]
     },
     "metadata": {},
     "output_type": "display_data"
    },
    {
     "data": {
      "image/png": "[encoded data removed]",
      "text/plain": [
       "<Figure size 640x480 with 1 Axes>"
      ]
     },
     "metadata": {},
     "output_type": "display_data"
    }
   ],
   "source": [
    "plt.figure(figsize = (12,6))\n",
    "m_pis = merge_ut.groupby(['month','plan_name'])['ingreso_total'].sum().unstack()\n",
    "m_pis.plot(kind = 'bar', colormap = 'Set2') # Set2 o usa colormap ='viridis', 'pastel1', etc.\n",
    "plt.title('Ingreso total por plan y por mes.')\n",
    "plt.xlabel('Mes del año.')\n",
    "plt.ylabel('Ingreso total de usuarios de cada plan.')\n",
    "plt.xticks(rotation = 0)\n",
    "plt.legend(title = 'Plan')\n",
    "plt.tight_layout()\n",
    "plt.show()"
   ]
  },
  {
   "cell_type": "code",
   "execution_count": 71,
   "metadata": {
    "id": "0Y1v8ZUz0q1P"
   },
   "outputs": [],
   "source": [
    "tdig_surf = merge_ut[merge_ut['plan_name']=='surf']['ingreso_total']\n",
    "tdig_ultimate = merge_ut[merge_ut['plan_name']=='ultimate']['ingreso_total']"
   ]
  },
  {
   "cell_type": "code",
   "execution_count": 129,
   "metadata": {},
   "outputs": [
    {
     "name": "stdout",
     "output_type": "stream",
     "text": [
      "Estadística de los ingresos totales de los usuarios de surf.\n"
     ]
    },
    {
     "data": {
      "text/plain": [
       "count    1573.000000\n",
       "mean      188.602149\n",
       "std        79.401563\n",
       "min        20.000000\n",
       "25%       140.570000\n",
       "50%       190.180000\n",
       "75%       230.360000\n",
       "max       740.370000\n",
       "Name: ingreso_total, dtype: float64"
      ]
     },
     "execution_count": 129,
     "metadata": {},
     "output_type": "execute_result"
    }
   ],
   "source": [
    "print('Estadística de los ingresos totales de los usuarios de surf.')\n",
    "tdig_surf.describe()"
   ]
  },
  {
   "cell_type": "code",
   "execution_count": 130,
   "metadata": {},
   "outputs": [
    {
     "name": "stdout",
     "output_type": "stream",
     "text": [
      "Estadística de los ingresos totales de los usuarios de Ultimate.\n"
     ]
    },
    {
     "data": {
      "text/plain": [
       "count    720.000000\n",
       "mean     190.934722\n",
       "std       53.755977\n",
       "min       70.000000\n",
       "25%      161.000000\n",
       "50%      189.000000\n",
       "75%      217.000000\n",
       "max      392.000000\n",
       "Name: ingreso_total, dtype: float64"
      ]
     },
     "execution_count": 130,
     "metadata": {},
     "output_type": "execute_result"
    }
   ],
   "source": [
    "print('Estadística de los ingresos totales de los usuarios de Ultimate.')\n",
    "tdig_ultimate.describe()"
   ]
  },
  {
   "cell_type": "markdown",
   "metadata": {},
   "source": [
    "Las estadísticas muestran la distribución de servicios requeridos extra de los usuarios. Los valores mínimo en ambos planes son 20 y 70, indicando que todavía hay usuarios que no necesitaron servicios extra. Por otra parte, el valor máximo es el mayor valor de gasto que tienen los usuarios en cada paquete."
   ]
  },
  {
   "cell_type": "code",
   "execution_count": 128,
   "metadata": {},
   "outputs": [],
   "source": [
    "#print(tdig_surf)\n",
    "#print()\n",
    "#print(tdig_ultimate)"
   ]
  },
  {
   "cell_type": "code",
   "execution_count": 73,
   "metadata": {
    "id": "bYmwxyVh0q1P"
   },
   "outputs": [
    {
     "data": {
      "image/png": "[encoded data removed]",
      "text/plain": [
       "<Figure size 1000x600 with 1 Axes>"
      ]
     },
     "metadata": {},
     "output_type": "display_data"
    }
   ],
   "source": [
    "plt.figure(figsize = (10,6))\n",
    "tdig_surf.dropna().plot(kind='hist', bins=33, color = 'salmon', alpha=0.5)\n",
    "tdig_ultimate.dropna().plot(kind='hist', bins=33, color = 'purple', alpha=0.5)\n",
    "plt.title('Distribución de ingreso por mes con el plan Surf y Ultimate.')\n",
    "plt.xlabel('Ingresos por usuarios.')\n",
    "plt.ylabel('Frecuencia')\n",
    "plt.tight_layout()\n",
    "plt.show()"
   ]
  },
  {
   "cell_type": "code",
   "execution_count": 74,
   "metadata": {},
   "outputs": [
    {
     "data": {
      "text/plain": [
       "<AxesSubplot:xlabel='ingreso_total', ylabel='plan_name'>"
      ]
     },
     "execution_count": 74,
     "metadata": {},
     "output_type": "execute_result"
    },
    {
     "data": {
      "image/png": "[encoded data removed]",
      "text/plain": [
       "<Figure size 640x480 with 1 Axes>"
      ]
     },
     "metadata": {},
     "output_type": "display_data"
    }
   ],
   "source": [
    "sns.boxplot(data=merge_ut, x = 'ingreso_total', y ='plan_name')"
   ]
  },
  {
   "cell_type": "markdown",
   "metadata": {},
   "source": [
    "Conclusiones: Auque podríamos ver poco conciso el histograma este nos dice claramente que los usuarios con el plan ultimate no pagan más de su cuota mensual (70 dlls). Contrario a los usuario surf, que si bien la mediana sigue estando al rededor de 20 dlls, su media está más hacia la derecha hacia el lado positivo, además se observa que los usuarios terminan pagando inclusive más que lo que pagarían con el plan ultimate al mes, estos valores atípicos concentran usuarios que gastan de 150 hasta casi 400 dlls al mes, e incluso muy raramente, 600 dlls al mes. "
   ]
  },
  {
   "cell_type": "markdown",
   "metadata": {},
   "source": [
    "Los ingresos que se colectan de los usuarios surf es mucho mayor con creces a aquellos  usuarios con el plan ultimate, por lo anterior, el plan que se elige tiene un rol relevante para la acaparación de ingresos, y esta información respalda presupuesto para diseñar estrategías de marketing para los planes surf para adquirir más usuarios afiliados a este plan."
   ]
  },
  {
   "cell_type": "markdown",
   "metadata": {
    "id": "ajJ7VKeI0q1Q"
   },
   "source": [
    "## Prueba las hipótesis estadísticas"
   ]
  },
  {
   "cell_type": "markdown",
   "metadata": {},
   "source": [
    " La prueba que elegimos para este enfoque es la prueba bilateral, pues vamos a evaluar ambos extremos de la distribuciones. Puesto que solo queremos saber sí los ingresos promedios procedentes de los usuarios de los diferentes planes son diferentes."
   ]
  },
  {
   "cell_type": "markdown",
   "metadata": {},
   "source": [
    "Pregunta.\n",
    "¿Cambia el ingreso promedio de los planes ultimate y Surf?\n",
    "\n",
    "Hipotesis nula: La media es igual entre ambos planes. \n",
    "\n",
    "Hipotesis alternativa: La media es distinta."
   ]
  },
  {
   "cell_type": "code",
   "execution_count": 75,
   "metadata": {
    "id": "nFoPNlPq0q1R"
   },
   "outputs": [
    {
     "name": "stdout",
     "output_type": "stream",
     "text": [
      "valor p:  0.47367721994532186\n",
      "No podemos rechazar la hipótesis nula\n"
     ]
    }
   ],
   "source": [
    "alpha = 0.05 # Nivel de significancia estadística crítica\n",
    "\n",
    "result_prueba = st.ttest_ind(tdig_surf, tdig_ultimate)\n",
    "\n",
    "print('valor p: ', result_prueba.pvalue)\n",
    "\n",
    "if result_prueba.pvalue < alpha: \n",
    "    print('Rechazamos la hipótesis.')\n",
    "else:\n",
    "    print('No podemos rechazar la hipótesis nula')\n",
    "    "
   ]
  },
  {
   "cell_type": "markdown",
   "metadata": {},
   "source": [
    "Según el análisis estadístico no se encontraron diferencias significativas en el ingreso promedio generado por los usuarios de los planes Ultimate y Surf. Esto sugiere que, en términos generales de ingresos, ambos planes se comportan de manera similar y podrían requerir estrategias de optimización distintas a las basadas únicamente en su valor medio de ingreso."
   ]
  },
  {
   "cell_type": "markdown",
   "metadata": {
    "id": "tCcAruM60q1R"
   },
   "source": [
    "[Prueba la hipótesis de que el ingreso promedio de los usuarios del área NY-NJ es diferente al de los usuarios de otras regiones.]"
   ]
  },
  {
   "cell_type": "markdown",
   "metadata": {
    "id": "LsBgitqj0q1R"
   },
   "source": [
    "La prueba que elegimos para este enfoque en la prueba bilateral,\n",
    "Pues estamos evaluando grupos de usuarios de diferentes regiones.\n",
    "\n",
    "#Pregunta.\n",
    "\n",
    "¿Es diferente el ingreso promedio entre la región del área NY-NJ y las otras regiones?\n",
    "\n",
    "Hipotesis nula: El ingreso promedio de area NY-NJ y las otras regiones es igual. \n",
    "\n",
    "Hipotesis alternativa: El ingreso promedio es distinto."
   ]
  },
  {
   "cell_type": "code",
   "execution_count": 76,
   "metadata": {},
   "outputs": [
    {
     "name": "stdout",
     "output_type": "stream",
     "text": [
      "                                           city  ingreso_total\n",
      "0         Atlanta-Sandy Springs-Roswell, GA MSA          84.00\n",
      "1               Seattle-Tacoma-Bellevue, WA MSA          90.00\n",
      "2               Seattle-Tacoma-Bellevue, WA MSA         150.00\n",
      "3               Seattle-Tacoma-Bellevue, WA MSA         240.09\n",
      "4               Seattle-Tacoma-Bellevue, WA MSA         210.00\n",
      "...                                         ...            ...\n",
      "2288  New York-Newark-Jersey City, NY-NJ-PA MSA         250.00\n",
      "2289          Orlando-Kissimmee-Sanford, FL MSA         150.00\n",
      "2290          Orlando-Kissimmee-Sanford, FL MSA         220.00\n",
      "2291          Orlando-Kissimmee-Sanford, FL MSA         190.00\n",
      "2292          Orlando-Kissimmee-Sanford, FL MSA         240.00\n",
      "\n",
      "[2293 rows x 2 columns]\n"
     ]
    }
   ],
   "source": [
    "ciudad = 'city'\n",
    "load = 'ingreso_total'\n",
    "\n",
    "columnas_deseadas_regiones = [ciudad, load]\n",
    "nuevo_regiones_ingreso = merge_ut[columnas_deseadas_regiones]\n",
    "print(nuevo_regiones_ingreso)"
   ]
  },
  {
   "cell_type": "code",
   "execution_count": 77,
   "metadata": {},
   "outputs": [],
   "source": [
    "region_nynj = 'New York-Newark-Jersey City, NY-NJ-PA MSA'\n",
    "df_nynj = nuevo_regiones_ingreso[nuevo_regiones_ingreso['city']== region_nynj]\n",
    "df_oregions = nuevo_regiones_ingreso[nuevo_regiones_ingreso['city'] != region_nynj]"
   ]
  },
  {
   "cell_type": "code",
   "execution_count": 78,
   "metadata": {},
   "outputs": [
    {
     "name": "stdout",
     "output_type": "stream",
     "text": [
      "valor p:  0.9526745864957589\n",
      "No podemos rechazar la hipótesis nula\n"
     ]
    }
   ],
   "source": [
    "\n",
    "\n",
    "alpha = 0.05 # Nivel de significancia estadística crítica\n",
    "\n",
    "result_regions = st.ttest_ind(df_nynj['ingreso_total'], df_oregions['ingreso_total'])\n",
    "\n",
    "print('valor p: ', result_regions.pvalue)\n",
    "\n",
    "if result_regions.pvalue < alpha: \n",
    "    print('Rechazamos la hipótesis.')\n",
    "else:\n",
    "    print('No podemos rechazar la hipótesis nula')"
   ]
  },
  {
   "cell_type": "markdown",
   "metadata": {},
   "source": [
    "El análisis indica que los ingresos promedio en la región NY-NJ no difieren significativamente de las otras regiones. Por tanto, no se justifica tratar esta región de forma diferenciada en términos de ingreso promedio a partir de los datos actuales."
   ]
  },
  {
   "cell_type": "markdown",
   "metadata": {
    "id": "bbTR8UQO0q1T"
   },
   "source": [
    "## Conclusión general\n"
   ]
  },
  {
   "cell_type": "markdown",
   "metadata": {},
   "source": [
    " A partir del análisis de llamadas, uso de internet y mensajes, identificamos la relación entre el comportamiento de los usuarios y el monto total que pagan según su plan suscrito. Los resultados muestran que los planes **‘Surf’** generan mayores ingresos totales para la empresa que los planes **‘Ultimate’**, a pesar de que estos últimos tienen una tarifa mensual más alta. Esto se debe a que el volumen de uso en planes económicos produce un ingreso más significativo, lo cual sugiere que estos planes deberían ser el foco de campañas de marketing.\n",
    "\n",
    "Además, realizamos pruebas estadísticas para comparar los promedios de ingresos entre planes y regiones. Los resultados permiten **no rechazar la hipótesis de igualdad de medias** entre los planes, así como entre ingresos de distintas regiones. Ahunado a esto, el valor p cercano a 95% implica que no se justifica de tratar a esta región diferente en términos de ingreso promedio, lo cual representa que las campañas pueden ser homogeneas en cuestión de ingresos."
   ]
  }
 ],
 "metadata": {
  "ExecuteTimeLog": [
   {
    "duration": 828,
    "start_time": "2021-11-16T09:21:11.304Z"
   },
   {
    "duration": 893,
    "start_time": "2021-11-16T09:21:17.728Z"
   },
   {
    "duration": 1150,
    "start_time": "2021-11-16T09:21:29.568Z"
   },
   {
    "duration": 3,
    "start_time": "2021-11-16T09:24:14.495Z"
   },
   {
    "duration": 120,
    "start_time": "2021-11-16T09:24:46.630Z"
   },
   {
    "duration": 3,
    "start_time": "2021-11-16T09:28:27.882Z"
   },
   {
    "duration": 4,
    "start_time": "2021-11-16T09:29:54.281Z"
   },
   {
    "duration": 3,
    "start_time": "2021-11-16T09:30:45.936Z"
   },
   {
    "duration": 4,
    "start_time": "2021-11-16T09:31:06.300Z"
   },
   {
    "duration": 113,
    "start_time": "2021-11-16T09:31:37.208Z"
   },
   {
    "duration": 143,
    "start_time": "2021-11-16T09:31:48.656Z"
   },
   {
    "duration": 98,
    "start_time": "2021-11-16T09:31:55.678Z"
   },
   {
    "duration": 3,
    "start_time": "2021-11-16T09:32:08.535Z"
   },
   {
    "duration": 111,
    "start_time": "2021-11-16T09:32:10.120Z"
   },
   {
    "duration": 3,
    "start_time": "2021-11-16T09:32:15.732Z"
   },
   {
    "duration": 4,
    "start_time": "2021-11-16T09:32:29.423Z"
   },
   {
    "duration": 3,
    "start_time": "2021-11-16T10:03:03.074Z"
   },
   {
    "duration": 3,
    "start_time": "2021-11-16T10:10:01.288Z"
   },
   {
    "duration": 3,
    "start_time": "2021-11-16T10:10:46.923Z"
   },
   {
    "duration": 121,
    "start_time": "2021-11-16T10:37:46.494Z"
   },
   {
    "duration": 125,
    "start_time": "2021-11-16T10:38:20.632Z"
   },
   {
    "duration": 112,
    "start_time": "2021-11-16T10:46:53.001Z"
   },
   {
    "duration": 110,
    "start_time": "2021-11-16T10:48:25.775Z"
   },
   {
    "duration": 3,
    "start_time": "2021-11-16T10:50:18.720Z"
   },
   {
    "duration": 4,
    "start_time": "2021-11-16T10:50:37.649Z"
   },
   {
    "duration": 2,
    "start_time": "2021-11-16T10:50:51.884Z"
   },
   {
    "duration": 3,
    "start_time": "2021-11-16T10:51:56.237Z"
   },
   {
    "duration": 101,
    "start_time": "2021-11-16T10:53:13.791Z"
   },
   {
    "duration": 3,
    "start_time": "2021-11-16T10:55:59.186Z"
   },
   {
    "duration": 3,
    "start_time": "2021-11-16T10:56:10.751Z"
   },
   {
    "duration": 3,
    "start_time": "2021-11-16T10:56:49.038Z"
   },
   {
    "duration": 3,
    "start_time": "2021-11-16T10:56:49.174Z"
   },
   {
    "duration": 4,
    "start_time": "2021-11-16T10:56:49.414Z"
   },
   {
    "duration": 3,
    "start_time": "2021-11-16T10:56:49.680Z"
   },
   {
    "duration": 3,
    "start_time": "2021-11-16T10:56:50.370Z"
   },
   {
    "duration": 114,
    "start_time": "2021-11-16T10:59:34.518Z"
   },
   {
    "duration": 3,
    "start_time": "2021-11-16T11:01:41.201Z"
   },
   {
    "duration": 116,
    "start_time": "2021-11-16T11:01:48.754Z"
   },
   {
    "duration": 3,
    "start_time": "2021-11-16T11:02:16.685Z"
   },
   {
    "duration": 3,
    "start_time": "2021-11-16T11:02:19.479Z"
   },
   {
    "duration": 3,
    "start_time": "2021-11-16T11:02:47.067Z"
   },
   {
    "duration": 3,
    "start_time": "2021-11-16T11:02:49.353Z"
   },
   {
    "duration": 3,
    "start_time": "2021-11-16T11:03:07.835Z"
   },
   {
    "duration": 3,
    "start_time": "2021-11-16T11:03:07.953Z"
   },
   {
    "duration": 112,
    "start_time": "2021-11-16T11:07:52.072Z"
   },
   {
    "duration": 187,
    "start_time": "2021-11-16T11:09:23.468Z"
   },
   {
    "duration": 4,
    "start_time": "2021-11-16T11:10:01.455Z"
   },
   {
    "duration": 3,
    "start_time": "2021-11-16T11:10:05.069Z"
   },
   {
    "duration": 4,
    "start_time": "2021-11-16T11:10:13.376Z"
   },
   {
    "duration": 3,
    "start_time": "2021-11-16T11:10:14.434Z"
   },
   {
    "duration": 3,
    "start_time": "2021-11-16T11:10:22.853Z"
   },
   {
    "duration": 4,
    "start_time": "2021-11-16T11:27:29.279Z"
   },
   {
    "duration": 4,
    "start_time": "2021-11-16T11:29:08.919Z"
   },
   {
    "duration": 118,
    "start_time": "2021-11-16T11:29:46.703Z"
   },
   {
    "duration": 437,
    "start_time": "2021-11-16T11:36:02.181Z"
   },
   {
    "duration": 157,
    "start_time": "2021-11-16T11:36:14.388Z"
   },
   {
    "duration": 207,
    "start_time": "2021-11-16T11:47:15.898Z"
   },
   {
    "duration": 3,
    "start_time": "2021-11-16T11:53:52.092Z"
   },
   {
    "duration": 3,
    "start_time": "2021-11-16T11:53:52.236Z"
   },
   {
    "duration": 3,
    "start_time": "2021-11-16T11:59:12.005Z"
   },
   {
    "duration": 112,
    "start_time": "2021-11-16T12:00:33.446Z"
   },
   {
    "duration": 3,
    "start_time": "2021-11-16T12:02:14.453Z"
   },
   {
    "duration": 3,
    "start_time": "2021-11-16T12:02:39.512Z"
   },
   {
    "duration": 106,
    "start_time": "2021-11-16T12:03:03.460Z"
   },
   {
    "duration": 3,
    "start_time": "2021-11-17T20:37:21.139Z"
   },
   {
    "duration": 3,
    "start_time": "2021-11-17T20:37:22.229Z"
   },
   {
    "duration": 3,
    "start_time": "2021-11-17T20:38:38.806Z"
   },
   {
    "duration": 3,
    "start_time": "2021-11-17T20:38:41.958Z"
   },
   {
    "duration": 3,
    "start_time": "2021-11-17T20:43:46.551Z"
   },
   {
    "duration": 4,
    "start_time": "2021-11-17T20:58:21.835Z"
   },
   {
    "duration": 3,
    "start_time": "2021-11-17T20:59:21.872Z"
   },
   {
    "duration": 4,
    "start_time": "2021-11-17T20:59:45.352Z"
   },
   {
    "duration": 4,
    "start_time": "2021-11-17T20:59:49.646Z"
   },
   {
    "duration": 159,
    "start_time": "2021-11-17T21:02:26.949Z"
   },
   {
    "duration": 3,
    "start_time": "2021-11-17T21:03:53.461Z"
   },
   {
    "duration": 3,
    "start_time": "2021-11-17T21:03:53.694Z"
   },
   {
    "duration": 3,
    "start_time": "2021-11-17T21:05:28.145Z"
   },
   {
    "duration": 116,
    "start_time": "2021-11-17T21:05:57.787Z"
   },
   {
    "duration": 3,
    "start_time": "2021-11-17T21:06:37.993Z"
   },
   {
    "duration": 3,
    "start_time": "2021-11-17T21:06:38.261Z"
   },
   {
    "duration": 3,
    "start_time": "2021-11-17T21:11:54.358Z"
   },
   {
    "duration": 3,
    "start_time": "2021-11-17T21:12:43.846Z"
   },
   {
    "duration": 4,
    "start_time": "2021-11-17T21:13:08.773Z"
   },
   {
    "duration": 3,
    "start_time": "2021-11-17T21:14:44.441Z"
   },
   {
    "duration": 3,
    "start_time": "2021-11-17T21:15:42.059Z"
   },
   {
    "duration": 4,
    "start_time": "2021-11-17T21:15:51.995Z"
   },
   {
    "duration": 3,
    "start_time": "2021-11-17T21:15:53.923Z"
   },
   {
    "duration": 3,
    "start_time": "2021-11-17T21:15:55.282Z"
   },
   {
    "duration": 3,
    "start_time": "2021-11-17T21:16:28.492Z"
   },
   {
    "duration": 3,
    "start_time": "2021-11-17T21:16:32.603Z"
   },
   {
    "duration": 3,
    "start_time": "2021-11-17T21:17:06.941Z"
   },
   {
    "duration": 98,
    "start_time": "2021-11-17T21:18:05.733Z"
   },
   {
    "duration": 4,
    "start_time": "2021-11-17T21:21:35.255Z"
   },
   {
    "duration": 3,
    "start_time": "2021-11-17T21:21:37.804Z"
   },
   {
    "duration": 4,
    "start_time": "2021-11-17T21:23:06.071Z"
   },
   {
    "duration": 3,
    "start_time": "2021-11-17T21:23:24.799Z"
   },
   {
    "duration": 3,
    "start_time": "2021-11-17T21:23:32.591Z"
   },
   {
    "duration": 98,
    "start_time": "2021-11-17T21:28:31.559Z"
   },
   {
    "duration": 3,
    "start_time": "2021-11-17T21:28:45.448Z"
   },
   {
    "duration": 3,
    "start_time": "2021-11-17T21:29:17.303Z"
   },
   {
    "duration": 3,
    "start_time": "2021-11-17T21:29:29.617Z"
   },
   {
    "duration": 3,
    "start_time": "2021-11-17T21:29:32.681Z"
   },
   {
    "duration": 3,
    "start_time": "2021-11-17T21:36:11.474Z"
   },
   {
    "duration": 3,
    "start_time": "2021-11-17T21:36:14.791Z"
   },
   {
    "duration": 3,
    "start_time": "2021-11-17T21:36:53.943Z"
   },
   {
    "duration": 3,
    "start_time": "2021-11-17T21:36:56.165Z"
   },
   {
    "duration": 4,
    "start_time": "2021-11-17T21:37:16.590Z"
   },
   {
    "duration": 3,
    "start_time": "2021-11-17T21:37:22.702Z"
   },
   {
    "duration": 4,
    "start_time": "2021-11-17T21:38:03.479Z"
   },
   {
    "duration": 3,
    "start_time": "2021-11-17T21:38:08.601Z"
   },
   {
    "duration": 3,
    "start_time": "2021-11-17T21:38:12.928Z"
   },
   {
    "duration": 3,
    "start_time": "2021-11-17T21:38:48.896Z"
   },
   {
    "duration": 2,
    "start_time": "2021-11-17T21:38:49.171Z"
   },
   {
    "duration": 4,
    "start_time": "2021-11-17T21:39:57.889Z"
   },
   {
    "duration": 3,
    "start_time": "2021-11-17T21:39:58.057Z"
   },
   {
    "duration": 3,
    "start_time": "2021-11-17T21:41:20.108Z"
   },
   {
    "duration": 3,
    "start_time": "2021-11-17T21:41:20.629Z"
   },
   {
    "duration": 3,
    "start_time": "2021-11-17T21:42:49.136Z"
   },
   {
    "duration": 3,
    "start_time": "2021-11-17T21:43:15.137Z"
   },
   {
    "duration": 4,
    "start_time": "2021-11-17T21:43:16.766Z"
   },
   {
    "duration": 4,
    "start_time": "2021-11-17T21:43:31.711Z"
   },
   {
    "duration": 3,
    "start_time": "2021-11-17T21:43:36.312Z"
   },
   {
    "duration": 4,
    "start_time": "2021-11-17T21:45:08.825Z"
   },
   {
    "duration": 4,
    "start_time": "2021-11-17T21:45:10.119Z"
   },
   {
    "duration": 4,
    "start_time": "2021-11-17T21:45:13.748Z"
   },
   {
    "duration": 3,
    "start_time": "2021-11-17T21:45:22.219Z"
   },
   {
    "duration": 3,
    "start_time": "2021-11-17T21:45:33.412Z"
   },
   {
    "duration": 2,
    "start_time": "2021-11-17T21:46:01.885Z"
   },
   {
    "duration": 3,
    "start_time": "2021-11-17T21:46:03.628Z"
   },
   {
    "duration": 107,
    "start_time": "2021-11-17T21:47:32.512Z"
   },
   {
    "duration": 103,
    "start_time": "2021-11-17T21:50:36.243Z"
   },
   {
    "duration": 3,
    "start_time": "2021-11-18T06:28:31.440Z"
   },
   {
    "duration": 3,
    "start_time": "2021-11-18T06:29:00.168Z"
   },
   {
    "duration": 3,
    "start_time": "2021-11-18T06:31:27.008Z"
   },
   {
    "duration": 2,
    "start_time": "2021-11-18T06:35:34.288Z"
   },
   {
    "duration": 2,
    "start_time": "2021-11-18T06:38:04.527Z"
   },
   {
    "duration": 2787,
    "start_time": "2025-04-19T03:10:26.898Z"
   },
   {
    "duration": 245,
    "start_time": "2025-04-19T03:19:05.251Z"
   },
   {
    "duration": 45,
    "start_time": "2025-04-19T03:22:16.629Z"
   },
   {
    "duration": 53,
    "start_time": "2025-04-19T03:22:27.025Z"
   },
   {
    "duration": 53,
    "start_time": "2025-04-19T03:23:43.445Z"
   },
   {
    "duration": 8,
    "start_time": "2025-04-19T03:24:28.663Z"
   },
   {
    "duration": 20,
    "start_time": "2025-04-19T03:24:54.736Z"
   },
   {
    "duration": 23,
    "start_time": "2025-04-19T03:27:43.050Z"
   },
   {
    "duration": 22,
    "start_time": "2025-04-19T03:59:56.711Z"
   },
   {
    "duration": 44,
    "start_time": "2025-04-19T04:05:24.319Z"
   },
   {
    "duration": 8,
    "start_time": "2025-04-19T04:08:51.821Z"
   },
   {
    "duration": 2693,
    "start_time": "2025-04-25T20:23:20.988Z"
   },
   {
    "duration": 663,
    "start_time": "2025-04-25T20:23:23.684Z"
   },
   {
    "duration": 43,
    "start_time": "2025-04-25T20:23:24.349Z"
   },
   {
    "duration": 9,
    "start_time": "2025-04-25T20:23:24.395Z"
   },
   {
    "duration": 2,
    "start_time": "2025-04-25T20:23:24.406Z"
   },
   {
    "duration": 2,
    "start_time": "2025-04-25T20:23:24.410Z"
   },
   {
    "duration": 3,
    "start_time": "2025-04-25T20:23:24.414Z"
   },
   {
    "duration": 2,
    "start_time": "2025-04-25T20:23:24.432Z"
   },
   {
    "duration": 4,
    "start_time": "2025-04-25T20:23:24.436Z"
   },
   {
    "duration": 2,
    "start_time": "2025-04-25T20:23:24.443Z"
   },
   {
    "duration": 4,
    "start_time": "2025-04-25T20:23:24.446Z"
   },
   {
    "duration": 3,
    "start_time": "2025-04-25T20:23:24.451Z"
   },
   {
    "duration": 3,
    "start_time": "2025-04-25T20:23:24.456Z"
   },
   {
    "duration": 4,
    "start_time": "2025-04-25T20:23:24.460Z"
   },
   {
    "duration": 3,
    "start_time": "2025-04-25T20:23:24.465Z"
   },
   {
    "duration": 3,
    "start_time": "2025-04-25T20:23:24.470Z"
   },
   {
    "duration": 3,
    "start_time": "2025-04-25T20:23:24.474Z"
   },
   {
    "duration": 4,
    "start_time": "2025-04-25T20:23:24.479Z"
   },
   {
    "duration": 4,
    "start_time": "2025-04-25T20:23:24.484Z"
   },
   {
    "duration": 45,
    "start_time": "2025-04-25T20:23:24.489Z"
   },
   {
    "duration": 2,
    "start_time": "2025-04-25T20:23:24.536Z"
   },
   {
    "duration": 3,
    "start_time": "2025-04-25T20:23:24.540Z"
   },
   {
    "duration": 4,
    "start_time": "2025-04-25T20:23:24.546Z"
   },
   {
    "duration": 5,
    "start_time": "2025-04-25T20:23:24.552Z"
   },
   {
    "duration": 2,
    "start_time": "2025-04-25T20:23:24.559Z"
   },
   {
    "duration": 3,
    "start_time": "2025-04-25T20:23:24.563Z"
   },
   {
    "duration": 3,
    "start_time": "2025-04-25T20:23:24.568Z"
   },
   {
    "duration": 2,
    "start_time": "2025-04-25T20:23:24.574Z"
   },
   {
    "duration": 2458,
    "start_time": "2025-04-26T02:08:39.609Z"
   },
   {
    "duration": 208,
    "start_time": "2025-04-26T02:08:42.070Z"
   },
   {
    "duration": 41,
    "start_time": "2025-04-26T02:08:42.280Z"
   },
   {
    "duration": 8,
    "start_time": "2025-04-26T02:08:42.323Z"
   },
   {
    "duration": 2,
    "start_time": "2025-04-26T02:08:42.333Z"
   },
   {
    "duration": 3,
    "start_time": "2025-04-26T02:08:42.337Z"
   },
   {
    "duration": 3,
    "start_time": "2025-04-26T02:08:42.341Z"
   },
   {
    "duration": 4,
    "start_time": "2025-04-26T02:08:42.345Z"
   },
   {
    "duration": 3,
    "start_time": "2025-04-26T02:08:42.350Z"
   },
   {
    "duration": 3,
    "start_time": "2025-04-26T02:08:42.355Z"
   },
   {
    "duration": 3,
    "start_time": "2025-04-26T02:08:42.359Z"
   },
   {
    "duration": 2,
    "start_time": "2025-04-26T02:08:42.365Z"
   },
   {
    "duration": 3,
    "start_time": "2025-04-26T02:08:42.369Z"
   },
   {
    "duration": 38,
    "start_time": "2025-04-26T02:08:42.375Z"
   },
   {
    "duration": 4,
    "start_time": "2025-04-26T02:08:42.414Z"
   },
   {
    "duration": 3,
    "start_time": "2025-04-26T02:08:42.419Z"
   },
   {
    "duration": 4,
    "start_time": "2025-04-26T02:08:42.423Z"
   },
   {
    "duration": 4,
    "start_time": "2025-04-26T02:08:42.428Z"
   },
   {
    "duration": 4,
    "start_time": "2025-04-26T02:08:42.433Z"
   },
   {
    "duration": 3,
    "start_time": "2025-04-26T02:08:42.438Z"
   },
   {
    "duration": 4,
    "start_time": "2025-04-26T02:08:42.442Z"
   },
   {
    "duration": 3,
    "start_time": "2025-04-26T02:08:42.447Z"
   },
   {
    "duration": 3,
    "start_time": "2025-04-26T02:08:42.452Z"
   },
   {
    "duration": 3,
    "start_time": "2025-04-26T02:08:42.456Z"
   },
   {
    "duration": 3,
    "start_time": "2025-04-26T02:08:42.461Z"
   },
   {
    "duration": 3,
    "start_time": "2025-04-26T02:08:42.466Z"
   },
   {
    "duration": 3,
    "start_time": "2025-04-26T02:08:42.470Z"
   },
   {
    "duration": 2,
    "start_time": "2025-04-26T02:08:42.512Z"
   },
   {
    "duration": 3503,
    "start_time": "2025-04-27T01:35:32.691Z"
   },
   {
    "duration": 310,
    "start_time": "2025-04-27T01:35:36.196Z"
   },
   {
    "duration": 48,
    "start_time": "2025-04-27T01:35:36.507Z"
   },
   {
    "duration": 12,
    "start_time": "2025-04-27T01:35:36.557Z"
   },
   {
    "duration": 2,
    "start_time": "2025-04-27T01:35:36.572Z"
   },
   {
    "duration": 6,
    "start_time": "2025-04-27T01:35:36.576Z"
   },
   {
    "duration": 4,
    "start_time": "2025-04-27T01:35:36.587Z"
   },
   {
    "duration": 2,
    "start_time": "2025-04-27T01:35:36.595Z"
   },
   {
    "duration": 2,
    "start_time": "2025-04-27T01:35:36.599Z"
   },
   {
    "duration": 6,
    "start_time": "2025-04-27T01:35:36.605Z"
   },
   {
    "duration": 3,
    "start_time": "2025-04-27T01:35:36.616Z"
   },
   {
    "duration": 3,
    "start_time": "2025-04-27T01:35:36.620Z"
   },
   {
    "duration": 30,
    "start_time": "2025-04-27T01:35:36.624Z"
   },
   {
    "duration": 23,
    "start_time": "2025-04-27T01:35:36.660Z"
   },
   {
    "duration": 2,
    "start_time": "2025-04-27T01:35:36.685Z"
   },
   {
    "duration": 3,
    "start_time": "2025-04-27T01:35:36.697Z"
   },
   {
    "duration": 3,
    "start_time": "2025-04-27T01:35:36.702Z"
   },
   {
    "duration": 4,
    "start_time": "2025-04-27T01:35:36.706Z"
   },
   {
    "duration": 3,
    "start_time": "2025-04-27T01:35:36.711Z"
   },
   {
    "duration": 3,
    "start_time": "2025-04-27T01:35:36.716Z"
   },
   {
    "duration": 3,
    "start_time": "2025-04-27T01:35:36.720Z"
   },
   {
    "duration": 3,
    "start_time": "2025-04-27T01:35:36.726Z"
   },
   {
    "duration": 2,
    "start_time": "2025-04-27T01:35:36.731Z"
   },
   {
    "duration": 2,
    "start_time": "2025-04-27T01:35:36.735Z"
   },
   {
    "duration": 10,
    "start_time": "2025-04-27T01:35:36.739Z"
   },
   {
    "duration": 10,
    "start_time": "2025-04-27T01:35:36.751Z"
   },
   {
    "duration": 4,
    "start_time": "2025-04-27T01:35:36.763Z"
   },
   {
    "duration": 10,
    "start_time": "2025-04-27T01:35:36.776Z"
   },
   {
    "duration": 2509,
    "start_time": "2025-04-27T21:16:18.851Z"
   },
   {
    "duration": 198,
    "start_time": "2025-04-27T21:16:21.362Z"
   },
   {
    "duration": 41,
    "start_time": "2025-04-27T21:16:21.562Z"
   },
   {
    "duration": 7,
    "start_time": "2025-04-27T21:16:21.606Z"
   },
   {
    "duration": 10,
    "start_time": "2025-04-27T21:16:21.615Z"
   },
   {
    "duration": 3,
    "start_time": "2025-04-27T21:16:21.627Z"
   },
   {
    "duration": 3,
    "start_time": "2025-04-27T21:16:21.632Z"
   },
   {
    "duration": 3,
    "start_time": "2025-04-27T21:16:21.636Z"
   },
   {
    "duration": 3,
    "start_time": "2025-04-27T21:16:21.641Z"
   },
   {
    "duration": 2,
    "start_time": "2025-04-27T21:16:21.647Z"
   },
   {
    "duration": 2,
    "start_time": "2025-04-27T21:16:21.651Z"
   },
   {
    "duration": 3,
    "start_time": "2025-04-27T21:16:21.655Z"
   },
   {
    "duration": 3,
    "start_time": "2025-04-27T21:16:21.659Z"
   },
   {
    "duration": 3,
    "start_time": "2025-04-27T21:16:21.664Z"
   },
   {
    "duration": 3,
    "start_time": "2025-04-27T21:16:21.668Z"
   },
   {
    "duration": 3,
    "start_time": "2025-04-27T21:16:21.673Z"
   },
   {
    "duration": 48,
    "start_time": "2025-04-27T21:16:21.678Z"
   },
   {
    "duration": 3,
    "start_time": "2025-04-27T21:16:21.728Z"
   },
   {
    "duration": 8,
    "start_time": "2025-04-27T21:16:21.733Z"
   },
   {
    "duration": 4,
    "start_time": "2025-04-27T21:16:21.743Z"
   },
   {
    "duration": 4,
    "start_time": "2025-04-27T21:16:21.748Z"
   },
   {
    "duration": 2,
    "start_time": "2025-04-27T21:16:21.754Z"
   },
   {
    "duration": 2,
    "start_time": "2025-04-27T21:16:21.758Z"
   },
   {
    "duration": 3,
    "start_time": "2025-04-27T21:16:21.762Z"
   },
   {
    "duration": 3,
    "start_time": "2025-04-27T21:16:21.766Z"
   },
   {
    "duration": 3,
    "start_time": "2025-04-27T21:16:21.771Z"
   },
   {
    "duration": 3,
    "start_time": "2025-04-27T21:16:21.775Z"
   },
   {
    "duration": 3,
    "start_time": "2025-04-27T21:16:21.781Z"
   },
   {
    "duration": 8,
    "start_time": "2025-04-28T00:28:41.368Z"
   },
   {
    "duration": 8,
    "start_time": "2025-04-28T00:30:11.637Z"
   },
   {
    "duration": 22,
    "start_time": "2025-04-28T00:30:44.966Z"
   },
   {
    "duration": 33,
    "start_time": "2025-04-28T00:31:12.506Z"
   },
   {
    "duration": 32,
    "start_time": "2025-04-28T00:31:32.633Z"
   },
   {
    "duration": 25,
    "start_time": "2025-04-28T00:31:54.941Z"
   },
   {
    "duration": 33,
    "start_time": "2025-04-28T00:42:33.049Z"
   },
   {
    "duration": 93,
    "start_time": "2025-04-28T00:43:10.744Z"
   },
   {
    "duration": 40,
    "start_time": "2025-04-28T00:51:49.515Z"
   },
   {
    "duration": 75,
    "start_time": "2025-04-28T00:52:18.782Z"
   },
   {
    "duration": 8,
    "start_time": "2025-04-28T00:52:42.616Z"
   },
   {
    "duration": 58,
    "start_time": "2025-04-28T01:02:12.809Z"
   },
   {
    "duration": 45,
    "start_time": "2025-04-28T01:02:27.539Z"
   },
   {
    "duration": 75,
    "start_time": "2025-04-28T01:50:22.123Z"
   },
   {
    "duration": 33,
    "start_time": "2025-04-28T01:54:04.481Z"
   },
   {
    "duration": 16,
    "start_time": "2025-04-28T01:56:33.727Z"
   },
   {
    "duration": 16,
    "start_time": "2025-04-28T01:56:47.608Z"
   },
   {
    "duration": 54,
    "start_time": "2025-04-28T03:21:11.019Z"
   },
   {
    "duration": 35,
    "start_time": "2025-04-28T03:22:23.621Z"
   },
   {
    "duration": 25,
    "start_time": "2025-04-28T03:22:35.314Z"
   },
   {
    "duration": 476,
    "start_time": "2025-04-28T03:24:46.256Z"
   },
   {
    "duration": 27,
    "start_time": "2025-04-28T03:25:57.054Z"
   },
   {
    "duration": 7,
    "start_time": "2025-04-28T03:26:40.157Z"
   },
   {
    "duration": 6,
    "start_time": "2025-04-28T03:27:14.876Z"
   },
   {
    "duration": 11,
    "start_time": "2025-04-28T03:33:36.705Z"
   },
   {
    "duration": 19,
    "start_time": "2025-04-28T03:37:56.477Z"
   },
   {
    "duration": 812,
    "start_time": "2025-04-28T04:27:26.965Z"
   },
   {
    "duration": 235,
    "start_time": "2025-04-28T04:27:27.780Z"
   },
   {
    "duration": 42,
    "start_time": "2025-04-28T04:27:28.017Z"
   },
   {
    "duration": 7,
    "start_time": "2025-04-28T04:27:28.061Z"
   },
   {
    "duration": 109,
    "start_time": "2025-04-28T04:27:28.070Z"
   },
   {
    "duration": 78,
    "start_time": "2025-04-28T04:27:28.181Z"
   },
   {
    "duration": 69,
    "start_time": "2025-04-28T04:27:28.260Z"
   },
   {
    "duration": 5,
    "start_time": "2025-04-28T04:27:28.331Z"
   },
   {
    "duration": 17,
    "start_time": "2025-04-28T04:27:28.338Z"
   },
   {
    "duration": 2,
    "start_time": "2025-04-28T04:27:28.358Z"
   },
   {
    "duration": 4,
    "start_time": "2025-04-28T04:27:28.361Z"
   },
   {
    "duration": 3,
    "start_time": "2025-04-28T04:27:28.366Z"
   },
   {
    "duration": 3,
    "start_time": "2025-04-28T04:27:28.371Z"
   },
   {
    "duration": 4,
    "start_time": "2025-04-28T04:27:28.375Z"
   },
   {
    "duration": 3,
    "start_time": "2025-04-28T04:27:28.380Z"
   },
   {
    "duration": 2,
    "start_time": "2025-04-28T04:27:28.385Z"
   },
   {
    "duration": 2,
    "start_time": "2025-04-28T04:27:28.424Z"
   },
   {
    "duration": 3,
    "start_time": "2025-04-28T04:27:28.428Z"
   },
   {
    "duration": 3,
    "start_time": "2025-04-28T04:27:28.433Z"
   },
   {
    "duration": 3,
    "start_time": "2025-04-28T04:27:28.438Z"
   },
   {
    "duration": 4,
    "start_time": "2025-04-28T04:27:28.442Z"
   },
   {
    "duration": 3,
    "start_time": "2025-04-28T04:27:28.447Z"
   },
   {
    "duration": 3,
    "start_time": "2025-04-28T04:27:28.452Z"
   },
   {
    "duration": 3,
    "start_time": "2025-04-28T04:27:28.456Z"
   },
   {
    "duration": 3,
    "start_time": "2025-04-28T04:27:28.461Z"
   },
   {
    "duration": 3,
    "start_time": "2025-04-28T04:27:28.465Z"
   },
   {
    "duration": 4,
    "start_time": "2025-04-28T04:27:28.469Z"
   },
   {
    "duration": 2,
    "start_time": "2025-04-28T04:27:28.476Z"
   },
   {
    "duration": 44,
    "start_time": "2025-04-28T04:27:28.480Z"
   },
   {
    "duration": 2,
    "start_time": "2025-04-28T04:27:28.527Z"
   },
   {
    "duration": 3,
    "start_time": "2025-04-28T04:27:28.531Z"
   },
   {
    "duration": 3,
    "start_time": "2025-04-28T04:27:28.535Z"
   },
   {
    "duration": 3,
    "start_time": "2025-04-28T04:27:28.540Z"
   },
   {
    "duration": 672,
    "start_time": "2025-04-28T04:32:57.573Z"
   },
   {
    "duration": 24,
    "start_time": "2025-04-28T04:33:48.886Z"
   },
   {
    "duration": 172,
    "start_time": "2025-04-28T04:34:37.788Z"
   },
   {
    "duration": 27,
    "start_time": "2025-04-28T04:36:07.966Z"
   },
   {
    "duration": 876,
    "start_time": "2025-04-28T04:36:17.125Z"
   },
   {
    "duration": 165,
    "start_time": "2025-04-28T04:36:18.004Z"
   },
   {
    "duration": 43,
    "start_time": "2025-04-28T04:36:18.171Z"
   },
   {
    "duration": 8,
    "start_time": "2025-04-28T04:36:18.223Z"
   },
   {
    "duration": 106,
    "start_time": "2025-04-28T04:36:18.234Z"
   },
   {
    "duration": 82,
    "start_time": "2025-04-28T04:36:18.342Z"
   },
   {
    "duration": 57,
    "start_time": "2025-04-28T04:36:18.426Z"
   },
   {
    "duration": 6,
    "start_time": "2025-04-28T04:36:18.485Z"
   },
   {
    "duration": 46,
    "start_time": "2025-04-28T04:36:18.493Z"
   },
   {
    "duration": 2,
    "start_time": "2025-04-28T04:36:18.543Z"
   },
   {
    "duration": 3,
    "start_time": "2025-04-28T04:36:18.547Z"
   },
   {
    "duration": 4,
    "start_time": "2025-04-28T04:36:18.551Z"
   },
   {
    "duration": 3,
    "start_time": "2025-04-28T04:36:18.557Z"
   },
   {
    "duration": 3,
    "start_time": "2025-04-28T04:36:18.561Z"
   },
   {
    "duration": 3,
    "start_time": "2025-04-28T04:36:18.566Z"
   },
   {
    "duration": 3,
    "start_time": "2025-04-28T04:36:18.571Z"
   },
   {
    "duration": 4,
    "start_time": "2025-04-28T04:36:18.575Z"
   },
   {
    "duration": 3,
    "start_time": "2025-04-28T04:36:18.580Z"
   },
   {
    "duration": 3,
    "start_time": "2025-04-28T04:36:18.585Z"
   },
   {
    "duration": 35,
    "start_time": "2025-04-28T04:36:18.590Z"
   },
   {
    "duration": 2,
    "start_time": "2025-04-28T04:36:18.627Z"
   },
   {
    "duration": 3,
    "start_time": "2025-04-28T04:36:18.631Z"
   },
   {
    "duration": 3,
    "start_time": "2025-04-28T04:36:18.635Z"
   },
   {
    "duration": 3,
    "start_time": "2025-04-28T04:36:18.640Z"
   },
   {
    "duration": 4,
    "start_time": "2025-04-28T04:36:18.644Z"
   },
   {
    "duration": 2,
    "start_time": "2025-04-28T04:36:18.650Z"
   },
   {
    "duration": 4,
    "start_time": "2025-04-28T04:36:18.654Z"
   },
   {
    "duration": 2,
    "start_time": "2025-04-28T04:36:18.661Z"
   },
   {
    "duration": 3,
    "start_time": "2025-04-28T04:36:18.665Z"
   },
   {
    "duration": 2,
    "start_time": "2025-04-28T04:36:18.671Z"
   },
   {
    "duration": 3,
    "start_time": "2025-04-28T04:36:18.675Z"
   },
   {
    "duration": 45,
    "start_time": "2025-04-28T04:36:18.679Z"
   },
   {
    "duration": 3,
    "start_time": "2025-04-28T04:36:18.726Z"
   },
   {
    "duration": 420,
    "start_time": "2025-04-28T04:38:34.083Z"
   },
   {
    "duration": 83,
    "start_time": "2025-04-28T04:39:07.602Z"
   },
   {
    "duration": 77,
    "start_time": "2025-04-28T04:39:36.554Z"
   },
   {
    "duration": 165,
    "start_time": "2025-04-28T04:39:52.099Z"
   },
   {
    "duration": 29,
    "start_time": "2025-04-28T04:39:59.622Z"
   },
   {
    "duration": 29,
    "start_time": "2025-04-28T04:51:05.634Z"
   },
   {
    "duration": 2567,
    "start_time": "2025-04-28T23:01:31.663Z"
   },
   {
    "duration": 231,
    "start_time": "2025-04-28T23:01:34.232Z"
   },
   {
    "duration": 11,
    "start_time": "2025-04-28T23:01:34.465Z"
   },
   {
    "duration": 6,
    "start_time": "2025-04-28T23:01:34.480Z"
   },
   {
    "duration": 7,
    "start_time": "2025-04-28T23:01:34.488Z"
   },
   {
    "duration": 5,
    "start_time": "2025-04-28T23:01:34.497Z"
   },
   {
    "duration": 14,
    "start_time": "2025-04-28T23:01:34.504Z"
   },
   {
    "duration": 3,
    "start_time": "2025-04-28T23:01:34.519Z"
   },
   {
    "duration": 18,
    "start_time": "2025-04-28T23:01:34.523Z"
   },
   {
    "duration": 42,
    "start_time": "2025-04-28T23:01:34.545Z"
   },
   {
    "duration": 88,
    "start_time": "2025-04-28T23:01:34.589Z"
   },
   {
    "duration": 2,
    "start_time": "2025-04-28T23:01:34.688Z"
   },
   {
    "duration": 3,
    "start_time": "2025-04-28T23:01:34.692Z"
   },
   {
    "duration": 56,
    "start_time": "2025-04-28T23:01:34.697Z"
   },
   {
    "duration": 2,
    "start_time": "2025-04-28T23:01:34.757Z"
   },
   {
    "duration": 38,
    "start_time": "2025-04-28T23:01:34.761Z"
   },
   {
    "duration": 7,
    "start_time": "2025-04-28T23:01:34.801Z"
   },
   {
    "duration": 58,
    "start_time": "2025-04-28T23:01:34.809Z"
   },
   {
    "duration": 18,
    "start_time": "2025-04-28T23:01:34.869Z"
   },
   {
    "duration": 4,
    "start_time": "2025-04-28T23:01:34.888Z"
   },
   {
    "duration": 4,
    "start_time": "2025-04-28T23:01:34.893Z"
   },
   {
    "duration": 4,
    "start_time": "2025-04-28T23:01:34.898Z"
   },
   {
    "duration": 3,
    "start_time": "2025-04-28T23:01:34.903Z"
   },
   {
    "duration": 4,
    "start_time": "2025-04-28T23:01:34.907Z"
   },
   {
    "duration": 3,
    "start_time": "2025-04-28T23:01:34.912Z"
   },
   {
    "duration": 3,
    "start_time": "2025-04-28T23:01:34.917Z"
   },
   {
    "duration": 3,
    "start_time": "2025-04-28T23:01:34.921Z"
   },
   {
    "duration": 2,
    "start_time": "2025-04-28T23:01:34.928Z"
   },
   {
    "duration": 3,
    "start_time": "2025-04-28T23:01:34.932Z"
   },
   {
    "duration": 4,
    "start_time": "2025-04-28T23:01:34.937Z"
   },
   {
    "duration": 2,
    "start_time": "2025-04-28T23:01:34.986Z"
   },
   {
    "duration": 4,
    "start_time": "2025-04-28T23:01:34.990Z"
   },
   {
    "duration": 2,
    "start_time": "2025-04-28T23:01:34.996Z"
   },
   {
    "duration": 3,
    "start_time": "2025-04-28T23:01:35.000Z"
   },
   {
    "duration": 4,
    "start_time": "2025-04-28T23:12:44.694Z"
   },
   {
    "duration": 5,
    "start_time": "2025-04-28T23:12:56.444Z"
   },
   {
    "duration": 4,
    "start_time": "2025-04-28T23:13:09.132Z"
   },
   {
    "duration": 5,
    "start_time": "2025-04-28T23:13:28.146Z"
   },
   {
    "duration": 5,
    "start_time": "2025-04-28T23:14:02.265Z"
   },
   {
    "duration": 11,
    "start_time": "2025-04-28T23:14:41.032Z"
   },
   {
    "duration": 11,
    "start_time": "2025-04-28T23:14:51.020Z"
   },
   {
    "duration": 9,
    "start_time": "2025-04-28T23:15:27.613Z"
   },
   {
    "duration": 10,
    "start_time": "2025-04-28T23:15:31.689Z"
   },
   {
    "duration": 10,
    "start_time": "2025-04-28T23:15:51.612Z"
   },
   {
    "duration": 11,
    "start_time": "2025-04-28T23:16:15.942Z"
   },
   {
    "duration": 9,
    "start_time": "2025-04-28T23:16:28.629Z"
   },
   {
    "duration": 14,
    "start_time": "2025-04-28T23:22:19.791Z"
   },
   {
    "duration": 620,
    "start_time": "2025-04-29T04:31:20.863Z"
   },
   {
    "duration": 12,
    "start_time": "2025-04-29T04:32:45.240Z"
   },
   {
    "duration": 17,
    "start_time": "2025-04-29T04:33:51.666Z"
   },
   {
    "duration": 14,
    "start_time": "2025-04-29T04:38:32.993Z"
   },
   {
    "duration": 13,
    "start_time": "2025-04-29T04:40:37.495Z"
   },
   {
    "duration": 2543,
    "start_time": "2025-04-29T20:27:17.608Z"
   },
   {
    "duration": 210,
    "start_time": "2025-04-29T20:27:20.153Z"
   },
   {
    "duration": 9,
    "start_time": "2025-04-29T20:27:20.365Z"
   },
   {
    "duration": 7,
    "start_time": "2025-04-29T20:27:20.376Z"
   },
   {
    "duration": 8,
    "start_time": "2025-04-29T20:27:20.386Z"
   },
   {
    "duration": 6,
    "start_time": "2025-04-29T20:27:20.395Z"
   },
   {
    "duration": 17,
    "start_time": "2025-04-29T20:27:20.402Z"
   },
   {
    "duration": 12,
    "start_time": "2025-04-29T20:27:20.421Z"
   },
   {
    "duration": 14,
    "start_time": "2025-04-29T20:27:20.435Z"
   },
   {
    "duration": 7,
    "start_time": "2025-04-29T20:27:20.451Z"
   },
   {
    "duration": 111,
    "start_time": "2025-04-29T20:27:20.460Z"
   },
   {
    "duration": 13,
    "start_time": "2025-04-29T20:27:20.574Z"
   },
   {
    "duration": 2,
    "start_time": "2025-04-29T20:27:20.589Z"
   },
   {
    "duration": 74,
    "start_time": "2025-04-29T20:27:20.594Z"
   },
   {
    "duration": 2,
    "start_time": "2025-04-29T20:27:20.670Z"
   },
   {
    "duration": 13,
    "start_time": "2025-04-29T20:27:20.674Z"
   },
   {
    "duration": 8,
    "start_time": "2025-04-29T20:27:20.709Z"
   },
   {
    "duration": 57,
    "start_time": "2025-04-29T20:27:20.718Z"
   },
   {
    "duration": 2,
    "start_time": "2025-04-29T20:27:20.777Z"
   },
   {
    "duration": 3,
    "start_time": "2025-04-29T20:27:20.780Z"
   },
   {
    "duration": 3,
    "start_time": "2025-04-29T20:27:20.785Z"
   },
   {
    "duration": 3,
    "start_time": "2025-04-29T20:27:20.809Z"
   },
   {
    "duration": 3,
    "start_time": "2025-04-29T20:27:20.814Z"
   },
   {
    "duration": 2,
    "start_time": "2025-04-29T20:27:20.820Z"
   },
   {
    "duration": 3,
    "start_time": "2025-04-29T20:27:20.823Z"
   },
   {
    "duration": 3,
    "start_time": "2025-04-29T20:27:20.828Z"
   },
   {
    "duration": 3,
    "start_time": "2025-04-29T20:27:20.832Z"
   },
   {
    "duration": 3,
    "start_time": "2025-04-29T20:27:20.837Z"
   },
   {
    "duration": 4,
    "start_time": "2025-04-29T20:27:20.841Z"
   },
   {
    "duration": 3,
    "start_time": "2025-04-29T20:27:20.846Z"
   },
   {
    "duration": 3,
    "start_time": "2025-04-29T20:27:20.851Z"
   },
   {
    "duration": 3,
    "start_time": "2025-04-29T20:27:20.856Z"
   },
   {
    "duration": 3,
    "start_time": "2025-04-29T20:27:20.860Z"
   },
   {
    "duration": 47,
    "start_time": "2025-04-29T20:27:20.864Z"
   },
   {
    "duration": 199,
    "start_time": "2025-04-29T21:53:49.665Z"
   },
   {
    "duration": 2731,
    "start_time": "2025-04-29T21:57:33.758Z"
   },
   {
    "duration": 210,
    "start_time": "2025-04-29T21:57:36.492Z"
   },
   {
    "duration": 11,
    "start_time": "2025-04-29T21:57:36.705Z"
   },
   {
    "duration": 8,
    "start_time": "2025-04-29T21:57:36.718Z"
   },
   {
    "duration": 8,
    "start_time": "2025-04-29T21:57:36.730Z"
   },
   {
    "duration": 6,
    "start_time": "2025-04-29T21:57:36.740Z"
   },
   {
    "duration": 14,
    "start_time": "2025-04-29T21:57:36.748Z"
   },
   {
    "duration": 12,
    "start_time": "2025-04-29T21:57:36.764Z"
   },
   {
    "duration": 16,
    "start_time": "2025-04-29T21:57:36.777Z"
   },
   {
    "duration": 10,
    "start_time": "2025-04-29T21:57:36.824Z"
   },
   {
    "duration": 103,
    "start_time": "2025-04-29T21:57:36.835Z"
   },
   {
    "duration": 27,
    "start_time": "2025-04-29T21:57:36.940Z"
   },
   {
    "duration": 12,
    "start_time": "2025-04-29T21:57:36.970Z"
   },
   {
    "duration": 6,
    "start_time": "2025-04-29T21:57:36.987Z"
   },
   {
    "duration": 71,
    "start_time": "2025-04-29T21:57:36.995Z"
   },
   {
    "duration": 14,
    "start_time": "2025-04-29T21:57:37.068Z"
   },
   {
    "duration": 6,
    "start_time": "2025-04-29T21:57:37.084Z"
   },
   {
    "duration": 81,
    "start_time": "2025-04-29T21:57:37.092Z"
   },
   {
    "duration": 2,
    "start_time": "2025-04-29T21:57:37.175Z"
   },
   {
    "duration": 2,
    "start_time": "2025-04-29T21:57:37.179Z"
   },
   {
    "duration": 2,
    "start_time": "2025-04-29T21:57:37.184Z"
   },
   {
    "duration": 2,
    "start_time": "2025-04-29T21:57:37.189Z"
   },
   {
    "duration": 4,
    "start_time": "2025-04-29T21:57:37.192Z"
   },
   {
    "duration": 2,
    "start_time": "2025-04-29T21:57:37.225Z"
   },
   {
    "duration": 3,
    "start_time": "2025-04-29T21:57:37.229Z"
   },
   {
    "duration": 2,
    "start_time": "2025-04-29T21:57:37.234Z"
   },
   {
    "duration": 3,
    "start_time": "2025-04-29T21:57:37.238Z"
   },
   {
    "duration": 3,
    "start_time": "2025-04-29T21:57:37.242Z"
   },
   {
    "duration": 3,
    "start_time": "2025-04-29T21:57:37.247Z"
   },
   {
    "duration": 2,
    "start_time": "2025-04-29T21:57:37.252Z"
   },
   {
    "duration": 3,
    "start_time": "2025-04-29T21:57:37.256Z"
   },
   {
    "duration": 2,
    "start_time": "2025-04-29T21:57:37.261Z"
   },
   {
    "duration": 4,
    "start_time": "2025-04-29T21:57:37.265Z"
   },
   {
    "duration": 3,
    "start_time": "2025-04-29T21:57:37.270Z"
   },
   {
    "duration": 6,
    "start_time": "2025-04-29T21:58:10.794Z"
   },
   {
    "duration": 16,
    "start_time": "2025-04-29T22:00:18.681Z"
   },
   {
    "duration": 13,
    "start_time": "2025-04-29T22:04:08.286Z"
   },
   {
    "duration": 19,
    "start_time": "2025-04-29T22:09:14.577Z"
   },
   {
    "duration": 23,
    "start_time": "2025-04-29T22:34:57.967Z"
   },
   {
    "duration": 23,
    "start_time": "2025-04-29T22:35:11.487Z"
   },
   {
    "duration": 11,
    "start_time": "2025-04-29T22:36:13.389Z"
   },
   {
    "duration": 12,
    "start_time": "2025-04-29T22:36:27.305Z"
   },
   {
    "duration": 17,
    "start_time": "2025-04-29T22:42:30.578Z"
   },
   {
    "duration": 14,
    "start_time": "2025-04-29T22:44:16.691Z"
   },
   {
    "duration": 12,
    "start_time": "2025-04-29T22:50:26.814Z"
   },
   {
    "duration": 18,
    "start_time": "2025-04-29T22:52:10.925Z"
   },
   {
    "duration": 14,
    "start_time": "2025-04-29T22:56:04.423Z"
   },
   {
    "duration": 10,
    "start_time": "2025-04-29T22:59:33.785Z"
   },
   {
    "duration": 14,
    "start_time": "2025-04-29T23:02:03.003Z"
   },
   {
    "duration": 21,
    "start_time": "2025-04-29T23:03:01.276Z"
   },
   {
    "duration": 16,
    "start_time": "2025-04-29T23:18:38.321Z"
   },
   {
    "duration": 212,
    "start_time": "2025-04-29T23:20:26.256Z"
   },
   {
    "duration": 14,
    "start_time": "2025-04-29T23:20:37.032Z"
   },
   {
    "duration": 77,
    "start_time": "2025-04-29T23:49:21.965Z"
   },
   {
    "duration": 19,
    "start_time": "2025-04-30T00:03:55.011Z"
   },
   {
    "duration": 8,
    "start_time": "2025-04-30T00:06:03.440Z"
   },
   {
    "duration": 19,
    "start_time": "2025-04-30T00:06:21.772Z"
   },
   {
    "duration": 14,
    "start_time": "2025-04-30T00:10:26.723Z"
   },
   {
    "duration": 244,
    "start_time": "2025-04-30T00:13:17.705Z"
   },
   {
    "duration": 2,
    "start_time": "2025-04-30T00:14:19.547Z"
   },
   {
    "duration": 5,
    "start_time": "2025-04-30T00:15:49.894Z"
   },
   {
    "duration": 10,
    "start_time": "2025-04-30T00:15:54.876Z"
   },
   {
    "duration": 14,
    "start_time": "2025-04-30T00:20:22.394Z"
   },
   {
    "duration": 15,
    "start_time": "2025-04-30T00:20:42.741Z"
   },
   {
    "duration": 14,
    "start_time": "2025-04-30T00:28:01.203Z"
   },
   {
    "duration": 15,
    "start_time": "2025-04-30T00:28:10.920Z"
   },
   {
    "duration": 2451,
    "start_time": "2025-04-30T14:50:16.508Z"
   },
   {
    "duration": 217,
    "start_time": "2025-04-30T14:50:18.961Z"
   },
   {
    "duration": 9,
    "start_time": "2025-04-30T14:50:19.180Z"
   },
   {
    "duration": 6,
    "start_time": "2025-04-30T14:50:19.192Z"
   },
   {
    "duration": 9,
    "start_time": "2025-04-30T14:50:19.199Z"
   },
   {
    "duration": 6,
    "start_time": "2025-04-30T14:50:19.210Z"
   },
   {
    "duration": 12,
    "start_time": "2025-04-30T14:50:19.217Z"
   },
   {
    "duration": 16,
    "start_time": "2025-04-30T14:50:19.230Z"
   },
   {
    "duration": 16,
    "start_time": "2025-04-30T14:50:19.247Z"
   },
   {
    "duration": 6,
    "start_time": "2025-04-30T14:50:19.266Z"
   },
   {
    "duration": 118,
    "start_time": "2025-04-30T14:50:19.273Z"
   },
   {
    "duration": 42,
    "start_time": "2025-04-30T14:50:19.392Z"
   },
   {
    "duration": 12,
    "start_time": "2025-04-30T14:50:19.436Z"
   },
   {
    "duration": 5,
    "start_time": "2025-04-30T14:50:19.450Z"
   },
   {
    "duration": 58,
    "start_time": "2025-04-30T14:50:19.456Z"
   },
   {
    "duration": 18,
    "start_time": "2025-04-30T14:50:19.516Z"
   },
   {
    "duration": 14,
    "start_time": "2025-04-30T14:50:19.535Z"
   },
   {
    "duration": 6,
    "start_time": "2025-04-30T14:50:19.551Z"
   },
   {
    "duration": 87,
    "start_time": "2025-04-30T14:50:19.559Z"
   },
   {
    "duration": 21,
    "start_time": "2025-04-30T14:50:19.648Z"
   },
   {
    "duration": 9,
    "start_time": "2025-04-30T14:50:19.671Z"
   },
   {
    "duration": 35,
    "start_time": "2025-04-30T14:50:19.682Z"
   },
   {
    "duration": 22,
    "start_time": "2025-04-30T14:50:19.719Z"
   },
   {
    "duration": 18,
    "start_time": "2025-04-30T14:50:19.743Z"
   },
   {
    "duration": 12,
    "start_time": "2025-04-30T14:50:19.763Z"
   },
   {
    "duration": 37,
    "start_time": "2025-04-30T14:50:19.777Z"
   },
   {
    "duration": 15,
    "start_time": "2025-04-30T14:50:19.816Z"
   },
   {
    "duration": 13,
    "start_time": "2025-04-30T14:50:19.836Z"
   },
   {
    "duration": 19,
    "start_time": "2025-04-30T14:50:19.850Z"
   },
   {
    "duration": 13,
    "start_time": "2025-04-30T14:50:19.871Z"
   },
   {
    "duration": 39,
    "start_time": "2025-04-30T14:50:19.885Z"
   },
   {
    "duration": 3,
    "start_time": "2025-04-30T14:50:19.926Z"
   },
   {
    "duration": 2,
    "start_time": "2025-04-30T14:50:19.931Z"
   },
   {
    "duration": 3,
    "start_time": "2025-04-30T14:50:19.935Z"
   },
   {
    "duration": 3,
    "start_time": "2025-04-30T14:50:19.940Z"
   },
   {
    "duration": 5,
    "start_time": "2025-04-30T14:50:19.947Z"
   },
   {
    "duration": 2,
    "start_time": "2025-04-30T14:50:19.954Z"
   },
   {
    "duration": 6,
    "start_time": "2025-04-30T14:50:19.957Z"
   },
   {
    "duration": 2,
    "start_time": "2025-04-30T14:50:19.966Z"
   },
   {
    "duration": 3,
    "start_time": "2025-04-30T14:50:19.969Z"
   },
   {
    "duration": 471,
    "start_time": "2025-04-30T15:00:41.526Z"
   },
   {
    "duration": 8,
    "start_time": "2025-04-30T15:05:51.096Z"
   },
   {
    "duration": 155,
    "start_time": "2025-04-30T18:29:08.177Z"
   },
   {
    "duration": 3,
    "start_time": "2025-04-30T18:29:23.248Z"
   },
   {
    "duration": 2560,
    "start_time": "2025-05-01T17:26:49.500Z"
   },
   {
    "duration": 211,
    "start_time": "2025-05-01T17:26:52.062Z"
   },
   {
    "duration": 10,
    "start_time": "2025-05-01T17:26:52.275Z"
   },
   {
    "duration": 6,
    "start_time": "2025-05-01T17:26:52.288Z"
   },
   {
    "duration": 9,
    "start_time": "2025-05-01T17:26:52.295Z"
   },
   {
    "duration": 14,
    "start_time": "2025-05-01T17:26:52.306Z"
   },
   {
    "duration": 12,
    "start_time": "2025-05-01T17:26:52.321Z"
   },
   {
    "duration": 16,
    "start_time": "2025-05-01T17:26:52.335Z"
   },
   {
    "duration": 15,
    "start_time": "2025-05-01T17:26:52.352Z"
   },
   {
    "duration": 7,
    "start_time": "2025-05-01T17:26:52.369Z"
   },
   {
    "duration": 116,
    "start_time": "2025-05-01T17:26:52.377Z"
   },
   {
    "duration": 37,
    "start_time": "2025-05-01T17:26:52.495Z"
   },
   {
    "duration": 17,
    "start_time": "2025-05-01T17:26:52.534Z"
   },
   {
    "duration": 7,
    "start_time": "2025-05-01T17:26:52.553Z"
   },
   {
    "duration": 42,
    "start_time": "2025-05-01T17:26:52.561Z"
   },
   {
    "duration": 30,
    "start_time": "2025-05-01T17:26:52.605Z"
   },
   {
    "duration": 14,
    "start_time": "2025-05-01T17:26:52.636Z"
   },
   {
    "duration": 6,
    "start_time": "2025-05-01T17:26:52.652Z"
   },
   {
    "duration": 89,
    "start_time": "2025-05-01T17:26:52.659Z"
   },
   {
    "duration": 21,
    "start_time": "2025-05-01T17:26:52.751Z"
   },
   {
    "duration": 10,
    "start_time": "2025-05-01T17:26:52.773Z"
   },
   {
    "duration": 35,
    "start_time": "2025-05-01T17:26:52.785Z"
   },
   {
    "duration": 22,
    "start_time": "2025-05-01T17:26:52.821Z"
   },
   {
    "duration": 19,
    "start_time": "2025-05-01T17:26:52.845Z"
   },
   {
    "duration": 12,
    "start_time": "2025-05-01T17:26:52.865Z"
   },
   {
    "duration": 41,
    "start_time": "2025-05-01T17:26:52.879Z"
   },
   {
    "duration": 17,
    "start_time": "2025-05-01T17:26:52.921Z"
   },
   {
    "duration": 12,
    "start_time": "2025-05-01T17:26:52.941Z"
   },
   {
    "duration": 19,
    "start_time": "2025-05-01T17:26:52.955Z"
   },
   {
    "duration": 15,
    "start_time": "2025-05-01T17:26:52.976Z"
   },
   {
    "duration": 6,
    "start_time": "2025-05-01T17:26:53.019Z"
   },
   {
    "duration": 3,
    "start_time": "2025-05-01T17:26:53.027Z"
   },
   {
    "duration": 3,
    "start_time": "2025-05-01T17:26:53.031Z"
   },
   {
    "duration": 4,
    "start_time": "2025-05-01T17:26:53.035Z"
   },
   {
    "duration": 3,
    "start_time": "2025-05-01T17:26:53.041Z"
   },
   {
    "duration": 5,
    "start_time": "2025-05-01T17:26:53.045Z"
   },
   {
    "duration": 3,
    "start_time": "2025-05-01T17:26:53.051Z"
   },
   {
    "duration": 2,
    "start_time": "2025-05-01T17:26:53.056Z"
   },
   {
    "duration": 4,
    "start_time": "2025-05-01T17:26:53.059Z"
   },
   {
    "duration": 3,
    "start_time": "2025-05-01T17:26:53.064Z"
   },
   {
    "duration": 19,
    "start_time": "2025-05-01T18:21:43.101Z"
   },
   {
    "duration": 6,
    "start_time": "2025-05-01T18:22:15.550Z"
   },
   {
    "duration": 14,
    "start_time": "2025-05-01T18:23:39.383Z"
   },
   {
    "duration": 17,
    "start_time": "2025-05-01T18:25:56.740Z"
   },
   {
    "duration": 17,
    "start_time": "2025-05-01T18:28:15.942Z"
   },
   {
    "duration": 12,
    "start_time": "2025-05-01T18:36:18.354Z"
   },
   {
    "duration": 13,
    "start_time": "2025-05-01T18:37:00.300Z"
   },
   {
    "duration": 12,
    "start_time": "2025-05-01T18:37:10.360Z"
   },
   {
    "duration": 14,
    "start_time": "2025-05-01T18:38:32.320Z"
   },
   {
    "duration": 12,
    "start_time": "2025-05-01T19:05:10.761Z"
   },
   {
    "duration": 9,
    "start_time": "2025-05-01T19:06:23.463Z"
   },
   {
    "duration": 233,
    "start_time": "2025-05-01T19:06:31.167Z"
   },
   {
    "duration": 9,
    "start_time": "2025-05-01T19:06:40.925Z"
   },
   {
    "duration": 8,
    "start_time": "2025-05-01T19:07:08.383Z"
   },
   {
    "duration": 8,
    "start_time": "2025-05-01T19:07:17.394Z"
   },
   {
    "duration": 6,
    "start_time": "2025-05-01T19:07:46.096Z"
   },
   {
    "duration": 10,
    "start_time": "2025-05-01T19:08:01.920Z"
   },
   {
    "duration": 9,
    "start_time": "2025-05-01T19:08:48.503Z"
   },
   {
    "duration": 9,
    "start_time": "2025-05-01T19:10:06.266Z"
   },
   {
    "duration": 9,
    "start_time": "2025-05-01T19:32:06.275Z"
   },
   {
    "duration": 9,
    "start_time": "2025-05-01T19:51:32.572Z"
   },
   {
    "duration": 5,
    "start_time": "2025-05-01T19:52:03.527Z"
   },
   {
    "duration": 7,
    "start_time": "2025-05-01T19:52:06.883Z"
   },
   {
    "duration": 10,
    "start_time": "2025-05-01T19:52:40.359Z"
   },
   {
    "duration": 18,
    "start_time": "2025-05-01T20:01:12.407Z"
   },
   {
    "duration": 18,
    "start_time": "2025-05-01T21:07:56.889Z"
   },
   {
    "duration": 16,
    "start_time": "2025-05-01T21:11:35.142Z"
   },
   {
    "duration": 156,
    "start_time": "2025-05-02T19:16:21.478Z"
   },
   {
    "duration": 2559,
    "start_time": "2025-05-02T19:16:36.091Z"
   },
   {
    "duration": 229,
    "start_time": "2025-05-02T19:16:38.652Z"
   },
   {
    "duration": 9,
    "start_time": "2025-05-02T19:16:38.883Z"
   },
   {
    "duration": 7,
    "start_time": "2025-05-02T19:16:38.895Z"
   },
   {
    "duration": 12,
    "start_time": "2025-05-02T19:16:38.905Z"
   },
   {
    "duration": 6,
    "start_time": "2025-05-02T19:16:38.918Z"
   },
   {
    "duration": 13,
    "start_time": "2025-05-02T19:16:38.926Z"
   },
   {
    "duration": 16,
    "start_time": "2025-05-02T19:16:38.940Z"
   },
   {
    "duration": 15,
    "start_time": "2025-05-02T19:16:38.957Z"
   },
   {
    "duration": 36,
    "start_time": "2025-05-02T19:16:38.976Z"
   },
   {
    "duration": 110,
    "start_time": "2025-05-02T19:16:39.014Z"
   },
   {
    "duration": 29,
    "start_time": "2025-05-02T19:16:39.126Z"
   },
   {
    "duration": 12,
    "start_time": "2025-05-02T19:16:39.157Z"
   },
   {
    "duration": 6,
    "start_time": "2025-05-02T19:16:39.171Z"
   },
   {
    "duration": 64,
    "start_time": "2025-05-02T19:16:39.180Z"
   },
   {
    "duration": 19,
    "start_time": "2025-05-02T19:16:39.246Z"
   },
   {
    "duration": 14,
    "start_time": "2025-05-02T19:16:39.266Z"
   },
   {
    "duration": 28,
    "start_time": "2025-05-02T19:16:39.281Z"
   },
   {
    "duration": 69,
    "start_time": "2025-05-02T19:16:39.311Z"
   },
   {
    "duration": 39,
    "start_time": "2025-05-02T19:16:39.382Z"
   },
   {
    "duration": 10,
    "start_time": "2025-05-02T19:16:39.423Z"
   },
   {
    "duration": 16,
    "start_time": "2025-05-02T19:16:39.434Z"
   },
   {
    "duration": 21,
    "start_time": "2025-05-02T19:16:39.452Z"
   },
   {
    "duration": 43,
    "start_time": "2025-05-02T19:16:39.475Z"
   },
   {
    "duration": 12,
    "start_time": "2025-05-02T19:16:39.520Z"
   },
   {
    "duration": 12,
    "start_time": "2025-05-02T19:16:39.533Z"
   },
   {
    "duration": 14,
    "start_time": "2025-05-02T19:16:39.547Z"
   },
   {
    "duration": 12,
    "start_time": "2025-05-02T19:16:39.566Z"
   },
   {
    "duration": 21,
    "start_time": "2025-05-02T19:16:39.609Z"
   },
   {
    "duration": 12,
    "start_time": "2025-05-02T19:16:39.632Z"
   },
   {
    "duration": 17,
    "start_time": "2025-05-02T19:16:39.646Z"
   },
   {
    "duration": 12,
    "start_time": "2025-05-02T19:16:39.664Z"
   },
   {
    "duration": 34,
    "start_time": "2025-05-02T19:16:39.677Z"
   },
   {
    "duration": 16,
    "start_time": "2025-05-02T19:16:39.712Z"
   },
   {
    "duration": 14,
    "start_time": "2025-05-02T19:16:39.730Z"
   },
   {
    "duration": 3,
    "start_time": "2025-05-02T19:16:39.746Z"
   },
   {
    "duration": 5,
    "start_time": "2025-05-02T19:16:39.751Z"
   },
   {
    "duration": 2,
    "start_time": "2025-05-02T19:16:39.758Z"
   },
   {
    "duration": 7,
    "start_time": "2025-05-02T19:16:39.763Z"
   },
   {
    "duration": 3,
    "start_time": "2025-05-02T19:16:39.772Z"
   },
   {
    "duration": 32,
    "start_time": "2025-05-02T19:16:39.777Z"
   },
   {
    "duration": 3,
    "start_time": "2025-05-02T19:16:39.811Z"
   },
   {
    "duration": 4,
    "start_time": "2025-05-02T19:16:39.815Z"
   },
   {
    "duration": 2,
    "start_time": "2025-05-02T19:16:39.822Z"
   },
   {
    "duration": 2,
    "start_time": "2025-05-02T19:16:39.827Z"
   },
   {
    "duration": 2450,
    "start_time": "2025-05-03T01:22:15.399Z"
   },
   {
    "duration": 213,
    "start_time": "2025-05-03T01:22:17.851Z"
   },
   {
    "duration": 10,
    "start_time": "2025-05-03T01:22:18.065Z"
   },
   {
    "duration": 6,
    "start_time": "2025-05-03T01:22:18.077Z"
   },
   {
    "duration": 8,
    "start_time": "2025-05-03T01:22:18.085Z"
   },
   {
    "duration": 6,
    "start_time": "2025-05-03T01:22:18.095Z"
   },
   {
    "duration": 24,
    "start_time": "2025-05-03T01:22:18.103Z"
   },
   {
    "duration": 15,
    "start_time": "2025-05-03T01:22:18.129Z"
   },
   {
    "duration": 15,
    "start_time": "2025-05-03T01:22:18.145Z"
   },
   {
    "duration": 7,
    "start_time": "2025-05-03T01:22:18.164Z"
   },
   {
    "duration": 115,
    "start_time": "2025-05-03T01:22:18.172Z"
   },
   {
    "duration": 39,
    "start_time": "2025-05-03T01:22:18.289Z"
   },
   {
    "duration": 12,
    "start_time": "2025-05-03T01:22:18.329Z"
   },
   {
    "duration": 6,
    "start_time": "2025-05-03T01:22:18.343Z"
   },
   {
    "duration": 42,
    "start_time": "2025-05-03T01:22:18.350Z"
   },
   {
    "duration": 38,
    "start_time": "2025-05-03T01:22:18.394Z"
   },
   {
    "duration": 14,
    "start_time": "2025-05-03T01:22:18.433Z"
   },
   {
    "duration": 8,
    "start_time": "2025-05-03T01:22:18.449Z"
   },
   {
    "duration": 98,
    "start_time": "2025-05-03T01:22:18.458Z"
   },
   {
    "duration": 23,
    "start_time": "2025-05-03T01:22:18.558Z"
   },
   {
    "duration": 15,
    "start_time": "2025-05-03T01:22:18.583Z"
   },
   {
    "duration": 28,
    "start_time": "2025-05-03T01:22:18.600Z"
   },
   {
    "duration": 21,
    "start_time": "2025-05-03T01:22:18.630Z"
   },
   {
    "duration": 17,
    "start_time": "2025-05-03T01:22:18.653Z"
   },
   {
    "duration": 12,
    "start_time": "2025-05-03T01:22:18.672Z"
   },
   {
    "duration": 40,
    "start_time": "2025-05-03T01:22:18.686Z"
   },
   {
    "duration": 13,
    "start_time": "2025-05-03T01:22:18.728Z"
   },
   {
    "duration": 12,
    "start_time": "2025-05-03T01:22:18.745Z"
   },
   {
    "duration": 20,
    "start_time": "2025-05-03T01:22:18.759Z"
   },
   {
    "duration": 40,
    "start_time": "2025-05-03T01:22:18.780Z"
   },
   {
    "duration": 18,
    "start_time": "2025-05-03T01:22:18.821Z"
   },
   {
    "duration": 11,
    "start_time": "2025-05-03T01:22:18.841Z"
   },
   {
    "duration": 9,
    "start_time": "2025-05-03T01:22:18.853Z"
   },
   {
    "duration": 15,
    "start_time": "2025-05-03T01:22:18.865Z"
   },
   {
    "duration": 42,
    "start_time": "2025-05-03T01:22:18.882Z"
   },
   {
    "duration": 4,
    "start_time": "2025-05-03T01:22:18.926Z"
   },
   {
    "duration": 3,
    "start_time": "2025-05-03T01:22:18.932Z"
   },
   {
    "duration": 4,
    "start_time": "2025-05-03T01:22:18.936Z"
   },
   {
    "duration": 2,
    "start_time": "2025-05-03T01:22:18.943Z"
   },
   {
    "duration": 3,
    "start_time": "2025-05-03T01:22:18.946Z"
   },
   {
    "duration": 3,
    "start_time": "2025-05-03T01:22:18.951Z"
   },
   {
    "duration": 3,
    "start_time": "2025-05-03T01:22:18.955Z"
   },
   {
    "duration": 3,
    "start_time": "2025-05-03T01:22:18.960Z"
   },
   {
    "duration": 2,
    "start_time": "2025-05-03T01:22:18.965Z"
   },
   {
    "duration": 3,
    "start_time": "2025-05-03T01:22:18.969Z"
   },
   {
    "duration": 2625,
    "start_time": "2025-05-03T02:40:48.395Z"
   },
   {
    "duration": 212,
    "start_time": "2025-05-03T02:40:51.022Z"
   },
   {
    "duration": 9,
    "start_time": "2025-05-03T02:40:51.237Z"
   },
   {
    "duration": 6,
    "start_time": "2025-05-03T02:40:51.249Z"
   },
   {
    "duration": 8,
    "start_time": "2025-05-03T02:40:51.256Z"
   },
   {
    "duration": 6,
    "start_time": "2025-05-03T02:40:51.266Z"
   },
   {
    "duration": 22,
    "start_time": "2025-05-03T02:40:51.273Z"
   },
   {
    "duration": 16,
    "start_time": "2025-05-03T02:40:51.297Z"
   },
   {
    "duration": 15,
    "start_time": "2025-05-03T02:40:51.314Z"
   },
   {
    "duration": 7,
    "start_time": "2025-05-03T02:40:51.332Z"
   },
   {
    "duration": 116,
    "start_time": "2025-05-03T02:40:51.340Z"
   },
   {
    "duration": 39,
    "start_time": "2025-05-03T02:40:51.458Z"
   },
   {
    "duration": 13,
    "start_time": "2025-05-03T02:40:51.498Z"
   },
   {
    "duration": 8,
    "start_time": "2025-05-03T02:40:51.512Z"
   },
   {
    "duration": 65,
    "start_time": "2025-05-03T02:40:51.522Z"
   },
   {
    "duration": 18,
    "start_time": "2025-05-03T02:40:51.589Z"
   },
   {
    "duration": 12,
    "start_time": "2025-05-03T02:40:51.609Z"
   },
   {
    "duration": 6,
    "start_time": "2025-05-03T02:40:51.623Z"
   },
   {
    "duration": 89,
    "start_time": "2025-05-03T02:40:51.631Z"
   },
   {
    "duration": 21,
    "start_time": "2025-05-03T02:40:51.722Z"
   },
   {
    "duration": 10,
    "start_time": "2025-05-03T02:40:51.745Z"
   },
   {
    "duration": 43,
    "start_time": "2025-05-03T02:40:51.757Z"
   },
   {
    "duration": 22,
    "start_time": "2025-05-03T02:40:51.802Z"
   },
   {
    "duration": 19,
    "start_time": "2025-05-03T02:40:51.826Z"
   },
   {
    "duration": 13,
    "start_time": "2025-05-03T02:40:51.846Z"
   },
   {
    "duration": 37,
    "start_time": "2025-05-03T02:40:51.861Z"
   },
   {
    "duration": 14,
    "start_time": "2025-05-03T02:40:51.899Z"
   },
   {
    "duration": 13,
    "start_time": "2025-05-03T02:40:51.916Z"
   },
   {
    "duration": 22,
    "start_time": "2025-05-03T02:40:51.930Z"
   },
   {
    "duration": 42,
    "start_time": "2025-05-03T02:40:51.953Z"
   },
   {
    "duration": 18,
    "start_time": "2025-05-03T02:40:51.997Z"
   },
   {
    "duration": 12,
    "start_time": "2025-05-03T02:40:52.017Z"
   },
   {
    "duration": 7,
    "start_time": "2025-05-03T02:40:52.031Z"
   },
   {
    "duration": 51,
    "start_time": "2025-05-03T02:40:52.040Z"
   },
   {
    "duration": 21,
    "start_time": "2025-05-03T02:40:52.093Z"
   },
   {
    "duration": 4,
    "start_time": "2025-05-03T02:40:52.116Z"
   },
   {
    "duration": 5,
    "start_time": "2025-05-03T02:40:52.122Z"
   },
   {
    "duration": 0,
    "start_time": "2025-05-03T02:40:52.129Z"
   },
   {
    "duration": 0,
    "start_time": "2025-05-03T02:40:52.130Z"
   },
   {
    "duration": 0,
    "start_time": "2025-05-03T02:40:52.131Z"
   },
   {
    "duration": 0,
    "start_time": "2025-05-03T02:40:52.133Z"
   },
   {
    "duration": 0,
    "start_time": "2025-05-03T02:40:52.134Z"
   },
   {
    "duration": 0,
    "start_time": "2025-05-03T02:40:52.136Z"
   },
   {
    "duration": 0,
    "start_time": "2025-05-03T02:40:52.137Z"
   },
   {
    "duration": 0,
    "start_time": "2025-05-03T02:40:52.138Z"
   },
   {
    "duration": 5,
    "start_time": "2025-05-03T02:55:46.611Z"
   },
   {
    "duration": 5,
    "start_time": "2025-05-03T02:56:09.195Z"
   },
   {
    "duration": 295,
    "start_time": "2025-05-03T02:56:50.413Z"
   },
   {
    "duration": 6,
    "start_time": "2025-05-03T02:58:54.692Z"
   },
   {
    "duration": 5,
    "start_time": "2025-05-03T02:59:16.981Z"
   },
   {
    "duration": 6,
    "start_time": "2025-05-03T03:35:06.497Z"
   },
   {
    "duration": 6,
    "start_time": "2025-05-03T03:35:23.922Z"
   },
   {
    "duration": 6,
    "start_time": "2025-05-03T03:35:35.331Z"
   },
   {
    "duration": 6,
    "start_time": "2025-05-03T03:35:48.609Z"
   },
   {
    "duration": 2475,
    "start_time": "2025-05-03T06:25:24.540Z"
   },
   {
    "duration": 236,
    "start_time": "2025-05-03T06:25:27.017Z"
   },
   {
    "duration": 10,
    "start_time": "2025-05-03T06:25:27.255Z"
   },
   {
    "duration": 6,
    "start_time": "2025-05-03T06:25:27.267Z"
   },
   {
    "duration": 9,
    "start_time": "2025-05-03T06:25:27.274Z"
   },
   {
    "duration": 6,
    "start_time": "2025-05-03T06:25:27.285Z"
   },
   {
    "duration": 12,
    "start_time": "2025-05-03T06:25:27.294Z"
   },
   {
    "duration": 16,
    "start_time": "2025-05-03T06:25:27.307Z"
   },
   {
    "duration": 45,
    "start_time": "2025-05-03T06:25:27.325Z"
   },
   {
    "duration": 7,
    "start_time": "2025-05-03T06:25:27.374Z"
   },
   {
    "duration": 104,
    "start_time": "2025-05-03T06:25:27.383Z"
   },
   {
    "duration": 28,
    "start_time": "2025-05-03T06:25:27.489Z"
   },
   {
    "duration": 12,
    "start_time": "2025-05-03T06:25:27.519Z"
   },
   {
    "duration": 6,
    "start_time": "2025-05-03T06:25:27.532Z"
   },
   {
    "duration": 71,
    "start_time": "2025-05-03T06:25:27.540Z"
   },
   {
    "duration": 17,
    "start_time": "2025-05-03T06:25:27.613Z"
   },
   {
    "duration": 15,
    "start_time": "2025-05-03T06:25:27.632Z"
   },
   {
    "duration": 27,
    "start_time": "2025-05-03T06:25:27.648Z"
   },
   {
    "duration": 72,
    "start_time": "2025-05-03T06:25:27.676Z"
   },
   {
    "duration": 38,
    "start_time": "2025-05-03T06:25:27.749Z"
   },
   {
    "duration": 10,
    "start_time": "2025-05-03T06:25:27.788Z"
   },
   {
    "duration": 16,
    "start_time": "2025-05-03T06:25:27.800Z"
   },
   {
    "duration": 23,
    "start_time": "2025-05-03T06:25:27.818Z"
   },
   {
    "duration": 19,
    "start_time": "2025-05-03T06:25:27.870Z"
   },
   {
    "duration": 13,
    "start_time": "2025-05-03T06:25:27.891Z"
   },
   {
    "duration": 14,
    "start_time": "2025-05-03T06:25:27.905Z"
   },
   {
    "duration": 14,
    "start_time": "2025-05-03T06:25:27.921Z"
   },
   {
    "duration": 36,
    "start_time": "2025-05-03T06:25:27.939Z"
   },
   {
    "duration": 19,
    "start_time": "2025-05-03T06:25:27.977Z"
   },
   {
    "duration": 14,
    "start_time": "2025-05-03T06:25:27.998Z"
   },
   {
    "duration": 16,
    "start_time": "2025-05-03T06:25:28.014Z"
   },
   {
    "duration": 48,
    "start_time": "2025-05-03T06:25:28.032Z"
   },
   {
    "duration": 8,
    "start_time": "2025-05-03T06:25:28.082Z"
   },
   {
    "duration": 17,
    "start_time": "2025-05-03T06:25:28.091Z"
   },
   {
    "duration": 16,
    "start_time": "2025-05-03T06:25:28.110Z"
   },
   {
    "duration": 4,
    "start_time": "2025-05-03T06:25:28.128Z"
   },
   {
    "duration": 39,
    "start_time": "2025-05-03T06:25:28.134Z"
   },
   {
    "duration": 4,
    "start_time": "2025-05-03T06:25:28.175Z"
   },
   {
    "duration": 3,
    "start_time": "2025-05-03T06:25:28.180Z"
   },
   {
    "duration": 3,
    "start_time": "2025-05-03T06:25:28.185Z"
   },
   {
    "duration": 3,
    "start_time": "2025-05-03T06:25:28.189Z"
   },
   {
    "duration": 2,
    "start_time": "2025-05-03T06:25:28.196Z"
   },
   {
    "duration": 3,
    "start_time": "2025-05-03T06:25:28.200Z"
   },
   {
    "duration": 3,
    "start_time": "2025-05-03T06:25:28.205Z"
   },
   {
    "duration": 2,
    "start_time": "2025-05-03T06:25:28.210Z"
   },
   {
    "duration": 2476,
    "start_time": "2025-05-03T16:54:33.762Z"
   },
   {
    "duration": 217,
    "start_time": "2025-05-03T16:54:36.240Z"
   },
   {
    "duration": 10,
    "start_time": "2025-05-03T16:54:36.459Z"
   },
   {
    "duration": 6,
    "start_time": "2025-05-03T16:54:36.471Z"
   },
   {
    "duration": 9,
    "start_time": "2025-05-03T16:54:36.478Z"
   },
   {
    "duration": 6,
    "start_time": "2025-05-03T16:54:36.489Z"
   },
   {
    "duration": 25,
    "start_time": "2025-05-03T16:54:36.497Z"
   },
   {
    "duration": 18,
    "start_time": "2025-05-03T16:54:36.524Z"
   },
   {
    "duration": 15,
    "start_time": "2025-05-03T16:54:36.544Z"
   },
   {
    "duration": 7,
    "start_time": "2025-05-03T16:54:36.562Z"
   },
   {
    "duration": 114,
    "start_time": "2025-05-03T16:54:36.571Z"
   },
   {
    "duration": 38,
    "start_time": "2025-05-03T16:54:36.687Z"
   },
   {
    "duration": 12,
    "start_time": "2025-05-03T16:54:36.727Z"
   },
   {
    "duration": 6,
    "start_time": "2025-05-03T16:54:36.740Z"
   },
   {
    "duration": 41,
    "start_time": "2025-05-03T16:54:36.748Z"
   },
   {
    "duration": 19,
    "start_time": "2025-05-03T16:54:36.809Z"
   },
   {
    "duration": 13,
    "start_time": "2025-05-03T16:54:36.829Z"
   },
   {
    "duration": 6,
    "start_time": "2025-05-03T16:54:36.844Z"
   },
   {
    "duration": 89,
    "start_time": "2025-05-03T16:54:36.851Z"
   },
   {
    "duration": 21,
    "start_time": "2025-05-03T16:54:36.942Z"
   },
   {
    "duration": 9,
    "start_time": "2025-05-03T16:54:36.965Z"
   },
   {
    "duration": 36,
    "start_time": "2025-05-03T16:54:36.976Z"
   },
   {
    "duration": 23,
    "start_time": "2025-05-03T16:54:37.017Z"
   },
   {
    "duration": 18,
    "start_time": "2025-05-03T16:54:37.041Z"
   },
   {
    "duration": 12,
    "start_time": "2025-05-03T16:54:37.061Z"
   },
   {
    "duration": 38,
    "start_time": "2025-05-03T16:54:37.074Z"
   },
   {
    "duration": 14,
    "start_time": "2025-05-03T16:54:37.114Z"
   },
   {
    "duration": 12,
    "start_time": "2025-05-03T16:54:37.132Z"
   },
   {
    "duration": 20,
    "start_time": "2025-05-03T16:54:37.145Z"
   },
   {
    "duration": 13,
    "start_time": "2025-05-03T16:54:37.167Z"
   },
   {
    "duration": 19,
    "start_time": "2025-05-03T16:54:37.208Z"
   },
   {
    "duration": 16,
    "start_time": "2025-05-03T16:54:37.228Z"
   },
   {
    "duration": 9,
    "start_time": "2025-05-03T16:54:37.246Z"
   },
   {
    "duration": 15,
    "start_time": "2025-05-03T16:54:37.256Z"
   },
   {
    "duration": 47,
    "start_time": "2025-05-03T16:54:37.274Z"
   },
   {
    "duration": 4,
    "start_time": "2025-05-03T16:54:37.322Z"
   },
   {
    "duration": 7,
    "start_time": "2025-05-03T16:54:37.327Z"
   },
   {
    "duration": 4,
    "start_time": "2025-05-03T16:54:37.335Z"
   },
   {
    "duration": 3,
    "start_time": "2025-05-03T16:54:37.340Z"
   },
   {
    "duration": 4,
    "start_time": "2025-05-03T16:54:37.344Z"
   },
   {
    "duration": 3,
    "start_time": "2025-05-03T16:54:37.349Z"
   },
   {
    "duration": 3,
    "start_time": "2025-05-03T16:54:37.354Z"
   },
   {
    "duration": 3,
    "start_time": "2025-05-03T16:54:37.359Z"
   },
   {
    "duration": 5,
    "start_time": "2025-05-03T16:54:37.363Z"
   },
   {
    "duration": 39,
    "start_time": "2025-05-03T16:54:37.370Z"
   },
   {
    "duration": 6,
    "start_time": "2025-05-03T17:28:27.167Z"
   },
   {
    "duration": 6,
    "start_time": "2025-05-03T17:28:59.204Z"
   },
   {
    "duration": 538,
    "start_time": "2025-05-03T17:29:45.086Z"
   },
   {
    "duration": 6,
    "start_time": "2025-05-03T17:31:07.613Z"
   },
   {
    "duration": 7,
    "start_time": "2025-05-03T17:31:29.363Z"
   },
   {
    "duration": 6,
    "start_time": "2025-05-03T17:31:41.075Z"
   },
   {
    "duration": 6,
    "start_time": "2025-05-03T17:31:52.045Z"
   },
   {
    "duration": 49,
    "start_time": "2025-05-03T17:49:04.825Z"
   },
   {
    "duration": 191,
    "start_time": "2025-05-03T17:53:03.122Z"
   },
   {
    "duration": 2528,
    "start_time": "2025-05-03T19:23:23.938Z"
   },
   {
    "duration": 236,
    "start_time": "2025-05-03T19:23:26.469Z"
   },
   {
    "duration": 10,
    "start_time": "2025-05-03T19:23:26.707Z"
   },
   {
    "duration": 6,
    "start_time": "2025-05-03T19:23:26.719Z"
   },
   {
    "duration": 8,
    "start_time": "2025-05-03T19:23:26.726Z"
   },
   {
    "duration": 8,
    "start_time": "2025-05-03T19:23:26.735Z"
   },
   {
    "duration": 13,
    "start_time": "2025-05-03T19:23:26.744Z"
   },
   {
    "duration": 51,
    "start_time": "2025-05-03T19:23:26.759Z"
   },
   {
    "duration": 16,
    "start_time": "2025-05-03T19:23:26.812Z"
   },
   {
    "duration": 7,
    "start_time": "2025-05-03T19:23:26.831Z"
   },
   {
    "duration": 104,
    "start_time": "2025-05-03T19:23:26.839Z"
   },
   {
    "duration": 26,
    "start_time": "2025-05-03T19:23:26.945Z"
   },
   {
    "duration": 11,
    "start_time": "2025-05-03T19:23:26.973Z"
   },
   {
    "duration": 5,
    "start_time": "2025-05-03T19:23:27.008Z"
   },
   {
    "duration": 43,
    "start_time": "2025-05-03T19:23:27.015Z"
   },
   {
    "duration": 17,
    "start_time": "2025-05-03T19:23:27.060Z"
   },
   {
    "duration": 35,
    "start_time": "2025-05-03T19:23:27.079Z"
   },
   {
    "duration": 7,
    "start_time": "2025-05-03T19:23:27.116Z"
   },
   {
    "duration": 69,
    "start_time": "2025-05-03T19:23:27.124Z"
   },
   {
    "duration": 23,
    "start_time": "2025-05-03T19:23:27.209Z"
   },
   {
    "duration": 9,
    "start_time": "2025-05-03T19:23:27.233Z"
   },
   {
    "duration": 20,
    "start_time": "2025-05-03T19:23:27.244Z"
   },
   {
    "duration": 52,
    "start_time": "2025-05-03T19:23:27.266Z"
   },
   {
    "duration": 19,
    "start_time": "2025-05-03T19:23:27.320Z"
   },
   {
    "duration": 13,
    "start_time": "2025-05-03T19:23:27.341Z"
   },
   {
    "duration": 14,
    "start_time": "2025-05-03T19:23:27.355Z"
   },
   {
    "duration": 43,
    "start_time": "2025-05-03T19:23:27.371Z"
   },
   {
    "duration": 13,
    "start_time": "2025-05-03T19:23:27.418Z"
   },
   {
    "duration": 21,
    "start_time": "2025-05-03T19:23:27.433Z"
   },
   {
    "duration": 13,
    "start_time": "2025-05-03T19:23:27.455Z"
   },
   {
    "duration": 44,
    "start_time": "2025-05-03T19:23:27.470Z"
   },
   {
    "duration": 12,
    "start_time": "2025-05-03T19:23:27.516Z"
   },
   {
    "duration": 7,
    "start_time": "2025-05-03T19:23:27.530Z"
   },
   {
    "duration": 16,
    "start_time": "2025-05-03T19:23:27.539Z"
   },
   {
    "duration": 16,
    "start_time": "2025-05-03T19:23:27.556Z"
   },
   {
    "duration": 37,
    "start_time": "2025-05-03T19:23:27.573Z"
   },
   {
    "duration": 127,
    "start_time": "2025-05-03T19:23:27.612Z"
   },
   {
    "duration": 2,
    "start_time": "2025-05-03T19:23:27.742Z"
   },
   {
    "duration": 3,
    "start_time": "2025-05-03T19:23:27.746Z"
   },
   {
    "duration": 3,
    "start_time": "2025-05-03T19:23:27.750Z"
   },
   {
    "duration": 4,
    "start_time": "2025-05-03T19:23:27.755Z"
   },
   {
    "duration": 3,
    "start_time": "2025-05-03T19:23:27.760Z"
   },
   {
    "duration": 3,
    "start_time": "2025-05-03T19:23:27.765Z"
   },
   {
    "duration": 3,
    "start_time": "2025-05-03T19:23:27.769Z"
   },
   {
    "duration": 3,
    "start_time": "2025-05-03T19:23:27.774Z"
   },
   {
    "duration": 146,
    "start_time": "2025-05-03T19:25:40.651Z"
   },
   {
    "duration": 2545,
    "start_time": "2025-05-03T22:28:01.507Z"
   },
   {
    "duration": 215,
    "start_time": "2025-05-03T22:28:04.054Z"
   },
   {
    "duration": 9,
    "start_time": "2025-05-03T22:28:04.271Z"
   },
   {
    "duration": 6,
    "start_time": "2025-05-03T22:28:04.283Z"
   },
   {
    "duration": 8,
    "start_time": "2025-05-03T22:28:04.291Z"
   },
   {
    "duration": 7,
    "start_time": "2025-05-03T22:28:04.300Z"
   },
   {
    "duration": 27,
    "start_time": "2025-05-03T22:28:04.308Z"
   },
   {
    "duration": 15,
    "start_time": "2025-05-03T22:28:04.336Z"
   },
   {
    "duration": 15,
    "start_time": "2025-05-03T22:28:04.352Z"
   },
   {
    "duration": 7,
    "start_time": "2025-05-03T22:28:04.370Z"
   },
   {
    "duration": 112,
    "start_time": "2025-05-03T22:28:04.378Z"
   },
   {
    "duration": 36,
    "start_time": "2025-05-03T22:28:04.491Z"
   },
   {
    "duration": 13,
    "start_time": "2025-05-03T22:28:04.529Z"
   },
   {
    "duration": 6,
    "start_time": "2025-05-03T22:28:04.544Z"
   },
   {
    "duration": 42,
    "start_time": "2025-05-03T22:28:04.551Z"
   },
   {
    "duration": 42,
    "start_time": "2025-05-03T22:28:04.595Z"
   },
   {
    "duration": 13,
    "start_time": "2025-05-03T22:28:04.639Z"
   },
   {
    "duration": 7,
    "start_time": "2025-05-03T22:28:04.653Z"
   },
   {
    "duration": 91,
    "start_time": "2025-05-03T22:28:04.662Z"
   },
   {
    "duration": 22,
    "start_time": "2025-05-03T22:28:04.754Z"
   },
   {
    "duration": 9,
    "start_time": "2025-05-03T22:28:04.777Z"
   },
   {
    "duration": 36,
    "start_time": "2025-05-03T22:28:04.788Z"
   },
   {
    "duration": 24,
    "start_time": "2025-05-03T22:28:04.826Z"
   },
   {
    "duration": 18,
    "start_time": "2025-05-03T22:28:04.852Z"
   },
   {
    "duration": 11,
    "start_time": "2025-05-03T22:28:04.872Z"
   },
   {
    "duration": 39,
    "start_time": "2025-05-03T22:28:04.885Z"
   },
   {
    "duration": 15,
    "start_time": "2025-05-03T22:28:04.925Z"
   },
   {
    "duration": 13,
    "start_time": "2025-05-03T22:28:04.944Z"
   },
   {
    "duration": 19,
    "start_time": "2025-05-03T22:28:04.959Z"
   },
   {
    "duration": 14,
    "start_time": "2025-05-03T22:28:04.980Z"
   },
   {
    "duration": 16,
    "start_time": "2025-05-03T22:28:05.024Z"
   },
   {
    "duration": 12,
    "start_time": "2025-05-03T22:28:05.042Z"
   },
   {
    "duration": 8,
    "start_time": "2025-05-03T22:28:05.055Z"
   },
   {
    "duration": 15,
    "start_time": "2025-05-03T22:28:05.065Z"
   },
   {
    "duration": 50,
    "start_time": "2025-05-03T22:28:05.082Z"
   },
   {
    "duration": 5,
    "start_time": "2025-05-03T22:28:05.134Z"
   },
   {
    "duration": 126,
    "start_time": "2025-05-03T22:28:05.140Z"
   },
   {
    "duration": 273,
    "start_time": "2025-05-03T22:28:05.269Z"
   },
   {
    "duration": 0,
    "start_time": "2025-05-03T22:28:05.544Z"
   },
   {
    "duration": 0,
    "start_time": "2025-05-03T22:28:05.545Z"
   },
   {
    "duration": 0,
    "start_time": "2025-05-03T22:28:05.546Z"
   },
   {
    "duration": 0,
    "start_time": "2025-05-03T22:28:05.546Z"
   },
   {
    "duration": 0,
    "start_time": "2025-05-03T22:28:05.547Z"
   },
   {
    "duration": 0,
    "start_time": "2025-05-03T22:28:05.548Z"
   },
   {
    "duration": 0,
    "start_time": "2025-05-03T22:28:05.549Z"
   },
   {
    "duration": 3,
    "start_time": "2025-05-03T22:28:42.388Z"
   },
   {
    "duration": 4,
    "start_time": "2025-05-03T22:34:31.099Z"
   },
   {
    "duration": 8,
    "start_time": "2025-05-03T22:38:53.218Z"
   },
   {
    "duration": 358,
    "start_time": "2025-05-03T22:45:15.882Z"
   },
   {
    "duration": 350,
    "start_time": "2025-05-03T22:45:50.682Z"
   },
   {
    "duration": 3,
    "start_time": "2025-05-03T22:54:53.486Z"
   },
   {
    "duration": 351,
    "start_time": "2025-05-03T23:23:39.988Z"
   },
   {
    "duration": 307,
    "start_time": "2025-05-03T23:30:48.090Z"
   },
   {
    "duration": 115,
    "start_time": "2025-05-03T23:39:46.834Z"
   },
   {
    "duration": 5,
    "start_time": "2025-05-03T23:39:58.938Z"
   },
   {
    "duration": 306,
    "start_time": "2025-05-03T23:40:53.735Z"
   },
   {
    "duration": 353,
    "start_time": "2025-05-03T23:41:37.741Z"
   },
   {
    "duration": 295,
    "start_time": "2025-05-03T23:45:36.145Z"
   },
   {
    "duration": 292,
    "start_time": "2025-05-03T23:45:59.986Z"
   },
   {
    "duration": 280,
    "start_time": "2025-05-03T23:46:58.780Z"
   },
   {
    "duration": 277,
    "start_time": "2025-05-04T00:13:43.628Z"
   },
   {
    "duration": 301,
    "start_time": "2025-05-04T00:13:53.830Z"
   },
   {
    "duration": 283,
    "start_time": "2025-05-04T00:14:02.971Z"
   },
   {
    "duration": 286,
    "start_time": "2025-05-04T00:16:13.813Z"
   },
   {
    "duration": 436,
    "start_time": "2025-05-04T00:16:54.176Z"
   },
   {
    "duration": 294,
    "start_time": "2025-05-04T00:18:14.279Z"
   },
   {
    "duration": 288,
    "start_time": "2025-05-04T00:18:32.102Z"
   },
   {
    "duration": 277,
    "start_time": "2025-05-04T00:19:41.619Z"
   },
   {
    "duration": 257,
    "start_time": "2025-05-04T00:20:06.446Z"
   },
   {
    "duration": 8,
    "start_time": "2025-05-04T00:21:31.042Z"
   },
   {
    "duration": 5,
    "start_time": "2025-05-04T00:21:48.781Z"
   },
   {
    "duration": 5,
    "start_time": "2025-05-04T00:22:09.877Z"
   },
   {
    "duration": 288,
    "start_time": "2025-05-04T00:23:53.127Z"
   },
   {
    "duration": 288,
    "start_time": "2025-05-04T00:24:45.607Z"
   },
   {
    "duration": 251,
    "start_time": "2025-05-04T00:30:43.161Z"
   },
   {
    "duration": 3208,
    "start_time": "2025-05-04T00:34:57.596Z"
   },
   {
    "duration": 184,
    "start_time": "2025-05-04T00:35:14.724Z"
   },
   {
    "duration": 2553,
    "start_time": "2025-05-04T02:17:59.436Z"
   },
   {
    "duration": 227,
    "start_time": "2025-05-04T02:18:01.991Z"
   },
   {
    "duration": 11,
    "start_time": "2025-05-04T02:18:02.220Z"
   },
   {
    "duration": 6,
    "start_time": "2025-05-04T02:18:02.233Z"
   },
   {
    "duration": 8,
    "start_time": "2025-05-04T02:18:02.240Z"
   },
   {
    "duration": 5,
    "start_time": "2025-05-04T02:18:02.250Z"
   },
   {
    "duration": 13,
    "start_time": "2025-05-04T02:18:02.257Z"
   },
   {
    "duration": 16,
    "start_time": "2025-05-04T02:18:02.272Z"
   },
   {
    "duration": 50,
    "start_time": "2025-05-04T02:18:02.290Z"
   },
   {
    "duration": 7,
    "start_time": "2025-05-04T02:18:02.343Z"
   },
   {
    "duration": 100,
    "start_time": "2025-05-04T02:18:02.353Z"
   },
   {
    "duration": 25,
    "start_time": "2025-05-04T02:18:02.455Z"
   },
   {
    "duration": 12,
    "start_time": "2025-05-04T02:18:02.482Z"
   },
   {
    "duration": 34,
    "start_time": "2025-05-04T02:18:02.496Z"
   },
   {
    "duration": 42,
    "start_time": "2025-05-04T02:18:02.532Z"
   },
   {
    "duration": 18,
    "start_time": "2025-05-04T02:18:02.575Z"
   },
   {
    "duration": 29,
    "start_time": "2025-05-04T02:18:02.595Z"
   },
   {
    "duration": 6,
    "start_time": "2025-05-04T02:18:02.625Z"
   },
   {
    "duration": 68,
    "start_time": "2025-05-04T02:18:02.633Z"
   },
   {
    "duration": 38,
    "start_time": "2025-05-04T02:18:02.702Z"
   },
   {
    "duration": 9,
    "start_time": "2025-05-04T02:18:02.741Z"
   },
   {
    "duration": 17,
    "start_time": "2025-05-04T02:18:02.752Z"
   },
   {
    "duration": 24,
    "start_time": "2025-05-04T02:18:02.771Z"
   },
   {
    "duration": 18,
    "start_time": "2025-05-04T02:18:02.825Z"
   },
   {
    "duration": 12,
    "start_time": "2025-05-04T02:18:02.845Z"
   },
   {
    "duration": 13,
    "start_time": "2025-05-04T02:18:02.858Z"
   },
   {
    "duration": 14,
    "start_time": "2025-05-04T02:18:02.872Z"
   },
   {
    "duration": 38,
    "start_time": "2025-05-04T02:18:02.890Z"
   },
   {
    "duration": 19,
    "start_time": "2025-05-04T02:18:02.930Z"
   },
   {
    "duration": 14,
    "start_time": "2025-05-04T02:18:02.951Z"
   },
   {
    "duration": 17,
    "start_time": "2025-05-04T02:18:02.967Z"
   },
   {
    "duration": 44,
    "start_time": "2025-05-04T02:18:02.985Z"
   },
   {
    "duration": 8,
    "start_time": "2025-05-04T02:18:03.031Z"
   },
   {
    "duration": 16,
    "start_time": "2025-05-04T02:18:03.041Z"
   },
   {
    "duration": 15,
    "start_time": "2025-05-04T02:18:03.058Z"
   },
   {
    "duration": 3,
    "start_time": "2025-05-04T02:18:03.075Z"
   },
   {
    "duration": 148,
    "start_time": "2025-05-04T02:18:03.080Z"
   },
   {
    "duration": 3,
    "start_time": "2025-05-04T02:18:03.231Z"
   },
   {
    "duration": 265,
    "start_time": "2025-05-04T02:18:03.236Z"
   },
   {
    "duration": 2,
    "start_time": "2025-05-04T02:18:03.503Z"
   },
   {
    "duration": 16,
    "start_time": "2025-05-04T02:18:03.508Z"
   },
   {
    "duration": 2,
    "start_time": "2025-05-04T02:18:03.526Z"
   },
   {
    "duration": 3,
    "start_time": "2025-05-04T02:18:03.530Z"
   },
   {
    "duration": 4,
    "start_time": "2025-05-04T02:18:03.534Z"
   },
   {
    "duration": 3,
    "start_time": "2025-05-04T02:18:03.539Z"
   },
   {
    "duration": 3,
    "start_time": "2025-05-04T02:18:03.544Z"
   },
   {
    "duration": 248,
    "start_time": "2025-05-04T02:18:21.944Z"
   },
   {
    "duration": 6,
    "start_time": "2025-05-04T02:32:50.314Z"
   },
   {
    "duration": 4,
    "start_time": "2025-05-04T02:34:12.338Z"
   },
   {
    "duration": 4,
    "start_time": "2025-05-04T02:34:27.823Z"
   },
   {
    "duration": 275,
    "start_time": "2025-05-04T02:34:39.713Z"
   },
   {
    "duration": 14,
    "start_time": "2025-05-04T02:34:49.176Z"
   },
   {
    "duration": 14,
    "start_time": "2025-05-04T02:35:19.971Z"
   },
   {
    "duration": 5,
    "start_time": "2025-05-04T02:35:29.157Z"
   },
   {
    "duration": 261,
    "start_time": "2025-05-04T02:39:37.126Z"
   },
   {
    "duration": 275,
    "start_time": "2025-05-04T02:39:53.619Z"
   },
   {
    "duration": 294,
    "start_time": "2025-05-04T02:40:00.005Z"
   },
   {
    "duration": 291,
    "start_time": "2025-05-04T02:40:09.484Z"
   },
   {
    "duration": 390,
    "start_time": "2025-05-04T02:52:10.718Z"
   },
   {
    "duration": 372,
    "start_time": "2025-05-04T02:56:02.984Z"
   },
   {
    "duration": 2636,
    "start_time": "2025-05-04T04:09:58.050Z"
   },
   {
    "duration": 222,
    "start_time": "2025-05-04T04:10:00.688Z"
   },
   {
    "duration": 9,
    "start_time": "2025-05-04T04:10:00.911Z"
   },
   {
    "duration": 6,
    "start_time": "2025-05-04T04:10:00.923Z"
   },
   {
    "duration": 8,
    "start_time": "2025-05-04T04:10:00.931Z"
   },
   {
    "duration": 6,
    "start_time": "2025-05-04T04:10:00.940Z"
   },
   {
    "duration": 13,
    "start_time": "2025-05-04T04:10:00.948Z"
   },
   {
    "duration": 15,
    "start_time": "2025-05-04T04:10:00.962Z"
   },
   {
    "duration": 14,
    "start_time": "2025-05-04T04:10:00.979Z"
   },
   {
    "duration": 6,
    "start_time": "2025-05-04T04:10:00.998Z"
   },
   {
    "duration": 116,
    "start_time": "2025-05-04T04:10:01.006Z"
   },
   {
    "duration": 36,
    "start_time": "2025-05-04T04:10:01.124Z"
   },
   {
    "duration": 12,
    "start_time": "2025-05-04T04:10:01.161Z"
   },
   {
    "duration": 5,
    "start_time": "2025-05-04T04:10:01.175Z"
   },
   {
    "duration": 62,
    "start_time": "2025-05-04T04:10:01.182Z"
   },
   {
    "duration": 18,
    "start_time": "2025-05-04T04:10:01.246Z"
   },
   {
    "duration": 13,
    "start_time": "2025-05-04T04:10:01.265Z"
   },
   {
    "duration": 7,
    "start_time": "2025-05-04T04:10:01.279Z"
   },
   {
    "duration": 89,
    "start_time": "2025-05-04T04:10:01.287Z"
   },
   {
    "duration": 22,
    "start_time": "2025-05-04T04:10:01.378Z"
   },
   {
    "duration": 9,
    "start_time": "2025-05-04T04:10:01.402Z"
   },
   {
    "duration": 35,
    "start_time": "2025-05-04T04:10:01.413Z"
   },
   {
    "duration": 22,
    "start_time": "2025-05-04T04:10:01.449Z"
   },
   {
    "duration": 18,
    "start_time": "2025-05-04T04:10:01.473Z"
   },
   {
    "duration": 12,
    "start_time": "2025-05-04T04:10:01.492Z"
   },
   {
    "duration": 42,
    "start_time": "2025-05-04T04:10:01.506Z"
   },
   {
    "duration": 15,
    "start_time": "2025-05-04T04:10:01.549Z"
   },
   {
    "duration": 13,
    "start_time": "2025-05-04T04:10:01.568Z"
   },
   {
    "duration": 20,
    "start_time": "2025-05-04T04:10:01.583Z"
   },
   {
    "duration": 39,
    "start_time": "2025-05-04T04:10:01.604Z"
   },
   {
    "duration": 19,
    "start_time": "2025-05-04T04:10:01.644Z"
   },
   {
    "duration": 14,
    "start_time": "2025-05-04T04:10:01.664Z"
   },
   {
    "duration": 8,
    "start_time": "2025-05-04T04:10:01.680Z"
   },
   {
    "duration": 16,
    "start_time": "2025-05-04T04:10:01.689Z"
   },
   {
    "duration": 47,
    "start_time": "2025-05-04T04:10:01.706Z"
   },
   {
    "duration": 4,
    "start_time": "2025-05-04T04:10:01.755Z"
   },
   {
    "duration": 163,
    "start_time": "2025-05-04T04:10:01.760Z"
   },
   {
    "duration": 4,
    "start_time": "2025-05-04T04:10:01.924Z"
   },
   {
    "duration": 282,
    "start_time": "2025-05-04T04:10:01.942Z"
   },
   {
    "duration": 4,
    "start_time": "2025-05-04T04:10:02.226Z"
   },
   {
    "duration": 315,
    "start_time": "2025-05-04T04:10:02.232Z"
   },
   {
    "duration": 2,
    "start_time": "2025-05-04T04:10:02.549Z"
   },
   {
    "duration": 3,
    "start_time": "2025-05-04T04:10:02.553Z"
   },
   {
    "duration": 3,
    "start_time": "2025-05-04T04:10:02.558Z"
   },
   {
    "duration": 3,
    "start_time": "2025-05-04T04:10:02.563Z"
   },
   {
    "duration": 3,
    "start_time": "2025-05-04T04:10:02.567Z"
   },
   {
    "duration": 4,
    "start_time": "2025-05-04T04:10:02.571Z"
   },
   {
    "duration": 304,
    "start_time": "2025-05-04T04:10:23.671Z"
   },
   {
    "duration": 4,
    "start_time": "2025-05-04T04:24:07.866Z"
   },
   {
    "duration": 3,
    "start_time": "2025-05-04T04:25:18.184Z"
   },
   {
    "duration": 2519,
    "start_time": "2025-05-05T04:27:32.318Z"
   },
   {
    "duration": 223,
    "start_time": "2025-05-05T04:27:34.839Z"
   },
   {
    "duration": 9,
    "start_time": "2025-05-05T04:27:35.064Z"
   },
   {
    "duration": 7,
    "start_time": "2025-05-05T04:27:35.076Z"
   },
   {
    "duration": 9,
    "start_time": "2025-05-05T04:27:35.084Z"
   },
   {
    "duration": 18,
    "start_time": "2025-05-05T04:27:35.094Z"
   },
   {
    "duration": 12,
    "start_time": "2025-05-05T04:27:35.114Z"
   },
   {
    "duration": 16,
    "start_time": "2025-05-05T04:27:35.128Z"
   },
   {
    "duration": 15,
    "start_time": "2025-05-05T04:27:35.145Z"
   },
   {
    "duration": 7,
    "start_time": "2025-05-05T04:27:35.164Z"
   },
   {
    "duration": 120,
    "start_time": "2025-05-05T04:27:35.172Z"
   },
   {
    "duration": 35,
    "start_time": "2025-05-05T04:27:35.294Z"
   },
   {
    "duration": 12,
    "start_time": "2025-05-05T04:27:35.330Z"
   },
   {
    "duration": 5,
    "start_time": "2025-05-05T04:27:35.344Z"
   },
   {
    "duration": 63,
    "start_time": "2025-05-05T04:27:35.351Z"
   },
   {
    "duration": 18,
    "start_time": "2025-05-05T04:27:35.415Z"
   },
   {
    "duration": 13,
    "start_time": "2025-05-05T04:27:35.435Z"
   },
   {
    "duration": 7,
    "start_time": "2025-05-05T04:27:35.450Z"
   },
   {
    "duration": 89,
    "start_time": "2025-05-05T04:27:35.458Z"
   },
   {
    "duration": 21,
    "start_time": "2025-05-05T04:27:35.549Z"
   },
   {
    "duration": 9,
    "start_time": "2025-05-05T04:27:35.572Z"
   },
   {
    "duration": 36,
    "start_time": "2025-05-05T04:27:35.582Z"
   },
   {
    "duration": 22,
    "start_time": "2025-05-05T04:27:35.619Z"
   },
   {
    "duration": 22,
    "start_time": "2025-05-05T04:27:35.643Z"
   },
   {
    "duration": 12,
    "start_time": "2025-05-05T04:27:35.667Z"
   },
   {
    "duration": 34,
    "start_time": "2025-05-05T04:27:35.681Z"
   },
   {
    "duration": 13,
    "start_time": "2025-05-05T04:27:35.716Z"
   },
   {
    "duration": 12,
    "start_time": "2025-05-05T04:27:35.734Z"
   },
   {
    "duration": 21,
    "start_time": "2025-05-05T04:27:35.747Z"
   },
   {
    "duration": 12,
    "start_time": "2025-05-05T04:27:35.771Z"
   },
   {
    "duration": 16,
    "start_time": "2025-05-05T04:27:35.812Z"
   },
   {
    "duration": 12,
    "start_time": "2025-05-05T04:27:35.829Z"
   },
   {
    "duration": 8,
    "start_time": "2025-05-05T04:27:35.843Z"
   },
   {
    "duration": 15,
    "start_time": "2025-05-05T04:27:35.853Z"
   },
   {
    "duration": 48,
    "start_time": "2025-05-05T04:27:35.869Z"
   },
   {
    "duration": 3,
    "start_time": "2025-05-05T04:27:35.919Z"
   },
   {
    "duration": 122,
    "start_time": "2025-05-05T04:27:35.923Z"
   },
   {
    "duration": 3,
    "start_time": "2025-05-05T04:27:36.047Z"
   },
   {
    "duration": 348,
    "start_time": "2025-05-05T04:27:36.052Z"
   },
   {
    "duration": 12,
    "start_time": "2025-05-05T04:27:36.402Z"
   },
   {
    "duration": 308,
    "start_time": "2025-05-05T04:27:36.416Z"
   },
   {
    "duration": 2,
    "start_time": "2025-05-05T04:27:36.726Z"
   },
   {
    "duration": 4,
    "start_time": "2025-05-05T04:27:36.730Z"
   },
   {
    "duration": 4,
    "start_time": "2025-05-05T04:27:36.735Z"
   },
   {
    "duration": 3,
    "start_time": "2025-05-05T04:27:36.741Z"
   },
   {
    "duration": 3,
    "start_time": "2025-05-05T04:27:36.745Z"
   },
   {
    "duration": 3,
    "start_time": "2025-05-05T04:27:36.750Z"
   },
   {
    "duration": 4,
    "start_time": "2025-05-05T04:27:36.754Z"
   },
   {
    "duration": 4,
    "start_time": "2025-05-05T04:27:57.247Z"
   },
   {
    "duration": 81,
    "start_time": "2025-05-05T04:32:17.676Z"
   },
   {
    "duration": 97,
    "start_time": "2025-05-05T04:35:06.037Z"
   },
   {
    "duration": 79,
    "start_time": "2025-05-05T04:35:20.659Z"
   },
   {
    "duration": 80,
    "start_time": "2025-05-05T04:35:43.498Z"
   },
   {
    "duration": 76,
    "start_time": "2025-05-05T04:35:55.075Z"
   },
   {
    "duration": 6,
    "start_time": "2025-05-05T04:49:39.932Z"
   },
   {
    "duration": 4,
    "start_time": "2025-05-05T04:50:37.712Z"
   },
   {
    "duration": 4,
    "start_time": "2025-05-05T04:50:41.907Z"
   },
   {
    "duration": 4,
    "start_time": "2025-05-05T04:52:14.061Z"
   },
   {
    "duration": 5,
    "start_time": "2025-05-05T04:52:51.499Z"
   },
   {
    "duration": 4,
    "start_time": "2025-05-05T04:53:30.935Z"
   },
   {
    "duration": 556,
    "start_time": "2025-05-05T07:22:39.666Z"
   },
   {
    "duration": 125,
    "start_time": "2025-05-05T07:23:24.914Z"
   },
   {
    "duration": 76,
    "start_time": "2025-05-05T07:24:35.977Z"
   },
   {
    "duration": 80,
    "start_time": "2025-05-05T07:24:45.930Z"
   },
   {
    "duration": 70,
    "start_time": "2025-05-05T07:48:01.041Z"
   },
   {
    "duration": 81,
    "start_time": "2025-05-05T08:38:28.666Z"
   },
   {
    "duration": 173,
    "start_time": "2025-05-05T08:43:28.568Z"
   },
   {
    "duration": 116,
    "start_time": "2025-05-05T08:44:07.455Z"
   },
   {
    "duration": 97,
    "start_time": "2025-05-05T08:44:19.290Z"
   },
   {
    "duration": 94,
    "start_time": "2025-05-05T08:44:25.326Z"
   },
   {
    "duration": 134,
    "start_time": "2025-05-05T08:51:23.657Z"
   },
   {
    "duration": 515,
    "start_time": "2025-05-05T08:51:56.797Z"
   },
   {
    "duration": 96,
    "start_time": "2025-05-05T08:52:06.393Z"
   },
   {
    "duration": 236,
    "start_time": "2025-05-05T09:36:57.047Z"
   },
   {
    "duration": 289,
    "start_time": "2025-05-05T09:41:49.200Z"
   },
   {
    "duration": 252,
    "start_time": "2025-05-05T09:43:57.847Z"
   },
   {
    "duration": 19,
    "start_time": "2025-05-05T09:46:40.969Z"
   },
   {
    "duration": 5,
    "start_time": "2025-05-05T09:46:54.936Z"
   },
   {
    "duration": 296,
    "start_time": "2025-05-05T09:46:56.937Z"
   },
   {
    "duration": 92,
    "start_time": "2025-05-05T09:49:15.470Z"
   },
   {
    "duration": 2562,
    "start_time": "2025-05-05T20:28:51.829Z"
   },
   {
    "duration": 206,
    "start_time": "2025-05-05T20:28:54.393Z"
   },
   {
    "duration": 10,
    "start_time": "2025-05-05T20:28:54.601Z"
   },
   {
    "duration": 7,
    "start_time": "2025-05-05T20:28:54.613Z"
   },
   {
    "duration": 8,
    "start_time": "2025-05-05T20:28:54.621Z"
   },
   {
    "duration": 5,
    "start_time": "2025-05-05T20:28:54.631Z"
   },
   {
    "duration": 38,
    "start_time": "2025-05-05T20:28:54.638Z"
   },
   {
    "duration": 16,
    "start_time": "2025-05-05T20:28:54.679Z"
   },
   {
    "duration": 15,
    "start_time": "2025-05-05T20:28:54.698Z"
   },
   {
    "duration": 8,
    "start_time": "2025-05-05T20:28:54.716Z"
   },
   {
    "duration": 108,
    "start_time": "2025-05-05T20:28:54.726Z"
   },
   {
    "duration": 35,
    "start_time": "2025-05-05T20:28:54.835Z"
   },
   {
    "duration": 11,
    "start_time": "2025-05-05T20:28:54.872Z"
   },
   {
    "duration": 6,
    "start_time": "2025-05-05T20:28:54.885Z"
   },
   {
    "duration": 43,
    "start_time": "2025-05-05T20:28:54.892Z"
   },
   {
    "duration": 42,
    "start_time": "2025-05-05T20:28:54.936Z"
   },
   {
    "duration": 13,
    "start_time": "2025-05-05T20:28:54.980Z"
   },
   {
    "duration": 6,
    "start_time": "2025-05-05T20:28:54.995Z"
   },
   {
    "duration": 83,
    "start_time": "2025-05-05T20:28:55.003Z"
   },
   {
    "duration": 23,
    "start_time": "2025-05-05T20:28:55.088Z"
   },
   {
    "duration": 9,
    "start_time": "2025-05-05T20:28:55.112Z"
   },
   {
    "duration": 16,
    "start_time": "2025-05-05T20:28:55.123Z"
   },
   {
    "duration": 46,
    "start_time": "2025-05-05T20:28:55.140Z"
   },
   {
    "duration": 18,
    "start_time": "2025-05-05T20:28:55.188Z"
   },
   {
    "duration": 13,
    "start_time": "2025-05-05T20:28:55.207Z"
   },
   {
    "duration": 12,
    "start_time": "2025-05-05T20:28:55.222Z"
   },
   {
    "duration": 44,
    "start_time": "2025-05-05T20:28:55.236Z"
   },
   {
    "duration": 13,
    "start_time": "2025-05-05T20:28:55.285Z"
   },
   {
    "duration": 19,
    "start_time": "2025-05-05T20:28:55.301Z"
   },
   {
    "duration": 13,
    "start_time": "2025-05-05T20:28:55.322Z"
   },
   {
    "duration": 43,
    "start_time": "2025-05-05T20:28:55.337Z"
   },
   {
    "duration": 12,
    "start_time": "2025-05-05T20:28:55.382Z"
   },
   {
    "duration": 8,
    "start_time": "2025-05-05T20:28:55.395Z"
   },
   {
    "duration": 17,
    "start_time": "2025-05-05T20:28:55.405Z"
   },
   {
    "duration": 15,
    "start_time": "2025-05-05T20:28:55.423Z"
   },
   {
    "duration": 32,
    "start_time": "2025-05-05T20:28:55.439Z"
   },
   {
    "duration": 124,
    "start_time": "2025-05-05T20:28:55.473Z"
   },
   {
    "duration": 3,
    "start_time": "2025-05-05T20:28:55.600Z"
   },
   {
    "duration": 332,
    "start_time": "2025-05-05T20:28:55.605Z"
   },
   {
    "duration": 5,
    "start_time": "2025-05-05T20:28:55.939Z"
   },
   {
    "duration": 364,
    "start_time": "2025-05-05T20:28:55.945Z"
   },
   {
    "duration": 4,
    "start_time": "2025-05-05T20:28:56.310Z"
   },
   {
    "duration": 4,
    "start_time": "2025-05-05T20:28:56.315Z"
   },
   {
    "duration": 4,
    "start_time": "2025-05-05T20:28:56.321Z"
   },
   {
    "duration": 103,
    "start_time": "2025-05-05T20:28:56.327Z"
   },
   {
    "duration": 109,
    "start_time": "2025-05-05T20:28:56.432Z"
   },
   {
    "duration": 308,
    "start_time": "2025-05-05T20:28:56.543Z"
   },
   {
    "duration": 5,
    "start_time": "2025-05-05T20:28:56.853Z"
   },
   {
    "duration": 312,
    "start_time": "2025-05-05T20:28:56.860Z"
   },
   {
    "duration": 106,
    "start_time": "2025-05-05T20:28:57.174Z"
   },
   {
    "duration": 278,
    "start_time": "2025-05-05T20:28:57.282Z"
   },
   {
    "duration": 8,
    "start_time": "2025-05-05T20:28:57.562Z"
   },
   {
    "duration": 3,
    "start_time": "2025-05-05T20:28:57.572Z"
   },
   {
    "duration": 503,
    "start_time": "2025-05-05T20:34:05.408Z"
   },
   {
    "duration": 285,
    "start_time": "2025-05-05T20:34:29.271Z"
   },
   {
    "duration": 292,
    "start_time": "2025-05-05T21:45:55.258Z"
   },
   {
    "duration": 6,
    "start_time": "2025-05-05T21:48:55.338Z"
   },
   {
    "duration": 320,
    "start_time": "2025-05-05T21:48:57.931Z"
   },
   {
    "duration": 98,
    "start_time": "2025-05-05T21:49:22.712Z"
   },
   {
    "duration": 197,
    "start_time": "2025-05-06T03:03:35.443Z"
   },
   {
    "duration": 12,
    "start_time": "2025-05-06T03:03:46.836Z"
   },
   {
    "duration": 2610,
    "start_time": "2025-05-06T03:04:01.923Z"
   },
   {
    "duration": 243,
    "start_time": "2025-05-06T03:04:04.535Z"
   },
   {
    "duration": 12,
    "start_time": "2025-05-06T03:04:04.780Z"
   },
   {
    "duration": 6,
    "start_time": "2025-05-06T03:04:04.794Z"
   },
   {
    "duration": 27,
    "start_time": "2025-05-06T03:04:04.804Z"
   },
   {
    "duration": 5,
    "start_time": "2025-05-06T03:04:04.840Z"
   },
   {
    "duration": 13,
    "start_time": "2025-05-06T03:04:04.847Z"
   },
   {
    "duration": 16,
    "start_time": "2025-05-06T03:04:04.861Z"
   },
   {
    "duration": 16,
    "start_time": "2025-05-06T03:04:04.878Z"
   },
   {
    "duration": 7,
    "start_time": "2025-05-06T03:04:04.895Z"
   },
   {
    "duration": 129,
    "start_time": "2025-05-06T03:04:04.903Z"
   },
   {
    "duration": 34,
    "start_time": "2025-05-06T03:04:05.034Z"
   },
   {
    "duration": 16,
    "start_time": "2025-05-06T03:04:05.070Z"
   },
   {
    "duration": 6,
    "start_time": "2025-05-06T03:04:05.091Z"
   },
   {
    "duration": 64,
    "start_time": "2025-05-06T03:04:05.099Z"
   },
   {
    "duration": 18,
    "start_time": "2025-05-06T03:04:05.165Z"
   },
   {
    "duration": 35,
    "start_time": "2025-05-06T03:04:05.184Z"
   },
   {
    "duration": 11,
    "start_time": "2025-05-06T03:04:05.231Z"
   },
   {
    "duration": 83,
    "start_time": "2025-05-06T03:04:05.244Z"
   },
   {
    "duration": 24,
    "start_time": "2025-05-06T03:04:05.332Z"
   },
   {
    "duration": 9,
    "start_time": "2025-05-06T03:04:05.358Z"
   },
   {
    "duration": 15,
    "start_time": "2025-05-06T03:04:05.369Z"
   },
   {
    "duration": 22,
    "start_time": "2025-05-06T03:04:05.385Z"
   },
   {
    "duration": 26,
    "start_time": "2025-05-06T03:04:05.419Z"
   },
   {
    "duration": 12,
    "start_time": "2025-05-06T03:04:05.447Z"
   },
   {
    "duration": 12,
    "start_time": "2025-05-06T03:04:05.461Z"
   },
   {
    "duration": 13,
    "start_time": "2025-05-06T03:04:05.474Z"
   },
   {
    "duration": 43,
    "start_time": "2025-05-06T03:04:05.489Z"
   },
   {
    "duration": 19,
    "start_time": "2025-05-06T03:04:05.534Z"
   },
   {
    "duration": 13,
    "start_time": "2025-05-06T03:04:05.555Z"
   },
   {
    "duration": 17,
    "start_time": "2025-05-06T03:04:05.569Z"
   },
   {
    "duration": 11,
    "start_time": "2025-05-06T03:04:05.588Z"
   },
   {
    "duration": 38,
    "start_time": "2025-05-06T03:04:05.601Z"
   },
   {
    "duration": 17,
    "start_time": "2025-05-06T03:04:05.640Z"
   },
   {
    "duration": 15,
    "start_time": "2025-05-06T03:04:05.658Z"
   },
   {
    "duration": 3,
    "start_time": "2025-05-06T03:04:05.674Z"
   },
   {
    "duration": 132,
    "start_time": "2025-05-06T03:04:05.679Z"
   },
   {
    "duration": 6,
    "start_time": "2025-05-06T03:04:05.812Z"
   },
   {
    "duration": 299,
    "start_time": "2025-05-06T03:04:05.820Z"
   },
   {
    "duration": 5,
    "start_time": "2025-05-06T03:04:06.124Z"
   },
   {
    "duration": 358,
    "start_time": "2025-05-06T03:04:06.141Z"
   },
   {
    "duration": 27,
    "start_time": "2025-05-06T03:04:06.500Z"
   },
   {
    "duration": 4,
    "start_time": "2025-05-06T03:04:06.539Z"
   },
   {
    "duration": 4,
    "start_time": "2025-05-06T03:04:06.544Z"
   },
   {
    "duration": 89,
    "start_time": "2025-05-06T03:04:06.550Z"
   },
   {
    "duration": 107,
    "start_time": "2025-05-06T03:04:06.640Z"
   },
   {
    "duration": 252,
    "start_time": "2025-05-06T03:04:06.748Z"
   },
   {
    "duration": 5,
    "start_time": "2025-05-06T03:04:07.001Z"
   },
   {
    "duration": 323,
    "start_time": "2025-05-06T03:04:07.008Z"
   },
   {
    "duration": 123,
    "start_time": "2025-05-06T03:04:07.332Z"
   },
   {
    "duration": 270,
    "start_time": "2025-05-06T03:04:07.457Z"
   },
   {
    "duration": 16,
    "start_time": "2025-05-06T03:04:07.728Z"
   },
   {
    "duration": 298,
    "start_time": "2025-05-06T03:04:07.745Z"
   },
   {
    "duration": 196,
    "start_time": "2025-05-06T03:04:08.044Z"
   },
   {
    "duration": 10,
    "start_time": "2025-05-06T03:04:08.242Z"
   },
   {
    "duration": 283,
    "start_time": "2025-05-06T03:04:08.253Z"
   },
   {
    "duration": 6,
    "start_time": "2025-05-06T03:04:08.538Z"
   },
   {
    "duration": 4,
    "start_time": "2025-05-06T03:04:08.545Z"
   },
   {
    "duration": 297,
    "start_time": "2025-05-06T03:25:24.498Z"
   },
   {
    "duration": 15,
    "start_time": "2025-05-06T03:26:31.020Z"
   },
   {
    "duration": 9,
    "start_time": "2025-05-06T03:26:48.332Z"
   },
   {
    "duration": 14,
    "start_time": "2025-05-06T03:31:00.981Z"
   },
   {
    "duration": 10,
    "start_time": "2025-05-06T03:34:45.898Z"
   },
   {
    "duration": 2,
    "start_time": "2025-05-06T03:45:08.301Z"
   },
   {
    "duration": 2,
    "start_time": "2025-05-06T03:45:11.050Z"
   },
   {
    "duration": 2,
    "start_time": "2025-05-06T03:45:15.080Z"
   },
   {
    "duration": 284,
    "start_time": "2025-05-06T03:47:11.288Z"
   },
   {
    "duration": 6,
    "start_time": "2025-05-06T03:48:02.686Z"
   },
   {
    "duration": 311,
    "start_time": "2025-05-06T03:48:56.082Z"
   },
   {
    "duration": 5,
    "start_time": "2025-05-06T03:49:55.183Z"
   },
   {
    "duration": 297,
    "start_time": "2025-05-06T03:49:57.107Z"
   },
   {
    "duration": 4,
    "start_time": "2025-05-06T03:50:30.988Z"
   },
   {
    "duration": 5,
    "start_time": "2025-05-06T03:51:14.067Z"
   },
   {
    "duration": 91,
    "start_time": "2025-05-06T03:52:32.734Z"
   },
   {
    "duration": 2,
    "start_time": "2025-05-06T04:34:36.768Z"
   },
   {
    "duration": 2483,
    "start_time": "2025-05-07T01:32:05.635Z"
   },
   {
    "duration": 243,
    "start_time": "2025-05-07T01:32:08.123Z"
   },
   {
    "duration": 9,
    "start_time": "2025-05-07T01:32:08.368Z"
   },
   {
    "duration": 6,
    "start_time": "2025-05-07T01:32:08.379Z"
   },
   {
    "duration": 8,
    "start_time": "2025-05-07T01:32:08.387Z"
   },
   {
    "duration": 6,
    "start_time": "2025-05-07T01:32:08.397Z"
   },
   {
    "duration": 13,
    "start_time": "2025-05-07T01:32:08.405Z"
   },
   {
    "duration": 16,
    "start_time": "2025-05-07T01:32:08.419Z"
   },
   {
    "duration": 15,
    "start_time": "2025-05-07T01:32:08.436Z"
   },
   {
    "duration": 41,
    "start_time": "2025-05-07T01:32:08.452Z"
   },
   {
    "duration": 103,
    "start_time": "2025-05-07T01:32:08.494Z"
   },
   {
    "duration": 27,
    "start_time": "2025-05-07T01:32:08.598Z"
   },
   {
    "duration": 13,
    "start_time": "2025-05-07T01:32:08.626Z"
   },
   {
    "duration": 6,
    "start_time": "2025-05-07T01:32:08.643Z"
   },
   {
    "duration": 67,
    "start_time": "2025-05-07T01:32:08.650Z"
   },
   {
    "duration": 17,
    "start_time": "2025-05-07T01:32:08.719Z"
   },
   {
    "duration": 13,
    "start_time": "2025-05-07T01:32:08.738Z"
   },
   {
    "duration": 6,
    "start_time": "2025-05-07T01:32:08.752Z"
   },
   {
    "duration": 96,
    "start_time": "2025-05-07T01:32:08.760Z"
   },
   {
    "duration": 31,
    "start_time": "2025-05-07T01:32:08.858Z"
   },
   {
    "duration": 10,
    "start_time": "2025-05-07T01:32:08.891Z"
   },
   {
    "duration": 16,
    "start_time": "2025-05-07T01:32:08.903Z"
   },
   {
    "duration": 21,
    "start_time": "2025-05-07T01:32:08.920Z"
   },
   {
    "duration": 46,
    "start_time": "2025-05-07T01:32:08.943Z"
   },
   {
    "duration": 12,
    "start_time": "2025-05-07T01:32:08.994Z"
   },
   {
    "duration": 12,
    "start_time": "2025-05-07T01:32:09.008Z"
   },
   {
    "duration": 14,
    "start_time": "2025-05-07T01:32:09.022Z"
   },
   {
    "duration": 12,
    "start_time": "2025-05-07T01:32:09.037Z"
   },
   {
    "duration": 44,
    "start_time": "2025-05-07T01:32:09.051Z"
   },
   {
    "duration": 13,
    "start_time": "2025-05-07T01:32:09.096Z"
   },
   {
    "duration": 16,
    "start_time": "2025-05-07T01:32:09.111Z"
   },
   {
    "duration": 13,
    "start_time": "2025-05-07T01:32:09.128Z"
   },
   {
    "duration": 8,
    "start_time": "2025-05-07T01:32:09.142Z"
   },
   {
    "duration": 48,
    "start_time": "2025-05-07T01:32:09.152Z"
   },
   {
    "duration": 15,
    "start_time": "2025-05-07T01:32:09.202Z"
   },
   {
    "duration": 3,
    "start_time": "2025-05-07T01:32:09.218Z"
   },
   {
    "duration": 132,
    "start_time": "2025-05-07T01:32:09.223Z"
   },
   {
    "duration": 4,
    "start_time": "2025-05-07T01:32:09.357Z"
   },
   {
    "duration": 311,
    "start_time": "2025-05-07T01:32:09.363Z"
   },
   {
    "duration": 14,
    "start_time": "2025-05-07T01:32:09.676Z"
   },
   {
    "duration": 394,
    "start_time": "2025-05-07T01:32:09.695Z"
   },
   {
    "duration": 4,
    "start_time": "2025-05-07T01:32:10.090Z"
   },
   {
    "duration": 4,
    "start_time": "2025-05-07T01:32:10.096Z"
   },
   {
    "duration": 4,
    "start_time": "2025-05-07T01:32:10.102Z"
   },
   {
    "duration": 105,
    "start_time": "2025-05-07T01:32:10.107Z"
   },
   {
    "duration": 111,
    "start_time": "2025-05-07T01:32:10.213Z"
   },
   {
    "duration": 282,
    "start_time": "2025-05-07T01:32:10.326Z"
   },
   {
    "duration": 5,
    "start_time": "2025-05-07T01:32:10.610Z"
   },
   {
    "duration": 323,
    "start_time": "2025-05-07T01:32:10.617Z"
   },
   {
    "duration": 112,
    "start_time": "2025-05-07T01:32:10.942Z"
   },
   {
    "duration": 301,
    "start_time": "2025-05-07T01:32:11.056Z"
   },
   {
    "duration": 5,
    "start_time": "2025-05-07T01:32:11.359Z"
   },
   {
    "duration": 306,
    "start_time": "2025-05-07T01:32:11.366Z"
   },
   {
    "duration": 177,
    "start_time": "2025-05-07T01:32:11.674Z"
   },
   {
    "duration": 304,
    "start_time": "2025-05-07T01:32:11.854Z"
   },
   {
    "duration": 6,
    "start_time": "2025-05-07T01:32:12.159Z"
   },
   {
    "duration": 6,
    "start_time": "2025-05-07T01:32:12.166Z"
   },
   {
    "duration": 306,
    "start_time": "2025-05-07T01:32:12.173Z"
   },
   {
    "duration": 90,
    "start_time": "2025-05-07T01:32:12.487Z"
   },
   {
    "duration": 10,
    "start_time": "2025-05-07T01:32:12.578Z"
   },
   {
    "duration": 4,
    "start_time": "2025-05-07T01:32:12.589Z"
   },
   {
    "duration": 2586,
    "start_time": "2025-05-07T22:07:41.651Z"
   },
   {
    "duration": 206,
    "start_time": "2025-05-07T22:07:44.239Z"
   },
   {
    "duration": 10,
    "start_time": "2025-05-07T22:07:44.447Z"
   },
   {
    "duration": 6,
    "start_time": "2025-05-07T22:07:44.460Z"
   },
   {
    "duration": 9,
    "start_time": "2025-05-07T22:07:44.468Z"
   },
   {
    "duration": 6,
    "start_time": "2025-05-07T22:07:44.479Z"
   },
   {
    "duration": 35,
    "start_time": "2025-05-07T22:07:44.486Z"
   },
   {
    "duration": 18,
    "start_time": "2025-05-07T22:07:44.523Z"
   },
   {
    "duration": 16,
    "start_time": "2025-05-07T22:07:44.543Z"
   },
   {
    "duration": 6,
    "start_time": "2025-05-07T22:07:44.562Z"
   },
   {
    "duration": 115,
    "start_time": "2025-05-07T22:07:44.570Z"
   },
   {
    "duration": 40,
    "start_time": "2025-05-07T22:07:44.687Z"
   },
   {
    "duration": 14,
    "start_time": "2025-05-07T22:07:44.729Z"
   },
   {
    "duration": 6,
    "start_time": "2025-05-07T22:07:44.745Z"
   },
   {
    "duration": 63,
    "start_time": "2025-05-07T22:07:44.752Z"
   },
   {
    "duration": 17,
    "start_time": "2025-05-07T22:07:44.817Z"
   },
   {
    "duration": 14,
    "start_time": "2025-05-07T22:07:44.836Z"
   },
   {
    "duration": 7,
    "start_time": "2025-05-07T22:07:44.851Z"
   },
   {
    "duration": 91,
    "start_time": "2025-05-07T22:07:44.860Z"
   },
   {
    "duration": 21,
    "start_time": "2025-05-07T22:07:44.953Z"
   },
   {
    "duration": 9,
    "start_time": "2025-05-07T22:07:44.976Z"
   },
   {
    "duration": 47,
    "start_time": "2025-05-07T22:07:44.986Z"
   },
   {
    "duration": 27,
    "start_time": "2025-05-07T22:07:45.035Z"
   },
   {
    "duration": 19,
    "start_time": "2025-05-07T22:07:45.064Z"
   },
   {
    "duration": 33,
    "start_time": "2025-05-07T22:07:45.084Z"
   },
   {
    "duration": 13,
    "start_time": "2025-05-07T22:07:45.119Z"
   },
   {
    "duration": 16,
    "start_time": "2025-05-07T22:07:45.133Z"
   },
   {
    "duration": 13,
    "start_time": "2025-05-07T22:07:45.154Z"
   },
   {
    "duration": 48,
    "start_time": "2025-05-07T22:07:45.168Z"
   },
   {
    "duration": 13,
    "start_time": "2025-05-07T22:07:45.218Z"
   },
   {
    "duration": 16,
    "start_time": "2025-05-07T22:07:45.233Z"
   },
   {
    "duration": 11,
    "start_time": "2025-05-07T22:07:45.251Z"
   },
   {
    "duration": 9,
    "start_time": "2025-05-07T22:07:45.263Z"
   },
   {
    "duration": 45,
    "start_time": "2025-05-07T22:07:45.273Z"
   },
   {
    "duration": 15,
    "start_time": "2025-05-07T22:07:45.319Z"
   },
   {
    "duration": 4,
    "start_time": "2025-05-07T22:07:45.335Z"
   },
   {
    "duration": 131,
    "start_time": "2025-05-07T22:07:45.341Z"
   },
   {
    "duration": 3,
    "start_time": "2025-05-07T22:07:45.474Z"
   },
   {
    "duration": 348,
    "start_time": "2025-05-07T22:07:45.479Z"
   },
   {
    "duration": 5,
    "start_time": "2025-05-07T22:07:45.829Z"
   },
   {
    "duration": 351,
    "start_time": "2025-05-07T22:07:45.835Z"
   },
   {
    "duration": 4,
    "start_time": "2025-05-07T22:07:46.187Z"
   },
   {
    "duration": 3,
    "start_time": "2025-05-07T22:07:46.193Z"
   },
   {
    "duration": 4,
    "start_time": "2025-05-07T22:07:46.212Z"
   },
   {
    "duration": 78,
    "start_time": "2025-05-07T22:07:46.217Z"
   },
   {
    "duration": 106,
    "start_time": "2025-05-07T22:07:46.313Z"
   },
   {
    "duration": 270,
    "start_time": "2025-05-07T22:07:46.421Z"
   },
   {
    "duration": 17,
    "start_time": "2025-05-07T22:07:46.694Z"
   },
   {
    "duration": 289,
    "start_time": "2025-05-07T22:07:46.713Z"
   },
   {
    "duration": 101,
    "start_time": "2025-05-07T22:07:47.012Z"
   },
   {
    "duration": 279,
    "start_time": "2025-05-07T22:07:47.115Z"
   },
   {
    "duration": 5,
    "start_time": "2025-05-07T22:07:47.396Z"
   },
   {
    "duration": 372,
    "start_time": "2025-05-07T22:07:47.402Z"
   },
   {
    "duration": 114,
    "start_time": "2025-05-07T22:07:47.775Z"
   },
   {
    "duration": 290,
    "start_time": "2025-05-07T22:07:47.891Z"
   },
   {
    "duration": 6,
    "start_time": "2025-05-07T22:07:48.182Z"
   },
   {
    "duration": 5,
    "start_time": "2025-05-07T22:07:48.189Z"
   },
   {
    "duration": 310,
    "start_time": "2025-05-07T22:07:48.211Z"
   },
   {
    "duration": 106,
    "start_time": "2025-05-07T22:07:48.522Z"
   },
   {
    "duration": 3,
    "start_time": "2025-05-07T22:07:48.630Z"
   },
   {
    "duration": 3,
    "start_time": "2025-05-07T22:07:48.634Z"
   },
   {
    "duration": 217,
    "start_time": "2025-05-07T23:09:33.726Z"
   },
   {
    "duration": 5,
    "start_time": "2025-05-07T23:13:29.929Z"
   },
   {
    "duration": 12,
    "start_time": "2025-05-07T23:37:52.088Z"
   },
   {
    "duration": 13,
    "start_time": "2025-05-07T23:49:35.738Z"
   },
   {
    "duration": 6,
    "start_time": "2025-05-07T23:49:51.537Z"
   },
   {
    "duration": 8,
    "start_time": "2025-05-07T23:50:58.630Z"
   },
   {
    "duration": 14,
    "start_time": "2025-05-08T00:34:44.390Z"
   },
   {
    "duration": 5,
    "start_time": "2025-05-08T00:35:40.153Z"
   },
   {
    "duration": 5,
    "start_time": "2025-05-08T00:36:57.341Z"
   },
   {
    "duration": 7,
    "start_time": "2025-05-08T00:40:47.440Z"
   },
   {
    "duration": 18,
    "start_time": "2025-05-08T00:40:57.189Z"
   },
   {
    "duration": 6,
    "start_time": "2025-05-08T00:41:07.408Z"
   },
   {
    "duration": 390,
    "start_time": "2025-05-08T00:41:11.303Z"
   },
   {
    "duration": 309,
    "start_time": "2025-05-08T00:42:16.586Z"
   },
   {
    "duration": 12,
    "start_time": "2025-05-08T00:50:06.875Z"
   },
   {
    "duration": 7,
    "start_time": "2025-05-08T00:56:05.114Z"
   },
   {
    "duration": 2,
    "start_time": "2025-05-08T00:56:44.868Z"
   },
   {
    "duration": 5,
    "start_time": "2025-05-08T01:15:19.256Z"
   },
   {
    "duration": 5,
    "start_time": "2025-05-08T01:15:30.149Z"
   },
   {
    "duration": 6,
    "start_time": "2025-05-08T01:16:05.125Z"
   },
   {
    "duration": 5,
    "start_time": "2025-05-08T01:20:26.251Z"
   },
   {
    "duration": 4,
    "start_time": "2025-05-08T01:22:04.153Z"
   },
   {
    "duration": 5,
    "start_time": "2025-05-08T01:22:21.965Z"
   },
   {
    "duration": 2618,
    "start_time": "2025-05-09T16:11:36.696Z"
   },
   {
    "duration": 234,
    "start_time": "2025-05-09T16:11:39.316Z"
   },
   {
    "duration": 10,
    "start_time": "2025-05-09T16:11:39.551Z"
   },
   {
    "duration": 6,
    "start_time": "2025-05-09T16:11:39.563Z"
   },
   {
    "duration": 7,
    "start_time": "2025-05-09T16:11:39.571Z"
   },
   {
    "duration": 6,
    "start_time": "2025-05-09T16:11:39.580Z"
   },
   {
    "duration": 19,
    "start_time": "2025-05-09T16:11:39.587Z"
   },
   {
    "duration": 17,
    "start_time": "2025-05-09T16:11:39.608Z"
   },
   {
    "duration": 15,
    "start_time": "2025-05-09T16:11:39.627Z"
   },
   {
    "duration": 6,
    "start_time": "2025-05-09T16:11:39.645Z"
   },
   {
    "duration": 115,
    "start_time": "2025-05-09T16:11:39.653Z"
   },
   {
    "duration": 35,
    "start_time": "2025-05-09T16:11:39.770Z"
   },
   {
    "duration": 13,
    "start_time": "2025-05-09T16:11:39.807Z"
   },
   {
    "duration": 6,
    "start_time": "2025-05-09T16:11:39.822Z"
   },
   {
    "duration": 66,
    "start_time": "2025-05-09T16:11:39.830Z"
   },
   {
    "duration": 18,
    "start_time": "2025-05-09T16:11:39.897Z"
   },
   {
    "duration": 13,
    "start_time": "2025-05-09T16:11:39.917Z"
   },
   {
    "duration": 8,
    "start_time": "2025-05-09T16:11:39.932Z"
   },
   {
    "duration": 91,
    "start_time": "2025-05-09T16:11:39.942Z"
   },
   {
    "duration": 22,
    "start_time": "2025-05-09T16:11:40.035Z"
   },
   {
    "duration": 10,
    "start_time": "2025-05-09T16:11:40.059Z"
   },
   {
    "duration": 16,
    "start_time": "2025-05-09T16:11:40.086Z"
   },
   {
    "duration": 24,
    "start_time": "2025-05-09T16:11:40.103Z"
   },
   {
    "duration": 19,
    "start_time": "2025-05-09T16:11:40.129Z"
   },
   {
    "duration": 44,
    "start_time": "2025-05-09T16:11:40.150Z"
   },
   {
    "duration": 18,
    "start_time": "2025-05-09T16:11:40.196Z"
   },
   {
    "duration": 14,
    "start_time": "2025-05-09T16:11:40.216Z"
   },
   {
    "duration": 12,
    "start_time": "2025-05-09T16:11:40.235Z"
   },
   {
    "duration": 49,
    "start_time": "2025-05-09T16:11:40.249Z"
   },
   {
    "duration": 13,
    "start_time": "2025-05-09T16:11:40.300Z"
   },
   {
    "duration": 18,
    "start_time": "2025-05-09T16:11:40.315Z"
   },
   {
    "duration": 12,
    "start_time": "2025-05-09T16:11:40.335Z"
   },
   {
    "duration": 8,
    "start_time": "2025-05-09T16:11:40.348Z"
   },
   {
    "duration": 46,
    "start_time": "2025-05-09T16:11:40.357Z"
   },
   {
    "duration": 15,
    "start_time": "2025-05-09T16:11:40.404Z"
   },
   {
    "duration": 4,
    "start_time": "2025-05-09T16:11:40.421Z"
   },
   {
    "duration": 207,
    "start_time": "2025-05-09T16:11:40.427Z"
   },
   {
    "duration": 4,
    "start_time": "2025-05-09T16:11:40.636Z"
   },
   {
    "duration": 328,
    "start_time": "2025-05-09T16:11:40.641Z"
   },
   {
    "duration": 15,
    "start_time": "2025-05-09T16:11:40.971Z"
   },
   {
    "duration": 309,
    "start_time": "2025-05-09T16:11:40.990Z"
   },
   {
    "duration": 4,
    "start_time": "2025-05-09T16:11:41.301Z"
   },
   {
    "duration": 5,
    "start_time": "2025-05-09T16:11:41.307Z"
   },
   {
    "duration": 4,
    "start_time": "2025-05-09T16:11:41.315Z"
   },
   {
    "duration": 104,
    "start_time": "2025-05-09T16:11:41.321Z"
   },
   {
    "duration": 115,
    "start_time": "2025-05-09T16:11:41.427Z"
   },
   {
    "duration": 297,
    "start_time": "2025-05-09T16:11:41.543Z"
   },
   {
    "duration": 5,
    "start_time": "2025-05-09T16:11:41.842Z"
   },
   {
    "duration": 323,
    "start_time": "2025-05-09T16:11:41.849Z"
   },
   {
    "duration": 114,
    "start_time": "2025-05-09T16:11:42.174Z"
   },
   {
    "duration": 304,
    "start_time": "2025-05-09T16:11:42.290Z"
   },
   {
    "duration": 6,
    "start_time": "2025-05-09T16:11:42.596Z"
   },
   {
    "duration": 375,
    "start_time": "2025-05-09T16:11:42.603Z"
   },
   {
    "duration": 121,
    "start_time": "2025-05-09T16:11:42.986Z"
   },
   {
    "duration": 283,
    "start_time": "2025-05-09T16:11:43.109Z"
   },
   {
    "duration": 5,
    "start_time": "2025-05-09T16:11:43.394Z"
   },
   {
    "duration": 4,
    "start_time": "2025-05-09T16:11:43.401Z"
   },
   {
    "duration": 334,
    "start_time": "2025-05-09T16:11:43.407Z"
   },
   {
    "duration": 112,
    "start_time": "2025-05-09T16:11:43.743Z"
   },
   {
    "duration": 5,
    "start_time": "2025-05-09T16:11:43.858Z"
   },
   {
    "duration": 22,
    "start_time": "2025-05-09T16:11:43.865Z"
   },
   {
    "duration": 230,
    "start_time": "2025-05-09T16:11:43.889Z"
   },
   {
    "duration": 0,
    "start_time": "2025-05-09T16:11:44.120Z"
   },
   {
    "duration": 4,
    "start_time": "2025-05-09T16:12:02.987Z"
   },
   {
    "duration": 4,
    "start_time": "2025-05-09T16:12:07.223Z"
   },
   {
    "duration": 10,
    "start_time": "2025-05-09T23:38:18.109Z"
   },
   {
    "duration": 4,
    "start_time": "2025-05-09T23:52:20.067Z"
   },
   {
    "duration": 162,
    "start_time": "2025-05-10T00:24:16.202Z"
   },
   {
    "duration": 13,
    "start_time": "2025-05-10T00:24:27.677Z"
   },
   {
    "duration": 2598,
    "start_time": "2025-05-10T00:24:35.849Z"
   },
   {
    "duration": 234,
    "start_time": "2025-05-10T00:24:38.449Z"
   },
   {
    "duration": 10,
    "start_time": "2025-05-10T00:24:38.685Z"
   },
   {
    "duration": 7,
    "start_time": "2025-05-10T00:24:38.698Z"
   },
   {
    "duration": 9,
    "start_time": "2025-05-10T00:24:38.707Z"
   },
   {
    "duration": 7,
    "start_time": "2025-05-10T00:24:38.718Z"
   },
   {
    "duration": 13,
    "start_time": "2025-05-10T00:24:38.726Z"
   },
   {
    "duration": 15,
    "start_time": "2025-05-10T00:24:38.742Z"
   },
   {
    "duration": 16,
    "start_time": "2025-05-10T00:24:38.758Z"
   },
   {
    "duration": 7,
    "start_time": "2025-05-10T00:24:38.810Z"
   },
   {
    "duration": 106,
    "start_time": "2025-05-10T00:24:38.819Z"
   },
   {
    "duration": 28,
    "start_time": "2025-05-10T00:24:38.926Z"
   },
   {
    "duration": 13,
    "start_time": "2025-05-10T00:24:38.956Z"
   },
   {
    "duration": 6,
    "start_time": "2025-05-10T00:24:38.970Z"
   },
   {
    "duration": 76,
    "start_time": "2025-05-10T00:24:38.977Z"
   },
   {
    "duration": 18,
    "start_time": "2025-05-10T00:24:39.055Z"
   },
   {
    "duration": 14,
    "start_time": "2025-05-10T00:24:39.075Z"
   },
   {
    "duration": 25,
    "start_time": "2025-05-10T00:24:39.090Z"
   },
   {
    "duration": 77,
    "start_time": "2025-05-10T00:24:39.117Z"
   },
   {
    "duration": 36,
    "start_time": "2025-05-10T00:24:39.196Z"
   },
   {
    "duration": 9,
    "start_time": "2025-05-10T00:24:39.234Z"
   },
   {
    "duration": 15,
    "start_time": "2025-05-10T00:24:39.245Z"
   },
   {
    "duration": 22,
    "start_time": "2025-05-10T00:24:39.261Z"
   },
   {
    "duration": 19,
    "start_time": "2025-05-10T00:24:39.309Z"
   },
   {
    "duration": 12,
    "start_time": "2025-05-10T00:24:39.330Z"
   },
   {
    "duration": 13,
    "start_time": "2025-05-10T00:24:39.344Z"
   },
   {
    "duration": 15,
    "start_time": "2025-05-10T00:24:39.358Z"
   },
   {
    "duration": 42,
    "start_time": "2025-05-10T00:24:39.377Z"
   },
   {
    "duration": 20,
    "start_time": "2025-05-10T00:24:39.421Z"
   },
   {
    "duration": 13,
    "start_time": "2025-05-10T00:24:39.442Z"
   },
   {
    "duration": 17,
    "start_time": "2025-05-10T00:24:39.457Z"
   },
   {
    "duration": 40,
    "start_time": "2025-05-10T00:24:39.476Z"
   },
   {
    "duration": 8,
    "start_time": "2025-05-10T00:24:39.517Z"
   },
   {
    "duration": 15,
    "start_time": "2025-05-10T00:24:39.526Z"
   },
   {
    "duration": 15,
    "start_time": "2025-05-10T00:24:39.543Z"
   },
   {
    "duration": 3,
    "start_time": "2025-05-10T00:24:39.560Z"
   },
   {
    "duration": 148,
    "start_time": "2025-05-10T00:24:39.565Z"
   },
   {
    "duration": 3,
    "start_time": "2025-05-10T00:24:39.715Z"
   },
   {
    "duration": 292,
    "start_time": "2025-05-10T00:24:39.719Z"
   },
   {
    "duration": 5,
    "start_time": "2025-05-10T00:24:40.013Z"
   },
   {
    "duration": 390,
    "start_time": "2025-05-10T00:24:40.019Z"
   },
   {
    "duration": 4,
    "start_time": "2025-05-10T00:24:40.411Z"
   },
   {
    "duration": 4,
    "start_time": "2025-05-10T00:24:40.417Z"
   },
   {
    "duration": 4,
    "start_time": "2025-05-10T00:24:40.423Z"
   },
   {
    "duration": 101,
    "start_time": "2025-05-10T00:24:40.429Z"
   },
   {
    "duration": 109,
    "start_time": "2025-05-10T00:24:40.532Z"
   },
   {
    "duration": 271,
    "start_time": "2025-05-10T00:24:40.643Z"
   },
   {
    "duration": 5,
    "start_time": "2025-05-10T00:24:40.916Z"
   },
   {
    "duration": 325,
    "start_time": "2025-05-10T00:24:40.922Z"
   },
   {
    "duration": 104,
    "start_time": "2025-05-10T00:24:41.249Z"
   },
   {
    "duration": 312,
    "start_time": "2025-05-10T00:24:41.355Z"
   },
   {
    "duration": 6,
    "start_time": "2025-05-10T00:24:41.669Z"
   },
   {
    "duration": 321,
    "start_time": "2025-05-10T00:24:41.677Z"
   },
   {
    "duration": 182,
    "start_time": "2025-05-10T00:24:41.999Z"
   },
   {
    "duration": 295,
    "start_time": "2025-05-10T00:24:42.183Z"
   },
   {
    "duration": 6,
    "start_time": "2025-05-10T00:24:42.479Z"
   },
   {
    "duration": 4,
    "start_time": "2025-05-10T00:24:42.488Z"
   },
   {
    "duration": 305,
    "start_time": "2025-05-10T00:24:42.494Z"
   },
   {
    "duration": 108,
    "start_time": "2025-05-10T00:24:42.801Z"
   },
   {
    "duration": 5,
    "start_time": "2025-05-10T00:24:42.911Z"
   },
   {
    "duration": 7,
    "start_time": "2025-05-10T00:24:42.918Z"
   },
   {
    "duration": 4,
    "start_time": "2025-05-10T00:24:42.926Z"
   },
   {
    "duration": 4,
    "start_time": "2025-05-10T00:24:42.932Z"
   },
   {
    "duration": 18,
    "start_time": "2025-05-10T00:30:39.376Z"
   },
   {
    "duration": 14,
    "start_time": "2025-05-10T00:33:20.041Z"
   },
   {
    "duration": 15,
    "start_time": "2025-05-10T00:33:32.664Z"
   },
   {
    "duration": 16,
    "start_time": "2025-05-10T00:33:55.263Z"
   },
   {
    "duration": 6,
    "start_time": "2025-05-10T00:34:25.582Z"
   },
   {
    "duration": 33,
    "start_time": "2025-05-10T00:42:16.612Z"
   },
   {
    "duration": 28,
    "start_time": "2025-05-10T00:43:04.447Z"
   },
   {
    "duration": 4,
    "start_time": "2025-05-10T01:21:20.651Z"
   },
   {
    "duration": 12,
    "start_time": "2025-05-10T01:22:57.972Z"
   },
   {
    "duration": 11,
    "start_time": "2025-05-10T01:23:13.705Z"
   },
   {
    "duration": 11,
    "start_time": "2025-05-10T01:24:28.619Z"
   },
   {
    "duration": 14,
    "start_time": "2025-05-10T01:25:20.899Z"
   },
   {
    "duration": 3,
    "start_time": "2025-05-10T01:26:58.350Z"
   },
   {
    "duration": 4,
    "start_time": "2025-05-10T01:27:42.515Z"
   },
   {
    "duration": 134,
    "start_time": "2025-05-10T01:27:58.104Z"
   },
   {
    "duration": 19,
    "start_time": "2025-05-10T01:28:33.227Z"
   },
   {
    "duration": 15,
    "start_time": "2025-05-10T01:30:03.214Z"
   },
   {
    "duration": 10,
    "start_time": "2025-05-10T01:46:44.402Z"
   },
   {
    "duration": 5,
    "start_time": "2025-05-10T01:47:54.501Z"
   },
   {
    "duration": 26,
    "start_time": "2025-05-10T01:48:17.925Z"
   },
   {
    "duration": 25,
    "start_time": "2025-05-10T01:49:41.945Z"
   },
   {
    "duration": 11,
    "start_time": "2025-05-10T01:49:48.214Z"
   },
   {
    "duration": 4,
    "start_time": "2025-05-10T01:49:48.917Z"
   },
   {
    "duration": 25,
    "start_time": "2025-05-10T01:49:54.658Z"
   },
   {
    "duration": 211,
    "start_time": "2025-05-10T01:51:06.146Z"
   },
   {
    "duration": 31,
    "start_time": "2025-05-10T01:51:16.463Z"
   },
   {
    "duration": 27,
    "start_time": "2025-05-10T01:51:33.436Z"
   },
   {
    "duration": 4,
    "start_time": "2025-05-10T02:13:09.378Z"
   },
   {
    "duration": 5,
    "start_time": "2025-05-10T02:13:23.502Z"
   },
   {
    "duration": 16,
    "start_time": "2025-05-10T02:15:00.918Z"
   },
   {
    "duration": 33,
    "start_time": "2025-05-10T02:15:42.783Z"
   },
   {
    "duration": 16,
    "start_time": "2025-05-10T02:16:01.395Z"
   },
   {
    "duration": 22,
    "start_time": "2025-05-10T02:16:08.568Z"
   },
   {
    "duration": 10,
    "start_time": "2025-05-10T02:19:34.958Z"
   },
   {
    "duration": 18,
    "start_time": "2025-05-10T02:19:53.782Z"
   },
   {
    "duration": 882,
    "start_time": "2025-05-10T02:23:30.616Z"
   },
   {
    "duration": 159,
    "start_time": "2025-05-10T02:23:31.500Z"
   },
   {
    "duration": 10,
    "start_time": "2025-05-10T02:23:31.661Z"
   },
   {
    "duration": 6,
    "start_time": "2025-05-10T02:23:31.674Z"
   },
   {
    "duration": 3,
    "start_time": "2025-05-10T02:23:31.682Z"
   },
   {
    "duration": 5,
    "start_time": "2025-05-10T02:23:31.688Z"
   },
   {
    "duration": 8,
    "start_time": "2025-05-10T02:23:31.709Z"
   },
   {
    "duration": 5,
    "start_time": "2025-05-10T02:23:31.718Z"
   },
   {
    "duration": 16,
    "start_time": "2025-05-10T02:23:31.725Z"
   },
   {
    "duration": 13,
    "start_time": "2025-05-10T02:23:31.743Z"
   },
   {
    "duration": 16,
    "start_time": "2025-05-10T02:23:31.757Z"
   },
   {
    "duration": 49,
    "start_time": "2025-05-10T02:23:31.774Z"
   },
   {
    "duration": 7,
    "start_time": "2025-05-10T02:23:31.825Z"
   },
   {
    "duration": 31,
    "start_time": "2025-05-10T02:23:31.833Z"
   },
   {
    "duration": 44,
    "start_time": "2025-05-10T02:23:31.865Z"
   },
   {
    "duration": 5,
    "start_time": "2025-05-10T02:23:31.911Z"
   },
   {
    "duration": 10,
    "start_time": "2025-05-10T02:23:31.917Z"
   },
   {
    "duration": 4,
    "start_time": "2025-05-10T02:23:31.929Z"
   },
   {
    "duration": 10,
    "start_time": "2025-05-10T02:23:31.935Z"
   },
   {
    "duration": 5,
    "start_time": "2025-05-10T02:23:31.946Z"
   },
   {
    "duration": 108,
    "start_time": "2025-05-10T02:23:31.953Z"
   },
   {
    "duration": 22,
    "start_time": "2025-05-10T02:23:32.063Z"
   },
   {
    "duration": 27,
    "start_time": "2025-05-10T02:23:32.087Z"
   },
   {
    "duration": 6,
    "start_time": "2025-05-10T02:23:32.115Z"
   },
   {
    "duration": 14,
    "start_time": "2025-05-10T02:23:32.122Z"
   },
   {
    "duration": 43,
    "start_time": "2025-05-10T02:23:32.138Z"
   },
   {
    "duration": 43,
    "start_time": "2025-05-10T02:23:32.182Z"
   },
   {
    "duration": 15,
    "start_time": "2025-05-10T02:23:32.230Z"
   },
   {
    "duration": 6,
    "start_time": "2025-05-10T02:23:32.246Z"
   },
   {
    "duration": 55,
    "start_time": "2025-05-10T02:23:32.254Z"
   },
   {
    "duration": 14,
    "start_time": "2025-05-10T02:23:32.311Z"
   },
   {
    "duration": 9,
    "start_time": "2025-05-10T02:23:32.327Z"
   },
   {
    "duration": 13,
    "start_time": "2025-05-10T02:23:32.338Z"
   },
   {
    "duration": 87,
    "start_time": "2025-05-10T02:23:32.353Z"
   },
   {
    "duration": 21,
    "start_time": "2025-05-10T02:23:32.442Z"
   },
   {
    "duration": 10,
    "start_time": "2025-05-10T02:23:32.465Z"
   },
   {
    "duration": 37,
    "start_time": "2025-05-10T02:23:32.476Z"
   },
   {
    "duration": 18,
    "start_time": "2025-05-10T02:23:32.516Z"
   },
   {
    "duration": 14,
    "start_time": "2025-05-10T02:23:32.536Z"
   },
   {
    "duration": 12,
    "start_time": "2025-05-10T02:23:32.552Z"
   },
   {
    "duration": 11,
    "start_time": "2025-05-10T02:23:32.566Z"
   },
   {
    "duration": 15,
    "start_time": "2025-05-10T02:23:32.608Z"
   },
   {
    "duration": 13,
    "start_time": "2025-05-10T02:23:32.624Z"
   },
   {
    "duration": 20,
    "start_time": "2025-05-10T02:23:32.638Z"
   },
   {
    "duration": 14,
    "start_time": "2025-05-10T02:23:32.659Z"
   },
   {
    "duration": 47,
    "start_time": "2025-05-10T02:23:32.675Z"
   },
   {
    "duration": 12,
    "start_time": "2025-05-10T02:23:32.723Z"
   },
   {
    "duration": 8,
    "start_time": "2025-05-10T02:23:32.736Z"
   },
   {
    "duration": 16,
    "start_time": "2025-05-10T02:23:32.746Z"
   },
   {
    "duration": 45,
    "start_time": "2025-05-10T02:23:32.764Z"
   },
   {
    "duration": 5,
    "start_time": "2025-05-10T02:23:32.811Z"
   },
   {
    "duration": 181,
    "start_time": "2025-05-10T02:23:32.817Z"
   },
   {
    "duration": 4,
    "start_time": "2025-05-10T02:23:33.000Z"
   },
   {
    "duration": 282,
    "start_time": "2025-05-10T02:23:33.005Z"
   },
   {
    "duration": 6,
    "start_time": "2025-05-10T02:23:33.289Z"
   },
   {
    "duration": 304,
    "start_time": "2025-05-10T02:23:33.310Z"
   },
   {
    "duration": 5,
    "start_time": "2025-05-10T02:23:33.616Z"
   },
   {
    "duration": 4,
    "start_time": "2025-05-10T02:23:33.622Z"
   },
   {
    "duration": 4,
    "start_time": "2025-05-10T02:23:33.628Z"
   },
   {
    "duration": 102,
    "start_time": "2025-05-10T02:23:33.634Z"
   },
   {
    "duration": 116,
    "start_time": "2025-05-10T02:23:33.738Z"
   },
   {
    "duration": 276,
    "start_time": "2025-05-10T02:23:33.855Z"
   },
   {
    "duration": 6,
    "start_time": "2025-05-10T02:23:34.133Z"
   },
   {
    "duration": 313,
    "start_time": "2025-05-10T02:23:34.140Z"
   },
   {
    "duration": 161,
    "start_time": "2025-05-10T02:23:34.454Z"
   },
   {
    "duration": 282,
    "start_time": "2025-05-10T02:23:34.617Z"
   },
   {
    "duration": 5,
    "start_time": "2025-05-10T02:23:34.910Z"
   },
   {
    "duration": 292,
    "start_time": "2025-05-10T02:23:34.917Z"
   },
   {
    "duration": 105,
    "start_time": "2025-05-10T02:23:35.212Z"
   },
   {
    "duration": 264,
    "start_time": "2025-05-10T02:23:35.319Z"
   },
   {
    "duration": 5,
    "start_time": "2025-05-10T02:23:35.585Z"
   },
   {
    "duration": 17,
    "start_time": "2025-05-10T02:23:35.592Z"
   },
   {
    "duration": 298,
    "start_time": "2025-05-10T02:23:35.612Z"
   },
   {
    "duration": 105,
    "start_time": "2025-05-10T02:23:35.912Z"
   },
   {
    "duration": 5,
    "start_time": "2025-05-10T02:23:36.019Z"
   },
   {
    "duration": 7,
    "start_time": "2025-05-10T02:23:36.026Z"
   },
   {
    "duration": 4,
    "start_time": "2025-05-10T02:23:36.034Z"
   },
   {
    "duration": 4,
    "start_time": "2025-05-10T02:23:36.040Z"
   },
   {
    "duration": 8,
    "start_time": "2025-05-10T02:25:39.431Z"
   },
   {
    "duration": 24,
    "start_time": "2025-05-10T02:28:27.877Z"
   },
   {
    "duration": 16,
    "start_time": "2025-05-10T02:29:24.908Z"
   },
   {
    "duration": 22,
    "start_time": "2025-05-10T02:29:35.742Z"
   },
   {
    "duration": 5,
    "start_time": "2025-05-10T02:34:55.656Z"
   },
   {
    "duration": 287,
    "start_time": "2025-05-10T02:35:10.273Z"
   },
   {
    "duration": 386,
    "start_time": "2025-05-10T02:35:16.350Z"
   },
   {
    "duration": 9,
    "start_time": "2025-05-10T02:36:14.498Z"
   },
   {
    "duration": 4,
    "start_time": "2025-05-10T02:36:18.652Z"
   },
   {
    "duration": 4,
    "start_time": "2025-05-10T02:37:36.325Z"
   },
   {
    "duration": 12,
    "start_time": "2025-05-10T02:37:54.623Z"
   },
   {
    "duration": 6,
    "start_time": "2025-05-10T02:38:02.832Z"
   },
   {
    "duration": 4,
    "start_time": "2025-05-10T02:40:57.251Z"
   },
   {
    "duration": 4,
    "start_time": "2025-05-10T02:40:57.992Z"
   },
   {
    "duration": 9,
    "start_time": "2025-05-10T02:40:58.616Z"
   },
   {
    "duration": 9,
    "start_time": "2025-05-10T02:41:17.286Z"
   },
   {
    "duration": 308,
    "start_time": "2025-05-10T02:41:17.910Z"
   },
   {
    "duration": 220,
    "start_time": "2025-05-10T02:43:52.368Z"
   },
   {
    "duration": 377,
    "start_time": "2025-05-10T02:44:09.311Z"
   },
   {
    "duration": 46,
    "start_time": "2025-05-10T02:45:09.654Z"
   },
   {
    "duration": 4,
    "start_time": "2025-05-10T02:45:53.214Z"
   },
   {
    "duration": 5,
    "start_time": "2025-05-10T02:46:53.448Z"
   },
   {
    "duration": 6,
    "start_time": "2025-05-10T02:51:21.346Z"
   },
   {
    "duration": 3,
    "start_time": "2025-05-10T02:54:42.122Z"
   },
   {
    "duration": 5,
    "start_time": "2025-05-10T02:56:42.924Z"
   },
   {
    "duration": 330,
    "start_time": "2025-05-10T02:56:46.660Z"
   },
   {
    "duration": 223,
    "start_time": "2025-05-10T02:57:08.602Z"
   },
   {
    "duration": 6,
    "start_time": "2025-05-10T02:58:08.015Z"
   },
   {
    "duration": 5,
    "start_time": "2025-05-10T02:58:08.449Z"
   },
   {
    "duration": 6,
    "start_time": "2025-05-10T02:58:09.208Z"
   },
   {
    "duration": 520,
    "start_time": "2025-05-10T02:58:10.343Z"
   },
   {
    "duration": 398,
    "start_time": "2025-05-10T02:59:24.925Z"
   },
   {
    "duration": 7,
    "start_time": "2025-05-10T03:01:05.014Z"
   },
   {
    "duration": 5,
    "start_time": "2025-05-10T03:01:33.274Z"
   },
   {
    "duration": 5,
    "start_time": "2025-05-10T03:01:34.753Z"
   },
   {
    "duration": 522,
    "start_time": "2025-05-10T03:02:36.628Z"
   },
   {
    "duration": 328,
    "start_time": "2025-05-10T03:02:58.589Z"
   },
   {
    "duration": 38,
    "start_time": "2025-05-10T03:04:41.112Z"
   },
   {
    "duration": 8,
    "start_time": "2025-05-10T03:05:28.778Z"
   },
   {
    "duration": 8,
    "start_time": "2025-05-10T03:14:09.890Z"
   },
   {
    "duration": 10,
    "start_time": "2025-05-10T03:47:56.045Z"
   },
   {
    "duration": 6,
    "start_time": "2025-05-10T03:48:09.477Z"
   },
   {
    "duration": 10,
    "start_time": "2025-05-10T03:48:10.569Z"
   },
   {
    "duration": 6,
    "start_time": "2025-05-10T03:48:47.012Z"
   },
   {
    "duration": 8,
    "start_time": "2025-05-10T03:48:56.087Z"
   },
   {
    "duration": 8,
    "start_time": "2025-05-10T03:49:07.230Z"
   },
   {
    "duration": 7,
    "start_time": "2025-05-10T03:57:53.232Z"
   },
   {
    "duration": 8,
    "start_time": "2025-05-10T03:58:49.919Z"
   },
   {
    "duration": 302,
    "start_time": "2025-05-10T04:00:46.977Z"
   },
   {
    "duration": 2,
    "start_time": "2025-05-10T04:01:25.589Z"
   },
   {
    "duration": 7,
    "start_time": "2025-05-10T04:02:30.105Z"
   },
   {
    "duration": 8,
    "start_time": "2025-05-10T04:05:52.442Z"
   },
   {
    "duration": 8,
    "start_time": "2025-05-10T19:28:19.317Z"
   }
  ],
  "colab": {
   "provenance": []
  },
  "kernelspec": {
   "display_name": "Python 3",
   "language": "python",
   "name": "python3"
  },
  "language_info": {
   "codemirror_mode": {
    "name": "ipython",
    "version": 3
   },
   "file_extension": ".py",
   "mimetype": "text/x-python",
   "name": "python",
   "nbconvert_exporter": "python",
   "pygments_lexer": "ipython3",
   "version": "3.8.5"
  },
  "toc": {
   "base_numbering": 1,
   "nav_menu": {},
   "number_sections": true,
   "sideBar": true,
   "skip_h1_title": false,
   "title_cell": "Table of Contents",
   "title_sidebar": "Contents",
   "toc_cell": false,
   "toc_position": {
    "height": "calc(100% - 180px)",
    "left": "10px",
    "top": "150px",
    "width": "286px"
   },
   "toc_section_display": true,
   "toc_window_display": true
  }
 },
 "nbformat": 4,
 "nbformat_minor": 1
}
